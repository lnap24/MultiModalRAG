{
 "cells": [
  {
   "cell_type": "markdown",
   "id": "83c947a007cad28d",
   "metadata": {},
   "source": [
    "# Model Initiation"
   ]
  },
  {
   "cell_type": "code",
   "execution_count": 1,
   "id": "ddfc3040225af5c0",
   "metadata": {
    "ExecuteTime": {
     "end_time": "2025-02-10T23:21:07.124617Z",
     "start_time": "2025-02-10T23:21:03.463845Z"
    }
   },
   "outputs": [],
   "source": [
    "import sys\n",
    "\n",
    "from transformers import CLIPProcessor, CLIPModel\n",
    "from PIL import Image\n",
    "import torch\n",
    "\n",
    "clip_model = CLIPModel.from_pretrained(\"openai/clip-vit-base-patch32\")\n",
    "clip_processor = CLIPProcessor.from_pretrained(\"openai/clip-vit-base-patch32\")\n"
   ]
  },
  {
   "cell_type": "markdown",
   "id": "850f3e0ff70af3f3",
   "metadata": {},
   "source": [
    "# Load the Necessary API Keys"
   ]
  },
  {
   "cell_type": "code",
   "execution_count": 3,
   "id": "445467849134e21d",
   "metadata": {
    "ExecuteTime": {
     "end_time": "2025-02-10T23:21:07.949878Z",
     "start_time": "2025-02-10T23:21:07.942705Z"
    }
   },
   "outputs": [],
   "source": [
    "from dotenv import load_dotenv\n",
    "import os\n",
    "\n",
    "load_dotenv()\n",
    "\n",
    "huggingface_api_key = os.getenv(\"hugging_face_key\")\n",
    "pinecone_key = os.getenv(\"pinecone_api_key\")\n",
    "mongo_uri = os.getenv(\"mongo_db_key\")\n",
    "open_ai_key = os.getenv(\"open_ai_api_key\")\n"
   ]
  },
  {
   "cell_type": "markdown",
   "id": "716b6d3055e0e9d0",
   "metadata": {},
   "source": [
    "# Set-up/Connect to Pinecone"
   ]
  },
  {
   "cell_type": "code",
   "execution_count": 5,
   "id": "2d87d8c5dce624bb",
   "metadata": {
    "ExecuteTime": {
     "end_time": "2025-02-10T23:21:09.908956Z",
     "start_time": "2025-02-10T23:21:08.844804Z"
    }
   },
   "outputs": [],
   "source": [
    "#create index\n",
    "from pinecone import Pinecone, ServerlessSpec\n",
    "from langchain_pinecone import PineconeVectorStore\n",
    "\n",
    "pc = Pinecone(api_key=pinecone_key)\n",
    "index_name = \"rag-app-images\"\n",
    "\n",
    "\n",
    "if index_name not in pc.list_indexes().names():\n",
    "    pc.create_index(\n",
    "        name = index_name,\n",
    "        dimension=512,\n",
    "        metric=\"cosine\",\n",
    "        spec=ServerlessSpec(cloud = \"aws\", region=\"us-east-1\")\n",
    "    )\n",
    "\n",
    "index = pc.Index(index_name)\n",
    "\n",
    "#vector_store = PineconeVectorStore(embedding=embeddings, index=index)"
   ]
  },
  {
   "cell_type": "code",
   "execution_count": 6,
   "id": "10e2863a8ad23085",
   "metadata": {
    "ExecuteTime": {
     "end_time": "2025-02-10T23:21:10.425555Z",
     "start_time": "2025-02-10T23:21:10.347778Z"
    }
   },
   "outputs": [
    {
     "data": {
      "text/plain": [
       "{'type': 'user',\n",
       " 'id': '66d5147ab005ad82ca47182f',\n",
       " 'name': 'dorukozar',\n",
       " 'fullname': 'Doruk Ozar',\n",
       " 'email': 'dorukozar@gmail.com',\n",
       " 'emailVerified': True,\n",
       " 'canPay': False,\n",
       " 'periodEnd': None,\n",
       " 'isPro': False,\n",
       " 'avatarUrl': '/avatars/06335824f9a6991ec7b901b31802dd5b.svg',\n",
       " 'orgs': [],\n",
       " 'auth': {'type': 'access_token',\n",
       "  'accessToken': {'displayName': 'Presentation',\n",
       "   'role': 'read',\n",
       "   'createdAt': '2025-01-16T00:00:59.134Z'}}}"
      ]
     },
     "execution_count": 6,
     "metadata": {},
     "output_type": "execute_result"
    }
   ],
   "source": [
    "from huggingface_hub import login\n",
    "from huggingface_hub import whoami\n",
    "\n",
    "login(huggingface_api_key)\n",
    "whoami()"
   ]
  },
  {
   "cell_type": "code",
   "execution_count": 7,
   "id": "fbe76ebc37081441",
   "metadata": {
    "ExecuteTime": {
     "end_time": "2025-02-10T23:21:12.320965Z",
     "start_time": "2025-02-10T23:21:10.857335Z"
    }
   },
   "outputs": [],
   "source": [
    "from langchain_huggingface import HuggingFaceEmbeddings\n",
    "\n",
    "huggingface_embeddings = HuggingFaceEmbeddings(model_name=\"sentence-transformers/all-mpnet-base-v2\")"
   ]
  },
  {
   "cell_type": "code",
   "execution_count": 8,
   "id": "2d1a513e1f6c997e",
   "metadata": {
    "ExecuteTime": {
     "end_time": "2025-02-10T23:21:13.142046Z",
     "start_time": "2025-02-10T23:21:12.782016Z"
    }
   },
   "outputs": [],
   "source": [
    "#create index\n",
    "from pinecone import Pinecone, ServerlessSpec\n",
    "from langchain_pinecone import PineconeVectorStore\n",
    "\n",
    "pc = Pinecone(api_key=pinecone_key)\n",
    "index_name = \"rag-app\"\n",
    "\n",
    "\n",
    "if index_name not in pc.list_indexes().names():\n",
    "    pc.create_index(\n",
    "        name = index_name,\n",
    "        dimension=768,\n",
    "        metric=\"cosine\",\n",
    "        spec=ServerlessSpec(cloud = \"aws\", region=\"us-east-1\")\n",
    "    )\n",
    "\n",
    "index_text = pc.Index(index_name)\n",
    "\n",
    "vector_store_text = PineconeVectorStore(embedding=huggingface_embeddings, index=index_text)"
   ]
  },
  {
   "cell_type": "code",
   "execution_count": 9,
   "id": "73d668c8639195bc",
   "metadata": {
    "ExecuteTime": {
     "end_time": "2025-02-10T23:21:16.134171Z",
     "start_time": "2025-02-10T23:21:13.222267Z"
    }
   },
   "outputs": [
    {
     "name": "stderr",
     "output_type": "stream",
     "text": [
      "huggingface/tokenizers: The current process just got forked, after parallelism has already been used. Disabling parallelism to avoid deadlocks...\n",
      "To disable this warning, you can either:\n",
      "\t- Avoid using `tokenizers` before the fork if possible\n",
      "\t- Explicitly set the environment variable TOKENIZERS_PARALLELISM=(true | false)\n"
     ]
    },
    {
     "data": {
      "text/plain": [
       "[Document(id='3fa65848-c8ee-43e9-8856-541127519cf5', metadata={'source_id': 'ML_Overview.txt'}, page_content=\"getting very specific into the models i mean there's there's another step right here it might be like semi-supervised or reinforcement but generally we have two really broad categories supervised and unsupervised the difference between these is very simple supervised has labels we know where the data comes from and we know what the target classes are and unsupervised does not all right and we're going to talk about this a little bit more detail here as i get into some examples but that's it i mean this is just categorized right this is not all right much of the advancements when we think of like in the ai systems or advances in technology all come from labeled data right so it's you have armies of intern somewhere labeling it whether it's a dog or a hot dog somewhere right we pass all those all those images in and a machine knows it or anything the same for ibm or the deep blue or the other really famous uh kind of ai machines that uh that you think of right they all learn to play\"),\n",
       " Document(id='d430a942-eb49-4161-b6d2-6928625bc72e', metadata={'source_id': 'TheElementsofStatisticalLearningDataMining,InferenceandPrediction'}, page_content='of each of the variables.\\nAs discussed above, unsupervised learning is concerned with revealing\\nproperties of the data density g(x). Each technique focuses on a particu-\\nlar property or set of properties. Although this approach of transforming\\nthe problem to one of supervised learning (14.10)–(14.14) seems to have\\nbeen part of the statistics folklore for some time, it does not appear to\\nhave had much impact despite its potential to bring well-developed su-\\npervised learning methodology to bear on unsupervised learning problems.\\nOne reason may be that the problem must be enlarged with a simulated\\ndata set generated by Monte Carlo techniques. Since the size of this data\\nset should be at least as large as the data sample N0 ≥N, the compu-\\ntation and memory requirements of the estimation procedure are at least\\ndoubled. Also, substantial computation may be required to generate the\\nMonte Carlo sample itself. Although perhaps a deterrent in the past, these'),\n",
       " Document(id='a389a54a-1f83-4c9c-a1dd-236653d10f6a', metadata={'source_id': 'Clustering_4.22.txt'}, page_content=\"okay so uh this morning we're going to talk about what this morning during this video we're going to talk about unsupervised machine learning that has us over here you guys have seen this slide before we've been mostly doing supervised already k n and we did decision trees but now we're going to move into unsupervised which as a reminder means you know we just don't have any labels all right no labels on the data that means we have to identify these patterns without necessarily a target to match them to okay so the one approach that we're going to use in this and there are many is is clustering and that's a pretty large space as well but we're going to do k-means which is actually something we've seen before if you remember we walked through this example right where we have a random string of numbers and the ideas that we need to maximize the distance between these two clusters right we're saying we have two clusters and so we keep trading the numbers back and forth right between the\"),\n",
       " Document(id='75538974-44c3-4fbd-9f7b-58dfc1cba198', metadata={'source_id': 'Clustering_4.22.txt'}, page_content=\"materials on top of it but they didn't realize it was going to look like this ahead of time that's the idea behind unsupervised machine learning you don't really know what you don't know right you don't know what it's going to look like up front and then when you get it it requires a bit of a qualitative interpretation like what does this necessarily mean like okay so we see these groups great but what's going on there all right and that's where kind of uh your subject matter expertise starts to come in or you have to dig deeper into what exactly is you know what do these clusters mean you know how can we look at the different variables that are composing them and then uh and start to develop a strategy around them all right so in a lot of ways i think this is fair unsupervised machine learning is much more complicated than supervised machine learning because it requires kind of you know multiple steps along the way right we do all the same data preparation you know we build the\"),\n",
       " Document(id='b456f18f-a877-422e-b2b5-1f95b1d1e4f0', metadata={'source_id': 'Overview_ML_and_Clustering_InClass_3.21'}, page_content='Machine Learning Overview, EDA and Clustering\\nBrian Wright\\nbrianwright@virginia.edu1. What is Machine Learning ?\\n2. What is exploratory data analysis?\\n3. k-means clustering\\n– Does Congress vote in patterns?\\n4. Multi-dimensional k-means clustering\\n– Are NBA players compensated according to performance?\\nOutline: Intro to Unsupervised ML\\n2“A field of Computer Science that gives computers the ability to learn\\nwithout being explicitly programmed.”\\n-\\nArthur Samuel (Coined the term in 1959 at IBM)\\n“The ability [for systems] to acquire their own knowledge, by\\nextracting patterns from raw data.”\\n-\\nDeep Learning, Goodfellow et alMachine vs. human\\nMachine\\nHuman\\nUnderstanding context\\n✔\\nThinking through the problem\\n✔\\nAsking the right questions\\n✔\\nSelecting the right tools\\n✔\\nPerforming calculations quickly\\n✔\\nPerforming repetitive tasks\\n✔\\nFollowing pre-defined rules\\n✔\\nInterpreting results\\n✔5Pattern discovery when inputs (x) and outputs (y) are known\\nSupervised machine learning\\nInput x:\\nVoter\\nOutput y:')]"
      ]
     },
     "execution_count": 9,
     "metadata": {},
     "output_type": "execute_result"
    }
   ],
   "source": [
    "user_query = \"What is supervised and unsupervised machine learning?\"\n",
    "retriever = vector_store_text.as_retriever(search_kwargs={\"k\":5})\n",
    "# retriever.get_relevant_documents(query)\n",
    "retrieved_docs = retriever.invoke(user_query)\n",
    "retrieved_docs"
   ]
  },
  {
   "cell_type": "code",
   "execution_count": 10,
   "id": "236fb65fb085b2e0",
   "metadata": {
    "ExecuteTime": {
     "end_time": "2025-02-10T23:21:16.818198Z",
     "start_time": "2025-02-10T23:21:16.814275Z"
    }
   },
   "outputs": [
    {
     "name": "stdout",
     "output_type": "stream",
     "text": [
      "getting very specific into the models i mean there's there's another step right here it might be like semi-supervised or reinforcement but generally we have two really broad categories supervised and unsupervised the difference between these is very simple supervised has labels we know where the data comes from and we know what the target classes are and unsupervised does not all right and we're going to talk about this a little bit more detail here as i get into some examples but that's it i mean this is just categorized right this is not all right much of the advancements when we think of like in the ai systems or advances in technology all come from labeled data right so it's you have armies of intern somewhere labeling it whether it's a dog or a hot dog somewhere right we pass all those all those images in and a machine knows it or anything the same for ibm or the deep blue or the other really famous uh kind of ai machines that uh that you think of right they all learn to play\n",
      "\n",
      "of each of the variables.\n",
      "As discussed above, unsupervised learning is concerned with revealing\n",
      "properties of the data density g(x). Each technique focuses on a particu-\n",
      "lar property or set of properties. Although this approach of transforming\n",
      "the problem to one of supervised learning (14.10)–(14.14) seems to have\n",
      "been part of the statistics folklore for some time, it does not appear to\n",
      "have had much impact despite its potential to bring well-developed su-\n",
      "pervised learning methodology to bear on unsupervised learning problems.\n",
      "One reason may be that the problem must be enlarged with a simulated\n",
      "data set generated by Monte Carlo techniques. Since the size of this data\n",
      "set should be at least as large as the data sample N0 ≥N, the compu-\n",
      "tation and memory requirements of the estimation procedure are at least\n",
      "doubled. Also, substantial computation may be required to generate the\n",
      "Monte Carlo sample itself. Although perhaps a deterrent in the past, these\n",
      "\n",
      "okay so uh this morning we're going to talk about what this morning during this video we're going to talk about unsupervised machine learning that has us over here you guys have seen this slide before we've been mostly doing supervised already k n and we did decision trees but now we're going to move into unsupervised which as a reminder means you know we just don't have any labels all right no labels on the data that means we have to identify these patterns without necessarily a target to match them to okay so the one approach that we're going to use in this and there are many is is clustering and that's a pretty large space as well but we're going to do k-means which is actually something we've seen before if you remember we walked through this example right where we have a random string of numbers and the ideas that we need to maximize the distance between these two clusters right we're saying we have two clusters and so we keep trading the numbers back and forth right between the\n",
      "\n",
      "materials on top of it but they didn't realize it was going to look like this ahead of time that's the idea behind unsupervised machine learning you don't really know what you don't know right you don't know what it's going to look like up front and then when you get it it requires a bit of a qualitative interpretation like what does this necessarily mean like okay so we see these groups great but what's going on there all right and that's where kind of uh your subject matter expertise starts to come in or you have to dig deeper into what exactly is you know what do these clusters mean you know how can we look at the different variables that are composing them and then uh and start to develop a strategy around them all right so in a lot of ways i think this is fair unsupervised machine learning is much more complicated than supervised machine learning because it requires kind of you know multiple steps along the way right we do all the same data preparation you know we build the\n",
      "\n",
      "Machine Learning Overview, EDA and Clustering\n",
      "Brian Wright\n",
      "brianwright@virginia.edu1. What is Machine Learning ?\n",
      "2. What is exploratory data analysis?\n",
      "3. k-means clustering\n",
      "– Does Congress vote in patterns?\n",
      "4. Multi-dimensional k-means clustering\n",
      "– Are NBA players compensated according to performance?\n",
      "Outline: Intro to Unsupervised ML\n",
      "2“A field of Computer Science that gives computers the ability to learn\n",
      "without being explicitly programmed.”\n",
      "-\n",
      "Arthur Samuel (Coined the term in 1959 at IBM)\n",
      "“The ability [for systems] to acquire their own knowledge, by\n",
      "extracting patterns from raw data.”\n",
      "-\n",
      "Deep Learning, Goodfellow et alMachine vs. human\n",
      "Machine\n",
      "Human\n",
      "Understanding context\n",
      "✔\n",
      "Thinking through the problem\n",
      "✔\n",
      "Asking the right questions\n",
      "✔\n",
      "Selecting the right tools\n",
      "✔\n",
      "Performing calculations quickly\n",
      "✔\n",
      "Performing repetitive tasks\n",
      "✔\n",
      "Following pre-defined rules\n",
      "✔\n",
      "Interpreting results\n",
      "✔5Pattern discovery when inputs (x) and outputs (y) are known\n",
      "Supervised machine learning\n",
      "Input x:\n",
      "Voter\n",
      "Output y:\n"
     ]
    }
   ],
   "source": [
    "def format_docs(docs):\n",
    "    return \"\\n\\n\".join(doc.page_content for doc in docs)\n",
    "\n",
    "print(format_docs(retrieved_docs))"
   ]
  },
  {
   "cell_type": "markdown",
   "id": "2e2b8c59dea09d8",
   "metadata": {},
   "source": [
    "# Embed the query"
   ]
  },
  {
   "cell_type": "code",
   "execution_count": 11,
   "id": "87a06198d92826bf",
   "metadata": {
    "ExecuteTime": {
     "end_time": "2025-02-10T23:21:18.369874Z",
     "start_time": "2025-02-10T23:21:18.319020Z"
    }
   },
   "outputs": [],
   "source": [
    "inputs = clip_processor(text=[user_query], return_tensors=\"pt\", padding=True)\n",
    "text_embedding = clip_model.get_text_features(**inputs).detach().numpy().tolist()[0]"
   ]
  },
  {
   "cell_type": "markdown",
   "id": "4fafe291424f1c99",
   "metadata": {},
   "source": [
    "# Query the Pinecone vector db and return top 5 matches"
   ]
  },
  {
   "cell_type": "code",
   "execution_count": 12,
   "id": "ad6971ecde8670d6",
   "metadata": {
    "ExecuteTime": {
     "end_time": "2025-02-10T23:21:19.472625Z",
     "start_time": "2025-02-10T23:21:19.359418Z"
    }
   },
   "outputs": [],
   "source": [
    "query_results = index.query(vector=text_embedding, top_k=5, include_metadata=True)"
   ]
  },
  {
   "cell_type": "code",
   "execution_count": 13,
   "id": "e76cdfc92d9ad6bf",
   "metadata": {
    "ExecuteTime": {
     "end_time": "2025-02-10T23:21:20.407070Z",
     "start_time": "2025-02-10T23:21:20.404030Z"
    }
   },
   "outputs": [
    {
     "data": {
      "text/plain": [
       "[{'id': '3001_ETA/page_9_img_2.png',\n",
       "  'metadata': {'file_name': '3001_ETA', 'image_key': 'page_9_img_2.png'},\n",
       "  'score': 0.334316969,\n",
       "  'values': []},\n",
       " {'id': 'machine_learning_bootcamp_II/page_8_img_1.png',\n",
       "  'metadata': {'file_name': 'machine_learning_bootcamp_II',\n",
       "               'image_key': 'page_8_img_1.png'},\n",
       "  'score': 0.322387695,\n",
       "  'values': []},\n",
       " {'id': 'machine_learning_overview/page_8_img_1.png',\n",
       "  'metadata': {'file_name': 'machine_learning_overview',\n",
       "               'image_key': 'page_8_img_1.png'},\n",
       "  'score': 0.322387695,\n",
       "  'values': []},\n",
       " {'id': 'machine_learning_III/page_8_img_1.png',\n",
       "  'metadata': {'file_name': 'machine_learning_III',\n",
       "               'image_key': 'page_8_img_1.png'},\n",
       "  'score': 0.322387695,\n",
       "  'values': []},\n",
       " {'id': 'machine_learning_bootcamp_II copy/page_8_img_1.png',\n",
       "  'metadata': {'file_name': 'machine_learning_bootcamp_II copy',\n",
       "               'image_key': 'page_8_img_1.png'},\n",
       "  'score': 0.322387695,\n",
       "  'values': []}]"
      ]
     },
     "execution_count": 13,
     "metadata": {},
     "output_type": "execute_result"
    }
   ],
   "source": [
    "query_results[\"matches\"]"
   ]
  },
  {
   "cell_type": "markdown",
   "id": "8d92e0000c8d1050",
   "metadata": {},
   "source": [
    "# Connect to Mongodb"
   ]
  },
  {
   "cell_type": "code",
   "execution_count": 14,
   "id": "8af376f705e4db3b",
   "metadata": {
    "ExecuteTime": {
     "end_time": "2025-02-10T23:21:21.825533Z",
     "start_time": "2025-02-10T23:21:21.657004Z"
    }
   },
   "outputs": [
    {
     "name": "stdout",
     "output_type": "stream",
     "text": [
      "Connected to MongoDB successfully!\n"
     ]
    }
   ],
   "source": [
    "from pymongo import MongoClient\n",
    "import gridfs\n",
    "\n",
    "client = MongoClient(mongo_uri)\n",
    "\n",
    "#client = MongoClient(MONGO_URI)\n",
    "\n",
    "db = client[\"images\"]\n",
    "\n",
    "collection = db[\"images_for_rag\"]\n",
    "\n",
    "print(\"Connected to MongoDB successfully!\")"
   ]
  },
  {
   "cell_type": "code",
   "execution_count": 15,
   "id": "3733ade1dcfdc1f6",
   "metadata": {
    "ExecuteTime": {
     "end_time": "2025-02-10T23:21:22.863281Z",
     "start_time": "2025-02-10T23:21:22.860583Z"
    }
   },
   "outputs": [],
   "source": [
    "#file_names_list = os.listdir(\"data_processed\")\n",
    "\n",
    "fs = gridfs.GridFS(db)\n",
    "\n"
   ]
  },
  {
   "cell_type": "markdown",
   "id": "43b34bcd62d43dc0",
   "metadata": {},
   "source": [
    "# Query MongDB"
   ]
  },
  {
   "cell_type": "code",
   "execution_count": 17,
   "id": "2edaa7fcdf7d18a5",
   "metadata": {
    "ExecuteTime": {
     "end_time": "2025-02-10T23:21:25.845834Z",
     "start_time": "2025-02-10T23:21:24.072110Z"
    }
   },
   "outputs": [
    {
     "ename": "KeyboardInterrupt",
     "evalue": "",
     "output_type": "error",
     "traceback": [
      "\u001b[0;31m---------------------------------------------------------------------------\u001b[0m",
      "\u001b[0;31mKeyboardInterrupt\u001b[0m                         Traceback (most recent call last)",
      "Cell \u001b[0;32mIn[17], line 5\u001b[0m\n\u001b[1;32m      3\u001b[0m \u001b[38;5;28;01mfor\u001b[39;00m i \u001b[38;5;129;01min\u001b[39;00m query_results[\u001b[38;5;124m\"\u001b[39m\u001b[38;5;124mmatches\u001b[39m\u001b[38;5;124m\"\u001b[39m]:\n\u001b[1;32m      4\u001b[0m     filename \u001b[38;5;241m=\u001b[39m i[\u001b[38;5;124m\"\u001b[39m\u001b[38;5;124mid\u001b[39m\u001b[38;5;124m\"\u001b[39m]\n\u001b[0;32m----> 5\u001b[0m     image_data \u001b[38;5;241m=\u001b[39m \u001b[43mfs\u001b[49m\u001b[38;5;241;43m.\u001b[39;49m\u001b[43mfind_one\u001b[49m\u001b[43m(\u001b[49m\u001b[43m{\u001b[49m\u001b[38;5;124;43m\"\u001b[39;49m\u001b[38;5;124;43mfilename\u001b[39;49m\u001b[38;5;124;43m\"\u001b[39;49m\u001b[43m:\u001b[49m\u001b[43m \u001b[49m\u001b[43mfilename\u001b[49m\u001b[43m}\u001b[49m\u001b[43m)\u001b[49m\n\u001b[1;32m      6\u001b[0m     image_data_list\u001b[38;5;241m.\u001b[39mappend(image_data)\n",
      "File \u001b[0;32m/Library/Frameworks/Python.framework/Versions/3.9/lib/python3.9/site-packages/gridfs/__init__.py:327\u001b[0m, in \u001b[0;36mGridFS.find_one\u001b[0;34m(self, filter, session, *args, **kwargs)\u001b[0m\n\u001b[1;32m    324\u001b[0m     \u001b[38;5;28mfilter\u001b[39m \u001b[38;5;241m=\u001b[39m {\u001b[38;5;124m\"\u001b[39m\u001b[38;5;124m_id\u001b[39m\u001b[38;5;124m\"\u001b[39m: \u001b[38;5;28mfilter\u001b[39m}\n\u001b[1;32m    326\u001b[0m _disallow_transactions(session)\n\u001b[0;32m--> 327\u001b[0m \u001b[38;5;28;01mfor\u001b[39;00m f \u001b[38;5;129;01min\u001b[39;00m \u001b[38;5;28mself\u001b[39m\u001b[38;5;241m.\u001b[39mfind(\u001b[38;5;28mfilter\u001b[39m, \u001b[38;5;241m*\u001b[39margs, session\u001b[38;5;241m=\u001b[39msession, \u001b[38;5;241m*\u001b[39m\u001b[38;5;241m*\u001b[39mkwargs):\n\u001b[1;32m    328\u001b[0m     \u001b[38;5;28;01mreturn\u001b[39;00m f\n\u001b[1;32m    330\u001b[0m \u001b[38;5;28;01mreturn\u001b[39;00m \u001b[38;5;28;01mNone\u001b[39;00m\n",
      "File \u001b[0;32m/Library/Frameworks/Python.framework/Versions/3.9/lib/python3.9/site-packages/gridfs/grid_file.py:951\u001b[0m, in \u001b[0;36mGridOutCursor.next\u001b[0;34m(self)\u001b[0m\n\u001b[1;32m    949\u001b[0m \u001b[38;5;250m\u001b[39m\u001b[38;5;124;03m\"\"\"Get next GridOut object from cursor.\"\"\"\u001b[39;00m\n\u001b[1;32m    950\u001b[0m _disallow_transactions(\u001b[38;5;28mself\u001b[39m\u001b[38;5;241m.\u001b[39msession)\n\u001b[0;32m--> 951\u001b[0m next_file \u001b[38;5;241m=\u001b[39m \u001b[38;5;28;43msuper\u001b[39;49m\u001b[43m(\u001b[49m\u001b[43m)\u001b[49m\u001b[38;5;241;43m.\u001b[39;49m\u001b[43mnext\u001b[49m\u001b[43m(\u001b[49m\u001b[43m)\u001b[49m\n\u001b[1;32m    952\u001b[0m \u001b[38;5;28;01mreturn\u001b[39;00m GridOut(\u001b[38;5;28mself\u001b[39m\u001b[38;5;241m.\u001b[39m__root_collection, file_document\u001b[38;5;241m=\u001b[39mnext_file, session\u001b[38;5;241m=\u001b[39m\u001b[38;5;28mself\u001b[39m\u001b[38;5;241m.\u001b[39msession)\n",
      "File \u001b[0;32m/Library/Frameworks/Python.framework/Versions/3.9/lib/python3.9/site-packages/pymongo/cursor.py:1243\u001b[0m, in \u001b[0;36mCursor.next\u001b[0;34m(self)\u001b[0m\n\u001b[1;32m   1241\u001b[0m \u001b[38;5;28;01mif\u001b[39;00m \u001b[38;5;28mself\u001b[39m\u001b[38;5;241m.\u001b[39m__empty:\n\u001b[1;32m   1242\u001b[0m     \u001b[38;5;28;01mraise\u001b[39;00m \u001b[38;5;167;01mStopIteration\u001b[39;00m\n\u001b[0;32m-> 1243\u001b[0m \u001b[38;5;28;01mif\u001b[39;00m \u001b[38;5;28mlen\u001b[39m(\u001b[38;5;28mself\u001b[39m\u001b[38;5;241m.\u001b[39m__data) \u001b[38;5;129;01mor\u001b[39;00m \u001b[38;5;28;43mself\u001b[39;49m\u001b[38;5;241;43m.\u001b[39;49m\u001b[43m_refresh\u001b[49m\u001b[43m(\u001b[49m\u001b[43m)\u001b[49m:\n\u001b[1;32m   1244\u001b[0m     \u001b[38;5;28;01mreturn\u001b[39;00m \u001b[38;5;28mself\u001b[39m\u001b[38;5;241m.\u001b[39m__data\u001b[38;5;241m.\u001b[39mpopleft()\n\u001b[1;32m   1245\u001b[0m \u001b[38;5;28;01melse\u001b[39;00m:\n",
      "File \u001b[0;32m/Library/Frameworks/Python.framework/Versions/3.9/lib/python3.9/site-packages/pymongo/cursor.py:1160\u001b[0m, in \u001b[0;36mCursor._refresh\u001b[0;34m(self)\u001b[0m\n\u001b[1;32m   1138\u001b[0m         \u001b[38;5;28;01mraise\u001b[39;00m InvalidOperation(\n\u001b[1;32m   1139\u001b[0m             \u001b[38;5;124m\"\u001b[39m\u001b[38;5;124mPassing a \u001b[39m\u001b[38;5;124m'\u001b[39m\u001b[38;5;124mhint\u001b[39m\u001b[38;5;124m'\u001b[39m\u001b[38;5;124m is required when using the min/max query\u001b[39m\u001b[38;5;124m\"\u001b[39m\n\u001b[1;32m   1140\u001b[0m             \u001b[38;5;124m\"\u001b[39m\u001b[38;5;124m option to ensure the query utilizes the correct index\u001b[39m\u001b[38;5;124m\"\u001b[39m\n\u001b[1;32m   1141\u001b[0m         )\n\u001b[1;32m   1142\u001b[0m     q \u001b[38;5;241m=\u001b[39m \u001b[38;5;28mself\u001b[39m\u001b[38;5;241m.\u001b[39m_query_class(\n\u001b[1;32m   1143\u001b[0m         \u001b[38;5;28mself\u001b[39m\u001b[38;5;241m.\u001b[39m__query_flags,\n\u001b[1;32m   1144\u001b[0m         \u001b[38;5;28mself\u001b[39m\u001b[38;5;241m.\u001b[39m__collection\u001b[38;5;241m.\u001b[39mdatabase\u001b[38;5;241m.\u001b[39mname,\n\u001b[0;32m   (...)\u001b[0m\n\u001b[1;32m   1158\u001b[0m         \u001b[38;5;28mself\u001b[39m\u001b[38;5;241m.\u001b[39m__exhaust,\n\u001b[1;32m   1159\u001b[0m     )\n\u001b[0;32m-> 1160\u001b[0m     \u001b[38;5;28;43mself\u001b[39;49m\u001b[38;5;241;43m.\u001b[39;49m\u001b[43m__send_message\u001b[49m\u001b[43m(\u001b[49m\u001b[43mq\u001b[49m\u001b[43m)\u001b[49m\n\u001b[1;32m   1161\u001b[0m \u001b[38;5;28;01melif\u001b[39;00m \u001b[38;5;28mself\u001b[39m\u001b[38;5;241m.\u001b[39m__id:  \u001b[38;5;66;03m# Get More\u001b[39;00m\n\u001b[1;32m   1162\u001b[0m     \u001b[38;5;28;01mif\u001b[39;00m \u001b[38;5;28mself\u001b[39m\u001b[38;5;241m.\u001b[39m__limit:\n",
      "File \u001b[0;32m/Library/Frameworks/Python.framework/Versions/3.9/lib/python3.9/site-packages/pymongo/cursor.py:1039\u001b[0m, in \u001b[0;36mCursor.__send_message\u001b[0;34m(self, operation)\u001b[0m\n\u001b[1;32m   1036\u001b[0m     \u001b[38;5;28;01mraise\u001b[39;00m InvalidOperation(\u001b[38;5;124m\"\u001b[39m\u001b[38;5;124mexhaust cursors do not support auto encryption\u001b[39m\u001b[38;5;124m\"\u001b[39m)\n\u001b[1;32m   1038\u001b[0m \u001b[38;5;28;01mtry\u001b[39;00m:\n\u001b[0;32m-> 1039\u001b[0m     response \u001b[38;5;241m=\u001b[39m \u001b[43mclient\u001b[49m\u001b[38;5;241;43m.\u001b[39;49m\u001b[43m_run_operation\u001b[49m\u001b[43m(\u001b[49m\n\u001b[1;32m   1040\u001b[0m \u001b[43m        \u001b[49m\u001b[43moperation\u001b[49m\u001b[43m,\u001b[49m\u001b[43m \u001b[49m\u001b[38;5;28;43mself\u001b[39;49m\u001b[38;5;241;43m.\u001b[39;49m\u001b[43m_unpack_response\u001b[49m\u001b[43m,\u001b[49m\u001b[43m \u001b[49m\u001b[43maddress\u001b[49m\u001b[38;5;241;43m=\u001b[39;49m\u001b[38;5;28;43mself\u001b[39;49m\u001b[38;5;241;43m.\u001b[39;49m\u001b[43m__address\u001b[49m\n\u001b[1;32m   1041\u001b[0m \u001b[43m    \u001b[49m\u001b[43m)\u001b[49m\n\u001b[1;32m   1042\u001b[0m \u001b[38;5;28;01mexcept\u001b[39;00m OperationFailure \u001b[38;5;28;01mas\u001b[39;00m exc:\n\u001b[1;32m   1043\u001b[0m     \u001b[38;5;28;01mif\u001b[39;00m exc\u001b[38;5;241m.\u001b[39mcode \u001b[38;5;129;01min\u001b[39;00m _CURSOR_CLOSED_ERRORS \u001b[38;5;129;01mor\u001b[39;00m \u001b[38;5;28mself\u001b[39m\u001b[38;5;241m.\u001b[39m__exhaust:\n\u001b[1;32m   1044\u001b[0m         \u001b[38;5;66;03m# Don't send killCursors because the cursor is already closed.\u001b[39;00m\n",
      "File \u001b[0;32m/Library/Frameworks/Python.framework/Versions/3.9/lib/python3.9/site-packages/pymongo/_csot.py:108\u001b[0m, in \u001b[0;36mapply.<locals>.csot_wrapper\u001b[0;34m(self, *args, **kwargs)\u001b[0m\n\u001b[1;32m    106\u001b[0m         \u001b[38;5;28;01mwith\u001b[39;00m _TimeoutContext(timeout):\n\u001b[1;32m    107\u001b[0m             \u001b[38;5;28;01mreturn\u001b[39;00m func(\u001b[38;5;28mself\u001b[39m, \u001b[38;5;241m*\u001b[39margs, \u001b[38;5;241m*\u001b[39m\u001b[38;5;241m*\u001b[39mkwargs)\n\u001b[0;32m--> 108\u001b[0m \u001b[38;5;28;01mreturn\u001b[39;00m \u001b[43mfunc\u001b[49m\u001b[43m(\u001b[49m\u001b[38;5;28;43mself\u001b[39;49m\u001b[43m,\u001b[49m\u001b[43m \u001b[49m\u001b[38;5;241;43m*\u001b[39;49m\u001b[43margs\u001b[49m\u001b[43m,\u001b[49m\u001b[43m \u001b[49m\u001b[38;5;241;43m*\u001b[39;49m\u001b[38;5;241;43m*\u001b[39;49m\u001b[43mkwargs\u001b[49m\u001b[43m)\u001b[49m\n",
      "File \u001b[0;32m/Library/Frameworks/Python.framework/Versions/3.9/lib/python3.9/site-packages/pymongo/mongo_client.py:1431\u001b[0m, in \u001b[0;36mMongoClient._run_operation\u001b[0;34m(self, operation, unpack_res, address)\u001b[0m\n\u001b[1;32m   1421\u001b[0m     operation\u001b[38;5;241m.\u001b[39mreset()  \u001b[38;5;66;03m# Reset op in case of retry.\u001b[39;00m\n\u001b[1;32m   1422\u001b[0m     \u001b[38;5;28;01mreturn\u001b[39;00m server\u001b[38;5;241m.\u001b[39mrun_operation(\n\u001b[1;32m   1423\u001b[0m         conn,\n\u001b[1;32m   1424\u001b[0m         operation,\n\u001b[0;32m   (...)\u001b[0m\n\u001b[1;32m   1428\u001b[0m         \u001b[38;5;28mself\u001b[39m,\n\u001b[1;32m   1429\u001b[0m     )\n\u001b[0;32m-> 1431\u001b[0m \u001b[38;5;28;01mreturn\u001b[39;00m \u001b[38;5;28;43mself\u001b[39;49m\u001b[38;5;241;43m.\u001b[39;49m\u001b[43m_retryable_read\u001b[49m\u001b[43m(\u001b[49m\n\u001b[1;32m   1432\u001b[0m \u001b[43m    \u001b[49m\u001b[43m_cmd\u001b[49m\u001b[43m,\u001b[49m\n\u001b[1;32m   1433\u001b[0m \u001b[43m    \u001b[49m\u001b[43moperation\u001b[49m\u001b[38;5;241;43m.\u001b[39;49m\u001b[43mread_preference\u001b[49m\u001b[43m,\u001b[49m\n\u001b[1;32m   1434\u001b[0m \u001b[43m    \u001b[49m\u001b[43moperation\u001b[49m\u001b[38;5;241;43m.\u001b[39;49m\u001b[43msession\u001b[49m\u001b[43m,\u001b[49m\n\u001b[1;32m   1435\u001b[0m \u001b[43m    \u001b[49m\u001b[43maddress\u001b[49m\u001b[38;5;241;43m=\u001b[39;49m\u001b[43maddress\u001b[49m\u001b[43m,\u001b[49m\n\u001b[1;32m   1436\u001b[0m \u001b[43m    \u001b[49m\u001b[43mretryable\u001b[49m\u001b[38;5;241;43m=\u001b[39;49m\u001b[38;5;28;43misinstance\u001b[39;49m\u001b[43m(\u001b[49m\u001b[43moperation\u001b[49m\u001b[43m,\u001b[49m\u001b[43m \u001b[49m\u001b[43mmessage\u001b[49m\u001b[38;5;241;43m.\u001b[39;49m\u001b[43m_Query\u001b[49m\u001b[43m)\u001b[49m\u001b[43m,\u001b[49m\n\u001b[1;32m   1437\u001b[0m \u001b[43m    \u001b[49m\u001b[43moperation\u001b[49m\u001b[38;5;241;43m=\u001b[39;49m\u001b[43moperation\u001b[49m\u001b[38;5;241;43m.\u001b[39;49m\u001b[43mname\u001b[49m\u001b[43m,\u001b[49m\n\u001b[1;32m   1438\u001b[0m \u001b[43m\u001b[49m\u001b[43m)\u001b[49m\n",
      "File \u001b[0;32m/Library/Frameworks/Python.framework/Versions/3.9/lib/python3.9/site-packages/pymongo/mongo_client.py:1540\u001b[0m, in \u001b[0;36mMongoClient._retryable_read\u001b[0;34m(self, func, read_pref, session, operation, address, retryable, operation_id)\u001b[0m\n\u001b[1;32m   1535\u001b[0m \u001b[38;5;66;03m# Ensure that the client supports retrying on reads and there is no session in\u001b[39;00m\n\u001b[1;32m   1536\u001b[0m \u001b[38;5;66;03m# transaction, otherwise, we will not support retry behavior for this call.\u001b[39;00m\n\u001b[1;32m   1537\u001b[0m retryable \u001b[38;5;241m=\u001b[39m \u001b[38;5;28mbool\u001b[39m(\n\u001b[1;32m   1538\u001b[0m     retryable \u001b[38;5;129;01mand\u001b[39;00m \u001b[38;5;28mself\u001b[39m\u001b[38;5;241m.\u001b[39moptions\u001b[38;5;241m.\u001b[39mretry_reads \u001b[38;5;129;01mand\u001b[39;00m \u001b[38;5;129;01mnot\u001b[39;00m (session \u001b[38;5;129;01mand\u001b[39;00m session\u001b[38;5;241m.\u001b[39min_transaction)\n\u001b[1;32m   1539\u001b[0m )\n\u001b[0;32m-> 1540\u001b[0m \u001b[38;5;28;01mreturn\u001b[39;00m \u001b[38;5;28;43mself\u001b[39;49m\u001b[38;5;241;43m.\u001b[39;49m\u001b[43m_retry_internal\u001b[49m\u001b[43m(\u001b[49m\n\u001b[1;32m   1541\u001b[0m \u001b[43m    \u001b[49m\u001b[43mfunc\u001b[49m\u001b[43m,\u001b[49m\n\u001b[1;32m   1542\u001b[0m \u001b[43m    \u001b[49m\u001b[43msession\u001b[49m\u001b[43m,\u001b[49m\n\u001b[1;32m   1543\u001b[0m \u001b[43m    \u001b[49m\u001b[38;5;28;43;01mNone\u001b[39;49;00m\u001b[43m,\u001b[49m\n\u001b[1;32m   1544\u001b[0m \u001b[43m    \u001b[49m\u001b[43moperation\u001b[49m\u001b[43m,\u001b[49m\n\u001b[1;32m   1545\u001b[0m \u001b[43m    \u001b[49m\u001b[43mis_read\u001b[49m\u001b[38;5;241;43m=\u001b[39;49m\u001b[38;5;28;43;01mTrue\u001b[39;49;00m\u001b[43m,\u001b[49m\n\u001b[1;32m   1546\u001b[0m \u001b[43m    \u001b[49m\u001b[43maddress\u001b[49m\u001b[38;5;241;43m=\u001b[39;49m\u001b[43maddress\u001b[49m\u001b[43m,\u001b[49m\n\u001b[1;32m   1547\u001b[0m \u001b[43m    \u001b[49m\u001b[43mread_pref\u001b[49m\u001b[38;5;241;43m=\u001b[39;49m\u001b[43mread_pref\u001b[49m\u001b[43m,\u001b[49m\n\u001b[1;32m   1548\u001b[0m \u001b[43m    \u001b[49m\u001b[43mretryable\u001b[49m\u001b[38;5;241;43m=\u001b[39;49m\u001b[43mretryable\u001b[49m\u001b[43m,\u001b[49m\n\u001b[1;32m   1549\u001b[0m \u001b[43m    \u001b[49m\u001b[43moperation_id\u001b[49m\u001b[38;5;241;43m=\u001b[39;49m\u001b[43moperation_id\u001b[49m\u001b[43m,\u001b[49m\n\u001b[1;32m   1550\u001b[0m \u001b[43m\u001b[49m\u001b[43m)\u001b[49m\n",
      "File \u001b[0;32m/Library/Frameworks/Python.framework/Versions/3.9/lib/python3.9/site-packages/pymongo/_csot.py:108\u001b[0m, in \u001b[0;36mapply.<locals>.csot_wrapper\u001b[0;34m(self, *args, **kwargs)\u001b[0m\n\u001b[1;32m    106\u001b[0m         \u001b[38;5;28;01mwith\u001b[39;00m _TimeoutContext(timeout):\n\u001b[1;32m    107\u001b[0m             \u001b[38;5;28;01mreturn\u001b[39;00m func(\u001b[38;5;28mself\u001b[39m, \u001b[38;5;241m*\u001b[39margs, \u001b[38;5;241m*\u001b[39m\u001b[38;5;241m*\u001b[39mkwargs)\n\u001b[0;32m--> 108\u001b[0m \u001b[38;5;28;01mreturn\u001b[39;00m \u001b[43mfunc\u001b[49m\u001b[43m(\u001b[49m\u001b[38;5;28;43mself\u001b[39;49m\u001b[43m,\u001b[49m\u001b[43m \u001b[49m\u001b[38;5;241;43m*\u001b[39;49m\u001b[43margs\u001b[49m\u001b[43m,\u001b[49m\u001b[43m \u001b[49m\u001b[38;5;241;43m*\u001b[39;49m\u001b[38;5;241;43m*\u001b[39;49m\u001b[43mkwargs\u001b[49m\u001b[43m)\u001b[49m\n",
      "File \u001b[0;32m/Library/Frameworks/Python.framework/Versions/3.9/lib/python3.9/site-packages/pymongo/mongo_client.py:1496\u001b[0m, in \u001b[0;36mMongoClient._retry_internal\u001b[0;34m(self, func, session, bulk, operation, is_read, address, read_pref, retryable, operation_id)\u001b[0m\n\u001b[1;32m   1470\u001b[0m \u001b[38;5;129m@_csot\u001b[39m\u001b[38;5;241m.\u001b[39mapply\n\u001b[1;32m   1471\u001b[0m \u001b[38;5;28;01mdef\u001b[39;00m \u001b[38;5;21m_retry_internal\u001b[39m(\n\u001b[1;32m   1472\u001b[0m     \u001b[38;5;28mself\u001b[39m,\n\u001b[0;32m   (...)\u001b[0m\n\u001b[1;32m   1481\u001b[0m     operation_id: Optional[\u001b[38;5;28mint\u001b[39m] \u001b[38;5;241m=\u001b[39m \u001b[38;5;28;01mNone\u001b[39;00m,\n\u001b[1;32m   1482\u001b[0m ) \u001b[38;5;241m-\u001b[39m\u001b[38;5;241m>\u001b[39m T:\n\u001b[1;32m   1483\u001b[0m \u001b[38;5;250m    \u001b[39m\u001b[38;5;124;03m\"\"\"Internal retryable helper for all client transactions.\u001b[39;00m\n\u001b[1;32m   1484\u001b[0m \n\u001b[1;32m   1485\u001b[0m \u001b[38;5;124;03m    :param func: Callback function we want to retry\u001b[39;00m\n\u001b[0;32m   (...)\u001b[0m\n\u001b[1;32m   1494\u001b[0m \u001b[38;5;124;03m    :return: Output of the calling func()\u001b[39;00m\n\u001b[1;32m   1495\u001b[0m \u001b[38;5;124;03m    \"\"\"\u001b[39;00m\n\u001b[0;32m-> 1496\u001b[0m     \u001b[38;5;28;01mreturn\u001b[39;00m \u001b[43m_ClientConnectionRetryable\u001b[49m\u001b[43m(\u001b[49m\n\u001b[1;32m   1497\u001b[0m \u001b[43m        \u001b[49m\u001b[43mmongo_client\u001b[49m\u001b[38;5;241;43m=\u001b[39;49m\u001b[38;5;28;43mself\u001b[39;49m\u001b[43m,\u001b[49m\n\u001b[1;32m   1498\u001b[0m \u001b[43m        \u001b[49m\u001b[43mfunc\u001b[49m\u001b[38;5;241;43m=\u001b[39;49m\u001b[43mfunc\u001b[49m\u001b[43m,\u001b[49m\n\u001b[1;32m   1499\u001b[0m \u001b[43m        \u001b[49m\u001b[43mbulk\u001b[49m\u001b[38;5;241;43m=\u001b[39;49m\u001b[43mbulk\u001b[49m\u001b[43m,\u001b[49m\n\u001b[1;32m   1500\u001b[0m \u001b[43m        \u001b[49m\u001b[43moperation\u001b[49m\u001b[38;5;241;43m=\u001b[39;49m\u001b[43moperation\u001b[49m\u001b[43m,\u001b[49m\n\u001b[1;32m   1501\u001b[0m \u001b[43m        \u001b[49m\u001b[43mis_read\u001b[49m\u001b[38;5;241;43m=\u001b[39;49m\u001b[43mis_read\u001b[49m\u001b[43m,\u001b[49m\n\u001b[1;32m   1502\u001b[0m \u001b[43m        \u001b[49m\u001b[43msession\u001b[49m\u001b[38;5;241;43m=\u001b[39;49m\u001b[43msession\u001b[49m\u001b[43m,\u001b[49m\n\u001b[1;32m   1503\u001b[0m \u001b[43m        \u001b[49m\u001b[43mread_pref\u001b[49m\u001b[38;5;241;43m=\u001b[39;49m\u001b[43mread_pref\u001b[49m\u001b[43m,\u001b[49m\n\u001b[1;32m   1504\u001b[0m \u001b[43m        \u001b[49m\u001b[43maddress\u001b[49m\u001b[38;5;241;43m=\u001b[39;49m\u001b[43maddress\u001b[49m\u001b[43m,\u001b[49m\n\u001b[1;32m   1505\u001b[0m \u001b[43m        \u001b[49m\u001b[43mretryable\u001b[49m\u001b[38;5;241;43m=\u001b[39;49m\u001b[43mretryable\u001b[49m\u001b[43m,\u001b[49m\n\u001b[1;32m   1506\u001b[0m \u001b[43m        \u001b[49m\u001b[43moperation_id\u001b[49m\u001b[38;5;241;43m=\u001b[39;49m\u001b[43moperation_id\u001b[49m\u001b[43m,\u001b[49m\n\u001b[1;32m   1507\u001b[0m \u001b[43m    \u001b[49m\u001b[43m)\u001b[49m\u001b[38;5;241;43m.\u001b[39;49m\u001b[43mrun\u001b[49m\u001b[43m(\u001b[49m\u001b[43m)\u001b[49m\n",
      "File \u001b[0;32m/Library/Frameworks/Python.framework/Versions/3.9/lib/python3.9/site-packages/pymongo/mongo_client.py:2353\u001b[0m, in \u001b[0;36m_ClientConnectionRetryable.run\u001b[0;34m(self)\u001b[0m\n\u001b[1;32m   2351\u001b[0m \u001b[38;5;28mself\u001b[39m\u001b[38;5;241m.\u001b[39m_check_last_error(check_csot\u001b[38;5;241m=\u001b[39m\u001b[38;5;28;01mTrue\u001b[39;00m)\n\u001b[1;32m   2352\u001b[0m \u001b[38;5;28;01mtry\u001b[39;00m:\n\u001b[0;32m-> 2353\u001b[0m     \u001b[38;5;28;01mreturn\u001b[39;00m \u001b[38;5;28;43mself\u001b[39;49m\u001b[38;5;241;43m.\u001b[39;49m\u001b[43m_read\u001b[49m\u001b[43m(\u001b[49m\u001b[43m)\u001b[49m \u001b[38;5;28;01mif\u001b[39;00m \u001b[38;5;28mself\u001b[39m\u001b[38;5;241m.\u001b[39m_is_read \u001b[38;5;28;01melse\u001b[39;00m \u001b[38;5;28mself\u001b[39m\u001b[38;5;241m.\u001b[39m_write()\n\u001b[1;32m   2354\u001b[0m \u001b[38;5;28;01mexcept\u001b[39;00m ServerSelectionTimeoutError:\n\u001b[1;32m   2355\u001b[0m     \u001b[38;5;66;03m# The application may think the write was never attempted\u001b[39;00m\n\u001b[1;32m   2356\u001b[0m     \u001b[38;5;66;03m# if we raise ServerSelectionTimeoutError on the retry\u001b[39;00m\n\u001b[1;32m   2357\u001b[0m     \u001b[38;5;66;03m# attempt. Raise the original exception instead.\u001b[39;00m\n\u001b[1;32m   2358\u001b[0m     \u001b[38;5;28mself\u001b[39m\u001b[38;5;241m.\u001b[39m_check_last_error()\n",
      "File \u001b[0;32m/Library/Frameworks/Python.framework/Versions/3.9/lib/python3.9/site-packages/pymongo/mongo_client.py:2485\u001b[0m, in \u001b[0;36m_ClientConnectionRetryable._read\u001b[0;34m(self)\u001b[0m\n\u001b[1;32m   2483\u001b[0m \u001b[38;5;28mself\u001b[39m\u001b[38;5;241m.\u001b[39m_server \u001b[38;5;241m=\u001b[39m \u001b[38;5;28mself\u001b[39m\u001b[38;5;241m.\u001b[39m_get_server()\n\u001b[1;32m   2484\u001b[0m \u001b[38;5;28;01massert\u001b[39;00m \u001b[38;5;28mself\u001b[39m\u001b[38;5;241m.\u001b[39m_read_pref \u001b[38;5;129;01mis\u001b[39;00m \u001b[38;5;129;01mnot\u001b[39;00m \u001b[38;5;28;01mNone\u001b[39;00m, \u001b[38;5;124m\"\u001b[39m\u001b[38;5;124mRead Preference required on read calls\u001b[39m\u001b[38;5;124m\"\u001b[39m\n\u001b[0;32m-> 2485\u001b[0m \u001b[38;5;28;01mwith\u001b[39;00m \u001b[38;5;28mself\u001b[39m\u001b[38;5;241m.\u001b[39m_client\u001b[38;5;241m.\u001b[39m_conn_from_server(\u001b[38;5;28mself\u001b[39m\u001b[38;5;241m.\u001b[39m_read_pref, \u001b[38;5;28mself\u001b[39m\u001b[38;5;241m.\u001b[39m_server, \u001b[38;5;28mself\u001b[39m\u001b[38;5;241m.\u001b[39m_session) \u001b[38;5;28;01mas\u001b[39;00m (\n\u001b[1;32m   2486\u001b[0m     conn,\n\u001b[1;32m   2487\u001b[0m     read_pref,\n\u001b[1;32m   2488\u001b[0m ):\n\u001b[1;32m   2489\u001b[0m     \u001b[38;5;28;01mif\u001b[39;00m \u001b[38;5;28mself\u001b[39m\u001b[38;5;241m.\u001b[39m_retrying \u001b[38;5;129;01mand\u001b[39;00m \u001b[38;5;129;01mnot\u001b[39;00m \u001b[38;5;28mself\u001b[39m\u001b[38;5;241m.\u001b[39m_retryable:\n\u001b[1;32m   2490\u001b[0m         \u001b[38;5;28mself\u001b[39m\u001b[38;5;241m.\u001b[39m_check_last_error()\n",
      "File \u001b[0;32m/Library/Frameworks/Python.framework/Versions/3.9/lib/python3.9/contextlib.py:117\u001b[0m, in \u001b[0;36m_GeneratorContextManager.__enter__\u001b[0;34m(self)\u001b[0m\n\u001b[1;32m    115\u001b[0m \u001b[38;5;28;01mdel\u001b[39;00m \u001b[38;5;28mself\u001b[39m\u001b[38;5;241m.\u001b[39margs, \u001b[38;5;28mself\u001b[39m\u001b[38;5;241m.\u001b[39mkwds, \u001b[38;5;28mself\u001b[39m\u001b[38;5;241m.\u001b[39mfunc\n\u001b[1;32m    116\u001b[0m \u001b[38;5;28;01mtry\u001b[39;00m:\n\u001b[0;32m--> 117\u001b[0m     \u001b[38;5;28;01mreturn\u001b[39;00m \u001b[38;5;28;43mnext\u001b[39;49m\u001b[43m(\u001b[49m\u001b[38;5;28;43mself\u001b[39;49m\u001b[38;5;241;43m.\u001b[39;49m\u001b[43mgen\u001b[49m\u001b[43m)\u001b[49m\n\u001b[1;32m    118\u001b[0m \u001b[38;5;28;01mexcept\u001b[39;00m \u001b[38;5;167;01mStopIteration\u001b[39;00m:\n\u001b[1;32m    119\u001b[0m     \u001b[38;5;28;01mraise\u001b[39;00m \u001b[38;5;167;01mRuntimeError\u001b[39;00m(\u001b[38;5;124m\"\u001b[39m\u001b[38;5;124mgenerator didn\u001b[39m\u001b[38;5;124m'\u001b[39m\u001b[38;5;124mt yield\u001b[39m\u001b[38;5;124m\"\u001b[39m) \u001b[38;5;28;01mfrom\u001b[39;00m \u001b[38;5;28;01mNone\u001b[39;00m\n",
      "File \u001b[0;32m/Library/Frameworks/Python.framework/Versions/3.9/lib/python3.9/site-packages/pymongo/mongo_client.py:1357\u001b[0m, in \u001b[0;36mMongoClient._conn_from_server\u001b[0;34m(self, read_preference, server, session)\u001b[0m\n\u001b[1;32m   1347\u001b[0m \u001b[38;5;66;03m# Get a connection for a server matching the read preference, and yield\u001b[39;00m\n\u001b[1;32m   1348\u001b[0m \u001b[38;5;66;03m# conn with the effective read preference. The Server Selection\u001b[39;00m\n\u001b[1;32m   1349\u001b[0m \u001b[38;5;66;03m# Spec says not to send any $readPreference to standalones and to\u001b[39;00m\n\u001b[0;32m   (...)\u001b[0m\n\u001b[1;32m   1353\u001b[0m \u001b[38;5;66;03m# NOTE: We already opened the Topology when selecting a server so there's no need\u001b[39;00m\n\u001b[1;32m   1354\u001b[0m \u001b[38;5;66;03m# to call _get_topology() again.\u001b[39;00m\n\u001b[1;32m   1355\u001b[0m single \u001b[38;5;241m=\u001b[39m \u001b[38;5;28mself\u001b[39m\u001b[38;5;241m.\u001b[39m_topology\u001b[38;5;241m.\u001b[39mdescription\u001b[38;5;241m.\u001b[39mtopology_type \u001b[38;5;241m==\u001b[39m TOPOLOGY_TYPE\u001b[38;5;241m.\u001b[39mSingle\n\u001b[0;32m-> 1357\u001b[0m \u001b[38;5;28;01mwith\u001b[39;00m \u001b[38;5;28mself\u001b[39m\u001b[38;5;241m.\u001b[39m_checkout(server, session) \u001b[38;5;28;01mas\u001b[39;00m conn:\n\u001b[1;32m   1358\u001b[0m     \u001b[38;5;28;01mif\u001b[39;00m single:\n\u001b[1;32m   1359\u001b[0m         \u001b[38;5;28;01mif\u001b[39;00m conn\u001b[38;5;241m.\u001b[39mis_repl \u001b[38;5;129;01mand\u001b[39;00m \u001b[38;5;129;01mnot\u001b[39;00m (session \u001b[38;5;129;01mand\u001b[39;00m session\u001b[38;5;241m.\u001b[39min_transaction):\n\u001b[1;32m   1360\u001b[0m             \u001b[38;5;66;03m# Use primary preferred to ensure any repl set member\u001b[39;00m\n\u001b[1;32m   1361\u001b[0m             \u001b[38;5;66;03m# can handle the request.\u001b[39;00m\n",
      "File \u001b[0;32m/Library/Frameworks/Python.framework/Versions/3.9/lib/python3.9/contextlib.py:117\u001b[0m, in \u001b[0;36m_GeneratorContextManager.__enter__\u001b[0;34m(self)\u001b[0m\n\u001b[1;32m    115\u001b[0m \u001b[38;5;28;01mdel\u001b[39;00m \u001b[38;5;28mself\u001b[39m\u001b[38;5;241m.\u001b[39margs, \u001b[38;5;28mself\u001b[39m\u001b[38;5;241m.\u001b[39mkwds, \u001b[38;5;28mself\u001b[39m\u001b[38;5;241m.\u001b[39mfunc\n\u001b[1;32m    116\u001b[0m \u001b[38;5;28;01mtry\u001b[39;00m:\n\u001b[0;32m--> 117\u001b[0m     \u001b[38;5;28;01mreturn\u001b[39;00m \u001b[38;5;28;43mnext\u001b[39;49m\u001b[43m(\u001b[49m\u001b[38;5;28;43mself\u001b[39;49m\u001b[38;5;241;43m.\u001b[39;49m\u001b[43mgen\u001b[49m\u001b[43m)\u001b[49m\n\u001b[1;32m    118\u001b[0m \u001b[38;5;28;01mexcept\u001b[39;00m \u001b[38;5;167;01mStopIteration\u001b[39;00m:\n\u001b[1;32m    119\u001b[0m     \u001b[38;5;28;01mraise\u001b[39;00m \u001b[38;5;167;01mRuntimeError\u001b[39;00m(\u001b[38;5;124m\"\u001b[39m\u001b[38;5;124mgenerator didn\u001b[39m\u001b[38;5;124m'\u001b[39m\u001b[38;5;124mt yield\u001b[39m\u001b[38;5;124m\"\u001b[39m) \u001b[38;5;28;01mfrom\u001b[39;00m \u001b[38;5;28;01mNone\u001b[39;00m\n",
      "File \u001b[0;32m/Library/Frameworks/Python.framework/Versions/3.9/lib/python3.9/site-packages/pymongo/mongo_client.py:1266\u001b[0m, in \u001b[0;36mMongoClient._checkout\u001b[0;34m(self, server, session)\u001b[0m\n\u001b[1;32m   1264\u001b[0m     \u001b[38;5;28;01myield\u001b[39;00m session\u001b[38;5;241m.\u001b[39m_pinned_connection\n\u001b[1;32m   1265\u001b[0m     \u001b[38;5;28;01mreturn\u001b[39;00m\n\u001b[0;32m-> 1266\u001b[0m \u001b[38;5;28;01mwith\u001b[39;00m server\u001b[38;5;241m.\u001b[39mcheckout(handler\u001b[38;5;241m=\u001b[39merr_handler) \u001b[38;5;28;01mas\u001b[39;00m conn:\n\u001b[1;32m   1267\u001b[0m     \u001b[38;5;66;03m# Pin this session to the selected server or connection.\u001b[39;00m\n\u001b[1;32m   1268\u001b[0m     \u001b[38;5;28;01mif\u001b[39;00m (\n\u001b[1;32m   1269\u001b[0m         in_txn\n\u001b[1;32m   1270\u001b[0m         \u001b[38;5;129;01mand\u001b[39;00m session\n\u001b[0;32m   (...)\u001b[0m\n\u001b[1;32m   1275\u001b[0m         )\n\u001b[1;32m   1276\u001b[0m     ):\n\u001b[1;32m   1277\u001b[0m         session\u001b[38;5;241m.\u001b[39m_pin(server, conn)\n",
      "File \u001b[0;32m/Library/Frameworks/Python.framework/Versions/3.9/lib/python3.9/contextlib.py:117\u001b[0m, in \u001b[0;36m_GeneratorContextManager.__enter__\u001b[0;34m(self)\u001b[0m\n\u001b[1;32m    115\u001b[0m \u001b[38;5;28;01mdel\u001b[39;00m \u001b[38;5;28mself\u001b[39m\u001b[38;5;241m.\u001b[39margs, \u001b[38;5;28mself\u001b[39m\u001b[38;5;241m.\u001b[39mkwds, \u001b[38;5;28mself\u001b[39m\u001b[38;5;241m.\u001b[39mfunc\n\u001b[1;32m    116\u001b[0m \u001b[38;5;28;01mtry\u001b[39;00m:\n\u001b[0;32m--> 117\u001b[0m     \u001b[38;5;28;01mreturn\u001b[39;00m \u001b[38;5;28;43mnext\u001b[39;49m\u001b[43m(\u001b[49m\u001b[38;5;28;43mself\u001b[39;49m\u001b[38;5;241;43m.\u001b[39;49m\u001b[43mgen\u001b[49m\u001b[43m)\u001b[49m\n\u001b[1;32m    118\u001b[0m \u001b[38;5;28;01mexcept\u001b[39;00m \u001b[38;5;167;01mStopIteration\u001b[39;00m:\n\u001b[1;32m    119\u001b[0m     \u001b[38;5;28;01mraise\u001b[39;00m \u001b[38;5;167;01mRuntimeError\u001b[39;00m(\u001b[38;5;124m\"\u001b[39m\u001b[38;5;124mgenerator didn\u001b[39m\u001b[38;5;124m'\u001b[39m\u001b[38;5;124mt yield\u001b[39m\u001b[38;5;124m\"\u001b[39m) \u001b[38;5;28;01mfrom\u001b[39;00m \u001b[38;5;28;01mNone\u001b[39;00m\n",
      "File \u001b[0;32m/Library/Frameworks/Python.framework/Versions/3.9/lib/python3.9/site-packages/pymongo/pool.py:1767\u001b[0m, in \u001b[0;36mPool.checkout\u001b[0;34m(self, handler)\u001b[0m\n\u001b[1;32m   1758\u001b[0m \u001b[38;5;28;01mif\u001b[39;00m \u001b[38;5;28mself\u001b[39m\u001b[38;5;241m.\u001b[39menabled_for_logging \u001b[38;5;129;01mand\u001b[39;00m _CONNECTION_LOGGER\u001b[38;5;241m.\u001b[39misEnabledFor(logging\u001b[38;5;241m.\u001b[39mDEBUG):\n\u001b[1;32m   1759\u001b[0m     _debug_log(\n\u001b[1;32m   1760\u001b[0m         _CONNECTION_LOGGER,\n\u001b[1;32m   1761\u001b[0m         clientId\u001b[38;5;241m=\u001b[39m\u001b[38;5;28mself\u001b[39m\u001b[38;5;241m.\u001b[39m_client_id,\n\u001b[0;32m   (...)\u001b[0m\n\u001b[1;32m   1764\u001b[0m         serverPort\u001b[38;5;241m=\u001b[39m\u001b[38;5;28mself\u001b[39m\u001b[38;5;241m.\u001b[39maddress[\u001b[38;5;241m1\u001b[39m],\n\u001b[1;32m   1765\u001b[0m     )\n\u001b[0;32m-> 1767\u001b[0m conn \u001b[38;5;241m=\u001b[39m \u001b[38;5;28;43mself\u001b[39;49m\u001b[38;5;241;43m.\u001b[39;49m\u001b[43m_get_conn\u001b[49m\u001b[43m(\u001b[49m\u001b[43mcheckout_started_time\u001b[49m\u001b[43m,\u001b[49m\u001b[43m \u001b[49m\u001b[43mhandler\u001b[49m\u001b[38;5;241;43m=\u001b[39;49m\u001b[43mhandler\u001b[49m\u001b[43m)\u001b[49m\n\u001b[1;32m   1769\u001b[0m duration \u001b[38;5;241m=\u001b[39m time\u001b[38;5;241m.\u001b[39mmonotonic() \u001b[38;5;241m-\u001b[39m checkout_started_time\n\u001b[1;32m   1770\u001b[0m \u001b[38;5;28;01mif\u001b[39;00m \u001b[38;5;28mself\u001b[39m\u001b[38;5;241m.\u001b[39menabled_for_cmap:\n",
      "File \u001b[0;32m/Library/Frameworks/Python.framework/Versions/3.9/lib/python3.9/site-packages/pymongo/pool.py:1926\u001b[0m, in \u001b[0;36mPool._get_conn\u001b[0;34m(self, checkout_started_time, handler)\u001b[0m\n\u001b[1;32m   1924\u001b[0m \u001b[38;5;28;01melse\u001b[39;00m:  \u001b[38;5;66;03m# We need to create a new connection\u001b[39;00m\n\u001b[1;32m   1925\u001b[0m     \u001b[38;5;28;01mtry\u001b[39;00m:\n\u001b[0;32m-> 1926\u001b[0m         conn \u001b[38;5;241m=\u001b[39m \u001b[38;5;28;43mself\u001b[39;49m\u001b[38;5;241;43m.\u001b[39;49m\u001b[43mconnect\u001b[49m\u001b[43m(\u001b[49m\u001b[43mhandler\u001b[49m\u001b[38;5;241;43m=\u001b[39;49m\u001b[43mhandler\u001b[49m\u001b[43m)\u001b[49m\n\u001b[1;32m   1927\u001b[0m     \u001b[38;5;28;01mfinally\u001b[39;00m:\n\u001b[1;32m   1928\u001b[0m         \u001b[38;5;28;01mwith\u001b[39;00m \u001b[38;5;28mself\u001b[39m\u001b[38;5;241m.\u001b[39m_max_connecting_cond:\n",
      "File \u001b[0;32m/Library/Frameworks/Python.framework/Versions/3.9/lib/python3.9/site-packages/pymongo/pool.py:1729\u001b[0m, in \u001b[0;36mPool.connect\u001b[0;34m(self, handler)\u001b[0m\n\u001b[1;32m   1726\u001b[0m     \u001b[38;5;28;01mif\u001b[39;00m handler:\n\u001b[1;32m   1727\u001b[0m         handler\u001b[38;5;241m.\u001b[39mcontribute_socket(conn, completed_handshake\u001b[38;5;241m=\u001b[39m\u001b[38;5;28;01mFalse\u001b[39;00m)\n\u001b[0;32m-> 1729\u001b[0m     \u001b[43mconn\u001b[49m\u001b[38;5;241;43m.\u001b[39;49m\u001b[43mauthenticate\u001b[49m\u001b[43m(\u001b[49m\u001b[43m)\u001b[49m\n\u001b[1;32m   1730\u001b[0m \u001b[38;5;28;01mexcept\u001b[39;00m \u001b[38;5;167;01mBaseException\u001b[39;00m:\n\u001b[1;32m   1731\u001b[0m     conn\u001b[38;5;241m.\u001b[39mclose_conn(ConnectionClosedReason\u001b[38;5;241m.\u001b[39mERROR)\n",
      "File \u001b[0;32m/Library/Frameworks/Python.framework/Versions/3.9/lib/python3.9/site-packages/pymongo/pool.py:1099\u001b[0m, in \u001b[0;36mConnection.authenticate\u001b[0;34m(self, reauthenticate)\u001b[0m\n\u001b[1;32m   1096\u001b[0m \u001b[38;5;28;01mif\u001b[39;00m creds:\n\u001b[1;32m   1097\u001b[0m     \u001b[38;5;28;01mfrom\u001b[39;00m \u001b[38;5;21;01mpymongo\u001b[39;00m \u001b[38;5;28;01mimport\u001b[39;00m auth\n\u001b[0;32m-> 1099\u001b[0m     \u001b[43mauth\u001b[49m\u001b[38;5;241;43m.\u001b[39;49m\u001b[43mauthenticate\u001b[49m\u001b[43m(\u001b[49m\u001b[43mcreds\u001b[49m\u001b[43m,\u001b[49m\u001b[43m \u001b[49m\u001b[38;5;28;43mself\u001b[39;49m\u001b[43m,\u001b[49m\u001b[43m \u001b[49m\u001b[43mreauthenticate\u001b[49m\u001b[38;5;241;43m=\u001b[39;49m\u001b[43mreauthenticate\u001b[49m\u001b[43m)\u001b[49m\n\u001b[1;32m   1100\u001b[0m \u001b[38;5;28mself\u001b[39m\u001b[38;5;241m.\u001b[39mready \u001b[38;5;241m=\u001b[39m \u001b[38;5;28;01mTrue\u001b[39;00m\n\u001b[1;32m   1101\u001b[0m duration \u001b[38;5;241m=\u001b[39m time\u001b[38;5;241m.\u001b[39mmonotonic() \u001b[38;5;241m-\u001b[39m \u001b[38;5;28mself\u001b[39m\u001b[38;5;241m.\u001b[39mcreation_time\n",
      "File \u001b[0;32m/Library/Frameworks/Python.framework/Versions/3.9/lib/python3.9/site-packages/pymongo/auth.py:656\u001b[0m, in \u001b[0;36mauthenticate\u001b[0;34m(credentials, conn, reauthenticate)\u001b[0m\n\u001b[1;32m    654\u001b[0m     _authenticate_oidc(credentials, conn, reauthenticate)\n\u001b[1;32m    655\u001b[0m \u001b[38;5;28;01melse\u001b[39;00m:\n\u001b[0;32m--> 656\u001b[0m     \u001b[43mauth_func\u001b[49m\u001b[43m(\u001b[49m\u001b[43mcredentials\u001b[49m\u001b[43m,\u001b[49m\u001b[43m \u001b[49m\u001b[43mconn\u001b[49m\u001b[43m)\u001b[49m\n",
      "File \u001b[0;32m/Library/Frameworks/Python.framework/Versions/3.9/lib/python3.9/site-packages/pymongo/auth.py:560\u001b[0m, in \u001b[0;36m_authenticate_default\u001b[0;34m(credentials, conn)\u001b[0m\n\u001b[1;32m    558\u001b[0m         \u001b[38;5;28;01mreturn\u001b[39;00m _authenticate_scram(credentials, conn, \u001b[38;5;124m\"\u001b[39m\u001b[38;5;124mSCRAM-SHA-256\u001b[39m\u001b[38;5;124m\"\u001b[39m)\n\u001b[1;32m    559\u001b[0m     \u001b[38;5;28;01melse\u001b[39;00m:\n\u001b[0;32m--> 560\u001b[0m         \u001b[38;5;28;01mreturn\u001b[39;00m \u001b[43m_authenticate_scram\u001b[49m\u001b[43m(\u001b[49m\u001b[43mcredentials\u001b[49m\u001b[43m,\u001b[49m\u001b[43m \u001b[49m\u001b[43mconn\u001b[49m\u001b[43m,\u001b[49m\u001b[43m \u001b[49m\u001b[38;5;124;43m\"\u001b[39;49m\u001b[38;5;124;43mSCRAM-SHA-1\u001b[39;49m\u001b[38;5;124;43m\"\u001b[39;49m\u001b[43m)\u001b[49m\n\u001b[1;32m    561\u001b[0m \u001b[38;5;28;01melse\u001b[39;00m:\n\u001b[1;32m    562\u001b[0m     \u001b[38;5;28;01mreturn\u001b[39;00m _authenticate_scram(credentials, conn, \u001b[38;5;124m\"\u001b[39m\u001b[38;5;124mSCRAM-SHA-1\u001b[39m\u001b[38;5;124m\"\u001b[39m)\n",
      "File \u001b[0;32m/Library/Frameworks/Python.framework/Versions/3.9/lib/python3.9/site-packages/pymongo/auth.py:299\u001b[0m, in \u001b[0;36m_authenticate_scram\u001b[0;34m(credentials, conn, mechanism)\u001b[0m\n\u001b[1;32m    297\u001b[0m \u001b[38;5;28;01melse\u001b[39;00m:\n\u001b[1;32m    298\u001b[0m     nonce, first_bare, cmd \u001b[38;5;241m=\u001b[39m _authenticate_scram_start(credentials, mechanism)\n\u001b[0;32m--> 299\u001b[0m     res \u001b[38;5;241m=\u001b[39m \u001b[43mconn\u001b[49m\u001b[38;5;241;43m.\u001b[39;49m\u001b[43mcommand\u001b[49m\u001b[43m(\u001b[49m\u001b[43msource\u001b[49m\u001b[43m,\u001b[49m\u001b[43m \u001b[49m\u001b[43mcmd\u001b[49m\u001b[43m)\u001b[49m\n\u001b[1;32m    301\u001b[0m \u001b[38;5;28;01massert\u001b[39;00m res \u001b[38;5;129;01mis\u001b[39;00m \u001b[38;5;129;01mnot\u001b[39;00m \u001b[38;5;28;01mNone\u001b[39;00m\n\u001b[1;32m    302\u001b[0m server_first \u001b[38;5;241m=\u001b[39m res[\u001b[38;5;124m\"\u001b[39m\u001b[38;5;124mpayload\u001b[39m\u001b[38;5;124m\"\u001b[39m]\n",
      "File \u001b[0;32m/Library/Frameworks/Python.framework/Versions/3.9/lib/python3.9/site-packages/pymongo/helpers.py:342\u001b[0m, in \u001b[0;36m_handle_reauth.<locals>.inner\u001b[0;34m(*args, **kwargs)\u001b[0m\n\u001b[1;32m    339\u001b[0m \u001b[38;5;28;01mfrom\u001b[39;00m \u001b[38;5;21;01mpymongo\u001b[39;00m\u001b[38;5;21;01m.\u001b[39;00m\u001b[38;5;21;01mpool\u001b[39;00m \u001b[38;5;28;01mimport\u001b[39;00m Connection\n\u001b[1;32m    341\u001b[0m \u001b[38;5;28;01mtry\u001b[39;00m:\n\u001b[0;32m--> 342\u001b[0m     \u001b[38;5;28;01mreturn\u001b[39;00m \u001b[43mfunc\u001b[49m\u001b[43m(\u001b[49m\u001b[38;5;241;43m*\u001b[39;49m\u001b[43margs\u001b[49m\u001b[43m,\u001b[49m\u001b[43m \u001b[49m\u001b[38;5;241;43m*\u001b[39;49m\u001b[38;5;241;43m*\u001b[39;49m\u001b[43mkwargs\u001b[49m\u001b[43m)\u001b[49m\n\u001b[1;32m    343\u001b[0m \u001b[38;5;28;01mexcept\u001b[39;00m OperationFailure \u001b[38;5;28;01mas\u001b[39;00m exc:\n\u001b[1;32m    344\u001b[0m     \u001b[38;5;28;01mif\u001b[39;00m no_reauth:\n",
      "File \u001b[0;32m/Library/Frameworks/Python.framework/Versions/3.9/lib/python3.9/site-packages/pymongo/pool.py:1017\u001b[0m, in \u001b[0;36mConnection.command\u001b[0;34m(self, dbname, spec, read_preference, codec_options, check, allowable_errors, read_concern, write_concern, parse_write_concern_error, collation, session, client, retryable_write, publish_events, user_fields, exhaust_allowed)\u001b[0m\n\u001b[1;32m   1015\u001b[0m \u001b[38;5;66;03m# Catch socket.error, KeyboardInterrupt, etc. and close ourselves.\u001b[39;00m\n\u001b[1;32m   1016\u001b[0m \u001b[38;5;28;01mexcept\u001b[39;00m \u001b[38;5;167;01mBaseException\u001b[39;00m \u001b[38;5;28;01mas\u001b[39;00m error:\n\u001b[0;32m-> 1017\u001b[0m     \u001b[38;5;28;43mself\u001b[39;49m\u001b[38;5;241;43m.\u001b[39;49m\u001b[43m_raise_connection_failure\u001b[49m\u001b[43m(\u001b[49m\u001b[43merror\u001b[49m\u001b[43m)\u001b[49m\n",
      "File \u001b[0;32m/Library/Frameworks/Python.framework/Versions/3.9/lib/python3.9/site-packages/pymongo/pool.py:989\u001b[0m, in \u001b[0;36mConnection.command\u001b[0;34m(self, dbname, spec, read_preference, codec_options, check, allowable_errors, read_concern, write_concern, parse_write_concern_error, collation, session, client, retryable_write, publish_events, user_fields, exhaust_allowed)\u001b[0m\n\u001b[1;32m    987\u001b[0m     \u001b[38;5;28mself\u001b[39m\u001b[38;5;241m.\u001b[39m_raise_if_not_writable(unacknowledged)\n\u001b[1;32m    988\u001b[0m \u001b[38;5;28;01mtry\u001b[39;00m:\n\u001b[0;32m--> 989\u001b[0m     \u001b[38;5;28;01mreturn\u001b[39;00m \u001b[43mcommand\u001b[49m\u001b[43m(\u001b[49m\n\u001b[1;32m    990\u001b[0m \u001b[43m        \u001b[49m\u001b[38;5;28;43mself\u001b[39;49m\u001b[43m,\u001b[49m\n\u001b[1;32m    991\u001b[0m \u001b[43m        \u001b[49m\u001b[43mdbname\u001b[49m\u001b[43m,\u001b[49m\n\u001b[1;32m    992\u001b[0m \u001b[43m        \u001b[49m\u001b[43mspec\u001b[49m\u001b[43m,\u001b[49m\n\u001b[1;32m    993\u001b[0m \u001b[43m        \u001b[49m\u001b[38;5;28;43mself\u001b[39;49m\u001b[38;5;241;43m.\u001b[39;49m\u001b[43mis_mongos\u001b[49m\u001b[43m,\u001b[49m\n\u001b[1;32m    994\u001b[0m \u001b[43m        \u001b[49m\u001b[43mread_preference\u001b[49m\u001b[43m,\u001b[49m\n\u001b[1;32m    995\u001b[0m \u001b[43m        \u001b[49m\u001b[43mcodec_options\u001b[49m\u001b[43m,\u001b[49m\n\u001b[1;32m    996\u001b[0m \u001b[43m        \u001b[49m\u001b[43msession\u001b[49m\u001b[43m,\u001b[49m\n\u001b[1;32m    997\u001b[0m \u001b[43m        \u001b[49m\u001b[43mclient\u001b[49m\u001b[43m,\u001b[49m\n\u001b[1;32m    998\u001b[0m \u001b[43m        \u001b[49m\u001b[43mcheck\u001b[49m\u001b[43m,\u001b[49m\n\u001b[1;32m    999\u001b[0m \u001b[43m        \u001b[49m\u001b[43mallowable_errors\u001b[49m\u001b[43m,\u001b[49m\n\u001b[1;32m   1000\u001b[0m \u001b[43m        \u001b[49m\u001b[38;5;28;43mself\u001b[39;49m\u001b[38;5;241;43m.\u001b[39;49m\u001b[43maddress\u001b[49m\u001b[43m,\u001b[49m\n\u001b[1;32m   1001\u001b[0m \u001b[43m        \u001b[49m\u001b[43mlisteners\u001b[49m\u001b[43m,\u001b[49m\n\u001b[1;32m   1002\u001b[0m \u001b[43m        \u001b[49m\u001b[38;5;28;43mself\u001b[39;49m\u001b[38;5;241;43m.\u001b[39;49m\u001b[43mmax_bson_size\u001b[49m\u001b[43m,\u001b[49m\n\u001b[1;32m   1003\u001b[0m \u001b[43m        \u001b[49m\u001b[43mread_concern\u001b[49m\u001b[43m,\u001b[49m\n\u001b[1;32m   1004\u001b[0m \u001b[43m        \u001b[49m\u001b[43mparse_write_concern_error\u001b[49m\u001b[38;5;241;43m=\u001b[39;49m\u001b[43mparse_write_concern_error\u001b[49m\u001b[43m,\u001b[49m\n\u001b[1;32m   1005\u001b[0m \u001b[43m        \u001b[49m\u001b[43mcollation\u001b[49m\u001b[38;5;241;43m=\u001b[39;49m\u001b[43mcollation\u001b[49m\u001b[43m,\u001b[49m\n\u001b[1;32m   1006\u001b[0m \u001b[43m        \u001b[49m\u001b[43mcompression_ctx\u001b[49m\u001b[38;5;241;43m=\u001b[39;49m\u001b[38;5;28;43mself\u001b[39;49m\u001b[38;5;241;43m.\u001b[39;49m\u001b[43mcompression_context\u001b[49m\u001b[43m,\u001b[49m\n\u001b[1;32m   1007\u001b[0m \u001b[43m        \u001b[49m\u001b[43muse_op_msg\u001b[49m\u001b[38;5;241;43m=\u001b[39;49m\u001b[38;5;28;43mself\u001b[39;49m\u001b[38;5;241;43m.\u001b[39;49m\u001b[43mop_msg_enabled\u001b[49m\u001b[43m,\u001b[49m\n\u001b[1;32m   1008\u001b[0m \u001b[43m        \u001b[49m\u001b[43munacknowledged\u001b[49m\u001b[38;5;241;43m=\u001b[39;49m\u001b[43munacknowledged\u001b[49m\u001b[43m,\u001b[49m\n\u001b[1;32m   1009\u001b[0m \u001b[43m        \u001b[49m\u001b[43muser_fields\u001b[49m\u001b[38;5;241;43m=\u001b[39;49m\u001b[43muser_fields\u001b[49m\u001b[43m,\u001b[49m\n\u001b[1;32m   1010\u001b[0m \u001b[43m        \u001b[49m\u001b[43mexhaust_allowed\u001b[49m\u001b[38;5;241;43m=\u001b[39;49m\u001b[43mexhaust_allowed\u001b[49m\u001b[43m,\u001b[49m\n\u001b[1;32m   1011\u001b[0m \u001b[43m        \u001b[49m\u001b[43mwrite_concern\u001b[49m\u001b[38;5;241;43m=\u001b[39;49m\u001b[43mwrite_concern\u001b[49m\u001b[43m,\u001b[49m\n\u001b[1;32m   1012\u001b[0m \u001b[43m    \u001b[49m\u001b[43m)\u001b[49m\n\u001b[1;32m   1013\u001b[0m \u001b[38;5;28;01mexcept\u001b[39;00m (OperationFailure, NotPrimaryError):\n\u001b[1;32m   1014\u001b[0m     \u001b[38;5;28;01mraise\u001b[39;00m\n",
      "File \u001b[0;32m/Library/Frameworks/Python.framework/Versions/3.9/lib/python3.9/site-packages/pymongo/network.py:202\u001b[0m, in \u001b[0;36mcommand\u001b[0;34m(conn, dbname, spec, is_mongos, read_preference, codec_options, session, client, check, allowable_errors, address, listeners, max_bson_size, read_concern, parse_write_concern_error, collation, compression_ctx, use_op_msg, unacknowledged, user_fields, exhaust_allowed, write_concern)\u001b[0m\n\u001b[1;32m    200\u001b[0m     response_doc: _DocumentOut \u001b[38;5;241m=\u001b[39m {\u001b[38;5;124m\"\u001b[39m\u001b[38;5;124mok\u001b[39m\u001b[38;5;124m\"\u001b[39m: \u001b[38;5;241m1\u001b[39m}\n\u001b[1;32m    201\u001b[0m \u001b[38;5;28;01melse\u001b[39;00m:\n\u001b[0;32m--> 202\u001b[0m     reply \u001b[38;5;241m=\u001b[39m \u001b[43mreceive_message\u001b[49m\u001b[43m(\u001b[49m\u001b[43mconn\u001b[49m\u001b[43m,\u001b[49m\u001b[43m \u001b[49m\u001b[43mrequest_id\u001b[49m\u001b[43m)\u001b[49m\n\u001b[1;32m    203\u001b[0m     conn\u001b[38;5;241m.\u001b[39mmore_to_come \u001b[38;5;241m=\u001b[39m reply\u001b[38;5;241m.\u001b[39mmore_to_come\n\u001b[1;32m    204\u001b[0m     unpacked_docs \u001b[38;5;241m=\u001b[39m reply\u001b[38;5;241m.\u001b[39munpack_response(\n\u001b[1;32m    205\u001b[0m         codec_options\u001b[38;5;241m=\u001b[39mcodec_options, user_fields\u001b[38;5;241m=\u001b[39muser_fields\n\u001b[1;32m    206\u001b[0m     )\n",
      "File \u001b[0;32m/Library/Frameworks/Python.framework/Versions/3.9/lib/python3.9/site-packages/pymongo/network.py:317\u001b[0m, in \u001b[0;36mreceive_message\u001b[0;34m(conn, request_id, max_message_size)\u001b[0m\n\u001b[1;32m    315\u001b[0m         deadline \u001b[38;5;241m=\u001b[39m \u001b[38;5;28;01mNone\u001b[39;00m\n\u001b[1;32m    316\u001b[0m \u001b[38;5;66;03m# Ignore the response's request id.\u001b[39;00m\n\u001b[0;32m--> 317\u001b[0m length, _, response_to, op_code \u001b[38;5;241m=\u001b[39m _UNPACK_HEADER(\u001b[43m_receive_data_on_socket\u001b[49m\u001b[43m(\u001b[49m\u001b[43mconn\u001b[49m\u001b[43m,\u001b[49m\u001b[43m \u001b[49m\u001b[38;5;241;43m16\u001b[39;49m\u001b[43m,\u001b[49m\u001b[43m \u001b[49m\u001b[43mdeadline\u001b[49m\u001b[43m)\u001b[49m)\n\u001b[1;32m    318\u001b[0m \u001b[38;5;66;03m# No request_id for exhaust cursor \"getMore\".\u001b[39;00m\n\u001b[1;32m    319\u001b[0m \u001b[38;5;28;01mif\u001b[39;00m request_id \u001b[38;5;129;01mis\u001b[39;00m \u001b[38;5;129;01mnot\u001b[39;00m \u001b[38;5;28;01mNone\u001b[39;00m:\n",
      "File \u001b[0;32m/Library/Frameworks/Python.framework/Versions/3.9/lib/python3.9/site-packages/pymongo/network.py:394\u001b[0m, in \u001b[0;36m_receive_data_on_socket\u001b[0;34m(conn, length, deadline)\u001b[0m\n\u001b[1;32m    392\u001b[0m \u001b[38;5;28;01mwhile\u001b[39;00m bytes_read \u001b[38;5;241m<\u001b[39m length:\n\u001b[1;32m    393\u001b[0m     \u001b[38;5;28;01mtry\u001b[39;00m:\n\u001b[0;32m--> 394\u001b[0m         \u001b[43mwait_for_read\u001b[49m\u001b[43m(\u001b[49m\u001b[43mconn\u001b[49m\u001b[43m,\u001b[49m\u001b[43m \u001b[49m\u001b[43mdeadline\u001b[49m\u001b[43m)\u001b[49m\n\u001b[1;32m    395\u001b[0m         \u001b[38;5;66;03m# CSOT: Update timeout. When the timeout has expired perform one\u001b[39;00m\n\u001b[1;32m    396\u001b[0m         \u001b[38;5;66;03m# final non-blocking recv. This helps avoid spurious timeouts when\u001b[39;00m\n\u001b[1;32m    397\u001b[0m         \u001b[38;5;66;03m# the response is actually already buffered on the client.\u001b[39;00m\n\u001b[1;32m    398\u001b[0m         \u001b[38;5;28;01mif\u001b[39;00m _csot\u001b[38;5;241m.\u001b[39mget_timeout() \u001b[38;5;129;01mand\u001b[39;00m deadline \u001b[38;5;129;01mis\u001b[39;00m \u001b[38;5;129;01mnot\u001b[39;00m \u001b[38;5;28;01mNone\u001b[39;00m:\n",
      "File \u001b[0;32m/Library/Frameworks/Python.framework/Versions/3.9/lib/python3.9/site-packages/pymongo/network.py:375\u001b[0m, in \u001b[0;36mwait_for_read\u001b[0;34m(conn, deadline)\u001b[0m\n\u001b[1;32m    373\u001b[0m     \u001b[38;5;28;01melse\u001b[39;00m:\n\u001b[1;32m    374\u001b[0m         timeout \u001b[38;5;241m=\u001b[39m _POLL_TIMEOUT\n\u001b[0;32m--> 375\u001b[0m     readable \u001b[38;5;241m=\u001b[39m \u001b[43mconn\u001b[49m\u001b[38;5;241;43m.\u001b[39;49m\u001b[43msocket_checker\u001b[49m\u001b[38;5;241;43m.\u001b[39;49m\u001b[43mselect\u001b[49m\u001b[43m(\u001b[49m\u001b[43msock\u001b[49m\u001b[43m,\u001b[49m\u001b[43m \u001b[49m\u001b[43mread\u001b[49m\u001b[38;5;241;43m=\u001b[39;49m\u001b[38;5;28;43;01mTrue\u001b[39;49;00m\u001b[43m,\u001b[49m\u001b[43m \u001b[49m\u001b[43mtimeout\u001b[49m\u001b[38;5;241;43m=\u001b[39;49m\u001b[43mtimeout\u001b[49m\u001b[43m)\u001b[49m\n\u001b[1;32m    376\u001b[0m \u001b[38;5;28;01mif\u001b[39;00m conn\u001b[38;5;241m.\u001b[39mcancel_context\u001b[38;5;241m.\u001b[39mcancelled:\n\u001b[1;32m    377\u001b[0m     \u001b[38;5;28;01mraise\u001b[39;00m _OperationCancelled(\u001b[38;5;124m\"\u001b[39m\u001b[38;5;124moperation cancelled\u001b[39m\u001b[38;5;124m\"\u001b[39m)\n",
      "File \u001b[0;32m/Library/Frameworks/Python.framework/Versions/3.9/lib/python3.9/site-packages/pymongo/socket_checker.py:66\u001b[0m, in \u001b[0;36mSocketChecker.select\u001b[0;34m(self, sock, read, write, timeout)\u001b[0m\n\u001b[1;32m     62\u001b[0m \u001b[38;5;28;01mtry\u001b[39;00m:\n\u001b[1;32m     63\u001b[0m     \u001b[38;5;66;03m# poll() timeout is in milliseconds. select()\u001b[39;00m\n\u001b[1;32m     64\u001b[0m     \u001b[38;5;66;03m# timeout is in seconds.\u001b[39;00m\n\u001b[1;32m     65\u001b[0m     timeout_ \u001b[38;5;241m=\u001b[39m \u001b[38;5;28;01mNone\u001b[39;00m \u001b[38;5;28;01mif\u001b[39;00m timeout \u001b[38;5;129;01mis\u001b[39;00m \u001b[38;5;28;01mNone\u001b[39;00m \u001b[38;5;28;01melse\u001b[39;00m timeout \u001b[38;5;241m*\u001b[39m \u001b[38;5;241m1000\u001b[39m\n\u001b[0;32m---> 66\u001b[0m     res \u001b[38;5;241m=\u001b[39m \u001b[38;5;28;43mself\u001b[39;49m\u001b[38;5;241;43m.\u001b[39;49m\u001b[43m_poller\u001b[49m\u001b[38;5;241;43m.\u001b[39;49m\u001b[43mpoll\u001b[49m\u001b[43m(\u001b[49m\u001b[43mtimeout_\u001b[49m\u001b[43m)\u001b[49m\n\u001b[1;32m     67\u001b[0m     \u001b[38;5;66;03m# poll returns a possibly-empty list containing\u001b[39;00m\n\u001b[1;32m     68\u001b[0m     \u001b[38;5;66;03m# (fd, event) 2-tuples for the descriptors that have\u001b[39;00m\n\u001b[1;32m     69\u001b[0m     \u001b[38;5;66;03m# events or errors to report. Return True if the list\u001b[39;00m\n\u001b[1;32m     70\u001b[0m     \u001b[38;5;66;03m# is not empty.\u001b[39;00m\n\u001b[1;32m     71\u001b[0m     \u001b[38;5;28;01mreturn\u001b[39;00m \u001b[38;5;28mbool\u001b[39m(res)\n",
      "\u001b[0;31mKeyboardInterrupt\u001b[0m: "
     ]
    }
   ],
   "source": [
    "# image_data = fs.find_one({\"filename\": \"clustering.png\"})\n",
    "image_data_list = []\n",
    "for i in query_results[\"matches\"]:\n",
    "    filename = i[\"id\"]\n",
    "    image_data = fs.find_one({\"filename\": filename})\n",
    "    image_data_list.append(image_data)"
   ]
  },
  {
   "cell_type": "code",
   "execution_count": 17,
   "id": "52c4ada0555646ac",
   "metadata": {
    "ExecuteTime": {
     "end_time": "2025-02-10T23:21:26.333765Z",
     "start_time": "2025-02-10T23:21:26.329184Z"
    }
   },
   "outputs": [
    {
     "data": {
      "text/plain": [
       "[<gridfs.synchronous.grid_file.GridOut at 0x1bb7c7d30>,\n",
       " <gridfs.synchronous.grid_file.GridOut at 0x1bda55e40>,\n",
       " <gridfs.synchronous.grid_file.GridOut at 0x1bda55990>,\n",
       " <gridfs.synchronous.grid_file.GridOut at 0x1bda55ed0>,\n",
       " <gridfs.synchronous.grid_file.GridOut at 0x1bda55e70>]"
      ]
     },
     "execution_count": 17,
     "metadata": {},
     "output_type": "execute_result"
    }
   ],
   "source": [
    "image_data_list"
   ]
  },
  {
   "cell_type": "code",
   "execution_count": 18,
   "id": "afff6c6b36f31186",
   "metadata": {
    "ExecuteTime": {
     "end_time": "2025-02-10T23:21:28.661599Z",
     "start_time": "2025-02-10T23:21:28.642496Z"
    }
   },
   "outputs": [],
   "source": [
    "from PIL import Image, ImageChops\n",
    "import io\n",
    "import hashlib\n",
    "import numpy as np\n",
    "from skimage.metrics import structural_similarity as ssim\n",
    "\n",
    "def images_are_equal(img1, img2):\n",
    "    \"\"\"Check if two images are identical pixel by pixel.\"\"\"\n",
    "    return ImageChops.difference(img1, img2).getbbox() is None\n",
    "\n",
    "def hash_image(image):\n",
    "    \"\"\"Compute hash of an image.\"\"\"\n",
    "    hasher = hashlib.md5()\n",
    "    hasher.update(image.tobytes())  # Convert image to bytes and hash\n",
    "    return hasher.hexdigest()\n",
    "\n",
    "def images_are_similar(img1, img2, threshold=0.7):\n",
    "    \"\"\"Compare two images using SSIM after resizing them to the same dimensions.\"\"\"\n",
    "    \n",
    "    # Convert to grayscale\n",
    "    img1_gray = img1.convert('L')\n",
    "    img2_gray = img2.convert('L')\n",
    "\n",
    "    # Resize images to the same size\n",
    "    common_size = (min(img1_gray.width, img2_gray.width), min(img1_gray.height, img2_gray.height))\n",
    "    img1_resized = img1_gray.resize(common_size, Image.LANCZOS)\n",
    "    img2_resized = img2_gray.resize(common_size, Image.LANCZOS)\n",
    "\n",
    "    # Convert to NumPy arrays\n",
    "    img1_np = np.array(img1_resized)\n",
    "    img2_np = np.array(img2_resized)\n",
    "\n",
    "    # Compute SSIM similarity\n",
    "    similarity = ssim(img1_np, img2_np)\n",
    "    print(similarity)\n",
    "    return similarity > threshold  # Return True if similar"
   ]
  },
  {
   "cell_type": "code",
   "execution_count": 19,
   "id": "e05e5d96b152baf5",
   "metadata": {
    "ExecuteTime": {
     "end_time": "2025-02-10T23:21:35.802157Z",
     "start_time": "2025-02-10T23:21:32.359656Z"
    }
   },
   "outputs": [
    {
     "name": "stderr",
     "output_type": "stream",
     "text": [
      "huggingface/tokenizers: The current process just got forked, after parallelism has already been used. Disabling parallelism to avoid deadlocks...\n",
      "To disable this warning, you can either:\n",
      "\t- Avoid using `tokenizers` before the fork if possible\n",
      "\t- Explicitly set the environment variable TOKENIZERS_PARALLELISM=(true | false)\n",
      "huggingface/tokenizers: The current process just got forked, after parallelism has already been used. Disabling parallelism to avoid deadlocks...\n",
      "To disable this warning, you can either:\n",
      "\t- Avoid using `tokenizers` before the fork if possible\n",
      "\t- Explicitly set the environment variable TOKENIZERS_PARALLELISM=(true | false)\n"
     ]
    },
    {
     "name": "stdout",
     "output_type": "stream",
     "text": [
      "0.7365119420482111\n",
      "⚠️ Similar image found at index <gridfs.synchronous.grid_file.GridOut object at 0x1bda55e40>\n",
      "0.7365119420482111\n",
      "⚠️ Similar image found at index <gridfs.synchronous.grid_file.GridOut object at 0x1bda55990>\n",
      "0.7365119420482111\n",
      "⚠️ Similar image found at index <gridfs.synchronous.grid_file.GridOut object at 0x1bda55ed0>\n",
      "0.7365119420482111\n",
      "⚠️ Similar image found at index <gridfs.synchronous.grid_file.GridOut object at 0x1bda55e70>\n"
     ]
    }
   ],
   "source": [
    "from PIL import Image, ImageChops\n",
    "import io\n",
    "import hashlib\n",
    "import numpy as np\n",
    "from skimage.metrics import structural_similarity as ssim\n",
    "\n",
    "\n",
    "\n",
    "if len(image_data_list)>0:\n",
    "    local_image_list = []\n",
    "    hashes = set()\n",
    "    user_input = input(\"\"\"\n",
    "    To use similarity, enter the number 1\n",
    "    To use hashing comparison, enter the number 2\n",
    "    To use pixel to pixel comparison, enter the number 3\n",
    "    \"\"\")\n",
    "    \n",
    "    for j in image_data_list:\n",
    "        if j:\n",
    "            # Convert binary data to a PIL Image\n",
    "            image = Image.open(io.BytesIO(j.read()))\n",
    "            \n",
    "            if user_input.strip() == \"1\":\n",
    "                duplicate_found = False\n",
    "                for stored_image in local_image_list:\n",
    "                    if images_are_similar(stored_image, image):\n",
    "                        print(f\"⚠️ Similar image found at index {j}\")\n",
    "                        duplicate_found = True\n",
    "                        break\n",
    "        \n",
    "                if not duplicate_found:\n",
    "                    local_image_list.append(image)\n",
    "                    image.show()\n",
    "            \n",
    "            elif user_input.strip() == \"2\":\n",
    "                img_hash = hash_image(image)\n",
    "                if img_hash in hashes:\n",
    "                    print(f\"⚠️ Duplicate image found at index {j}\")\n",
    "                else:\n",
    "                    hashes.add(img_hash)\n",
    "                    image.show()\n",
    "            \n",
    "            elif user_input.strip() == \"3\":\n",
    "                duplicate_found = False\n",
    "                for stored_image in local_image_list:\n",
    "                    if images_are_equal(stored_image, image):\n",
    "                        print(f\"⚠️ Duplicate image found at index {j}\")\n",
    "                        duplicate_found = True\n",
    "                        break\n",
    "    \n",
    "                if not duplicate_found:\n",
    "                    local_image_list.append(image)\n",
    "                    image.show()\n",
    "            else:\n",
    "                print(\"Wrong input!\")\n",
    "                sys.exit(1)\n",
    "            \n",
    "            \n",
    "            # Display the image\n",
    "            # image.show()\n",
    "        else:\n",
    "            print(\"❌ Image not found\")\n",
    "            \n",
    "            \n"
   ]
  },
  {
   "cell_type": "code",
   "execution_count": 20,
   "id": "d0d3f32ee452cb2a",
   "metadata": {
    "ExecuteTime": {
     "end_time": "2025-02-10T23:21:38.973990Z",
     "start_time": "2025-02-10T23:21:38.970399Z"
    }
   },
   "outputs": [
    {
     "data": {
      "text/plain": [
       "[<PIL.JpegImagePlugin.JpegImageFile image mode=RGB size=1300x917>]"
      ]
     },
     "execution_count": 20,
     "metadata": {},
     "output_type": "execute_result"
    }
   ],
   "source": [
    "local_image_list"
   ]
  },
  {
   "cell_type": "markdown",
   "id": "1e015c8e9a01b01e",
   "metadata": {},
   "source": [
    "---\n",
    "break\n",
    "---"
   ]
  },
  {
   "cell_type": "markdown",
   "id": "a025521686269183",
   "metadata": {},
   "source": [
    "# Embedding text and image at the same time"
   ]
  },
  {
   "cell_type": "code",
   "execution_count": 21,
   "id": "d19b676a2b6e657c",
   "metadata": {
    "ExecuteTime": {
     "end_time": "2025-02-10T23:31:47.025527Z",
     "start_time": "2025-02-10T23:31:47.005257Z"
    }
   },
   "outputs": [
    {
     "name": "stdout",
     "output_type": "stream",
     "text": [
      "Processing image 1\n",
      "✅ Successfully encoded 1 images.\n"
     ]
    }
   ],
   "source": [
    "import base64\n",
    "from PIL import Image\n",
    "import io\n",
    "\n",
    "\n",
    "encoded_images = []\n",
    "count = 0\n",
    "\n",
    "if len(image_data_list) > 0:\n",
    "    for j in local_image_list:\n",
    "        if j:\n",
    "            print(f\"Processing image {count + 1}\")\n",
    "            \n",
    "            try:\n",
    "                # Ensure the file pointer is at the start\n",
    "                j.seek(0)\n",
    "                \n",
    "                \n",
    "                # Convert to PNG format and encode\n",
    "                buffered = io.BytesIO()\n",
    "                j.save(buffered, format=\"JPEG\")\n",
    "                \n",
    "                encoded_image = base64.b64encode(buffered.getvalue()).decode(\"utf-8\")\n",
    "                encoded_images.append(encoded_image)\n",
    "                \n",
    "                count += 1\n",
    "            except Exception as e:\n",
    "                print(f\"❌ Error processing image {count + 1}: {e}\")\n",
    "        else:\n",
    "            print(\"❌ Image not found\")\n",
    "\n",
    "# Closing file handlers\n",
    "for img in image_data_list:\n",
    "    img.close()\n",
    "\n",
    "# Displaying the number of successfully encoded images\n",
    "print(f\"✅ Successfully encoded {count} images.\")\n"
   ]
  },
  {
   "cell_type": "code",
   "execution_count": 22,
   "id": "d6a6682fcf296401",
   "metadata": {
    "ExecuteTime": {
     "end_time": "2025-02-10T23:32:04.005160Z",
     "start_time": "2025-02-10T23:32:04.000434Z"
    }
   },
   "outputs": [],
   "source": [
    "# prompt = f\"\"\"You are an expert LLM assistant specialized in answering questions related to computer science/data science/machine learning/LLM. Use the retrieved information from RAG (Retrieved information and Image Descriptions) and your knowledge to respond accurately and clearly to each question.\n",
    "# \n",
    "# Guidelines:\n",
    "# 1. Provide concise and informative answers.\n",
    "# 2. If the question is beyond the scope of your knowledge or the provided information, state, \"I don't know.\"\n",
    "# 3. If the context section (the information that is returned by RAG pipeline) has no information about a part of the question, please express that \"The retrieved information did not contain answer to this question\" but if you can answer it based on your knowledge please do\n",
    "# 4. Use examples where applicable to illustrate your answers.\n",
    "# 5. Maintain a professional and helpful tone.\n",
    "# \n",
    "# Question: {user_query}\n",
    "# \n",
    "# Retrieved Information: {format_docs(retrieved_docs)}\n",
    "# \n",
    "# Answer:\n",
    "# \"\"\"\n",
    "\n",
    "prompt = f\"\"\"\n",
    "Guidelines:\n",
    "1. Provide extensive and informative answers.\n",
    "2. If the question is beyond the scope of your knowledge or the provided information, state, \"I don't know.\"\n",
    "3. If the context section (the information that is returned by RAG pipeline) has no information about a part of the question, please express that \"The retrieved information did not contain answer to this question\" but if you can answer it based on your knowledge please do\n",
    "4. Use examples where applicable to illustrate your answers.\n",
    "5. Maintain a professional and helpful tone.\n",
    "\n",
    "Question: {user_query}\n",
    "\n",
    "Retrieved Information: {format_docs(retrieved_docs)}\n",
    "\n",
    "Answer:\n",
    "\"\"\"\n"
   ]
  },
  {
   "cell_type": "code",
   "execution_count": 23,
   "id": "2ef7707bc5b04715",
   "metadata": {
    "ExecuteTime": {
     "end_time": "2025-02-10T23:32:04.489116Z",
     "start_time": "2025-02-10T23:32:04.486668Z"
    }
   },
   "outputs": [],
   "source": [
    "content = [{\"type\":\"text\", \"text\":prompt}]\n",
    "for img in encoded_images:\n",
    "    content.append({\n",
    "        \"type\":\"image_url\",\n",
    "        \"image_url\":{\n",
    "            \"url\":f\"data:image/jpeg;base64, {img}\"\n",
    "        }\n",
    "    })"
   ]
  },
  {
   "cell_type": "code",
   "execution_count": 24,
   "id": "cd493e60e9c5df84",
   "metadata": {
    "ExecuteTime": {
     "end_time": "2025-02-10T23:32:20.413004Z",
     "start_time": "2025-02-10T23:32:05.297814Z"
    }
   },
   "outputs": [
    {
     "name": "stdout",
     "output_type": "stream",
     "text": [
      "Supervised and unsupervised learning are two fundamental approaches in machine learning, each designed to address different types of tasks.\n",
      "\n",
      "### Supervised Learning\n",
      "\n",
      "**Definition:**\n",
      "Supervised learning involves training a model on a labeled dataset, meaning that each training example is paired with an output label. The aim is to learn the mapping from inputs to outputs to predict labels for new, unseen data.\n",
      "\n",
      "**How It Works:**\n",
      "- **Input**: A set of input features \\(X\\).\n",
      "- **Output**: A known label \\(Y\\), which is what the model attempts to predict.\n",
      "- **Goal**: Learn a function \\(f(X) = Y\\) that can map inputs to outputs.\n",
      "- **Examples**: \n",
      "  - **Classification**: Predicting a category. For example, email spam detection (spam or not spam).\n",
      "  - **Regression**: Predicting a continuous value. For instance, predicting house prices based on features like size and location.\n",
      "\n",
      "**Applications:**\n",
      "Supervised learning is widely used in applications where past observations with known outcomes are available, such as fraud detection, risk assessment, and personalized recommendations.\n",
      "\n",
      "### Unsupervised Learning\n",
      "\n",
      "**Definition:**\n",
      "Unsupervised learning deals with data that does not have labeled responses. The model attempts to identify patterns, structures, or relationships within the data.\n",
      "\n",
      "**How It Works:**\n",
      "- **Input**: A set of input features \\(X\\) without associated labels.\n",
      "- **Goal**: Discover the underlying structure, such as clusters or associations, within the data.\n",
      "- **Examples**:\n",
      "  - **Clustering**: Grouping similar data points together. An example is customer segmentation based on purchasing behavior.\n",
      "  - **Association**: Discovering relationships between variables. For instance, market basket analysis in retail to identify products frequently bought together.\n",
      "\n",
      "**Challenges:**\n",
      "Unsupervised learning can be more complex because it requires qualitative interpretation and the outcome is not always clear compared to supervised tasks.\n",
      "\n",
      "**Applications:**\n",
      "Unsupervised learning is useful in exploratory data analysis, anomaly detection, and dimensionality reduction tasks where the aim is to gain insights into the data structure.\n",
      "\n",
      "### Key Differences\n",
      "\n",
      "- **Labeling**: Supervised learning requires labeled data while unsupervised learning does not.\n",
      "- **Objective**: Supervised learning aims to predict outputs for new data, while unsupervised learning seeks to identify hidden patterns or groupings.\n",
      "- **Examples**: Supervised examples include classification and regression tasks, whereas unsupervised examples include clustering and association.\n",
      "\n",
      "In summary, the primary distinction lies in the presence or absence of labels in the dataset and the nature of the task being accomplished. Each approach has its unique benefits and applications, and the choice between them depends on the problem at hand and the availability of labeled data.\n"
     ]
    }
   ],
   "source": [
    "from openai import OpenAI\n",
    "\n",
    "client = OpenAI(api_key=open_ai_key)\n",
    "\n",
    "try:\n",
    "    chat = client.chat.completions.create(\n",
    "        model=\"gpt-4o\",\n",
    "        messages=[\n",
    "            {\n",
    "            \"role\":\"system\",\n",
    "            \"content\":\"You are an expert LLM assistant specialized in answering questions related to computer science/data science/machine learning/LLM. Use the retrieved information from RAG (Retrieved information and Image Descriptions) and your knowledge to respond accurately and clearly to each question.\"\n",
    "        },\n",
    "            {\n",
    "                \"role\": \"user\",\n",
    "                \"content\": content\n",
    "            }\n",
    "        ]\n",
    "    )\n",
    "    \n",
    "    print(chat.choices[0].message.content)\n",
    "except Exception as e:\n",
    "    print(f\"An error occurred: {e}\")"
   ]
  },
  {
   "cell_type": "code",
   "execution_count": 21,
   "id": "960bfcca",
   "metadata": {},
   "outputs": [],
   "source": [
    "import numpy as np\n",
    "from openai import OpenAI\n",
    "from langchain_huggingface import HuggingFaceEmbeddings\n",
    "from langchain_pinecone import PineconeVectorStore\n",
    "from transformers import CLIPProcessor, CLIPModel\n",
    "from pymongo import MongoClient\n",
    "import gridfs\n",
    "import base64\n",
    "from PIL import Image\n",
    "import io\n",
    "\n",
    "class RAGBot:\n",
    "    def __init__(self, model=\"gpt-4o\"):\n",
    "        self.llm = OpenAI(api_key=open_ai_key)\n",
    "        self.embeddings = HuggingFaceEmbeddings(model_name=\"sentence-transformers/all-mpnet-base-v2\")\n",
    "        self.doc_embeddings = None\n",
    "        self.docs = None\n",
    "        self.vector_store = PineconeVectorStore(embedding=self.embeddings, index=index_text)\n",
    "        self.clip_model = clip_model\n",
    "        self.clip_processor = clip_processor\n",
    "        self.mongo_client = client\n",
    "        self.db = db\n",
    "        self.fs = fs\n",
    "\n",
    "    def load_documents(self, documents):\n",
    "        \"\"\"Load documents and compute their embeddings.\"\"\"\n",
    "        self.docs = documents\n",
    "        self.doc_embeddings = self.embeddings.embed_documents(documents)\n",
    "\n",
    "    def get_most_relevant_docs(self, query):\n",
    "        \"\"\"Find the most relevant document for a given query.\"\"\"\n",
    "        if not self.docs or not self.doc_embeddings:\n",
    "            raise ValueError(\"Documents and their embeddings are not loaded.\")\n",
    "\n",
    "        query_embedding = self.embeddings.embed_query(query)\n",
    "        similarities = [\n",
    "            np.dot(query_embedding, doc_emb)\n",
    "            / (np.linalg.norm(query_embedding) * np.linalg.norm(doc_emb))\n",
    "            for doc_emb in self.doc_embeddings\n",
    "        ]\n",
    "        most_relevant_doc_index = np.argmax(similarities)\n",
    "        return [self.docs[most_relevant_doc_index]]\n",
    "\n",
    "    def generate_answer(self, query, relevant_doc):\n",
    "        \"\"\"Generate an answer for a given query based on the most relevant document.\"\"\"\n",
    "        prompt = f\"question: {query}\\n\\nDocuments: {relevant_doc}\"\n",
    "        messages = [\n",
    "            {\"role\": \"system\", \"content\": \"You are a helpful assistant that answers questions based on given documents only.\"},\n",
    "            {\"role\": \"user\", \"content\": prompt},\n",
    "        ]\n",
    "        try:\n",
    "            chat = self.llm.chat.completions.create(\n",
    "                model=\"gpt-4o\",\n",
    "                messages=messages\n",
    "            )\n",
    "            return chat.choices[0].message.content\n",
    "        except Exception as e:\n",
    "            print(f\"An error occurred: {e}\")\n",
    "            return None\n",
    "\n",
    "    def embed_query(self, query):\n",
    "        \"\"\"Embed the query using CLIP model.\"\"\"\n",
    "        inputs = self.clip_processor(text=[query], return_tensors=\"pt\", padding=True)\n",
    "        text_embedding = self.clip_model.get_text_features(**inputs).detach().numpy().tolist()[0]\n",
    "        return text_embedding\n",
    "\n",
    "    def query_pinecone(self, text_embedding):\n",
    "        \"\"\"Query Pinecone vector db and return top 5 matches.\"\"\"\n",
    "        query_results = index.query(vector=text_embedding, top_k=5, include_metadata=True)\n",
    "        return query_results[\"matches\"]\n",
    "\n",
    "    def retrieve_images(self, query_results):\n",
    "        \"\"\"Retrieve images from MongoDB based on Pinecone query results.\"\"\"\n",
    "        image_data_list = []\n",
    "        for i in query_results:\n",
    "            filename = i[\"id\"]\n",
    "            image_data = self.fs.find_one({\"filename\": filename})\n",
    "            image_data_list.append(image_data)\n",
    "        return image_data_list\n",
    "\n",
    "    def encode_images(self, image_data_list):\n",
    "        \"\"\"Encode images to base64.\"\"\"\n",
    "        encoded_images = []\n",
    "        for img_data in image_data_list:\n",
    "            if img_data:\n",
    "                img = Image.open(io.BytesIO(img_data.read()))\n",
    "                buffered = io.BytesIO()\n",
    "                img.save(buffered, format=\"JPEG\")\n",
    "                encoded_image = base64.b64encode(buffered.getvalue()).decode(\"utf-8\")\n",
    "                encoded_images.append(encoded_image)\n",
    "        return encoded_images"
   ]
  },
  {
   "cell_type": "code",
   "execution_count": null,
   "id": "98641c09",
   "metadata": {},
   "outputs": [],
   "source": [
    "sample_docs = [\n",
    "    \"What are the components of a decision tree?\",\n",
    "    \"What is k-means clustering?\",\n",
    "    \"What is the bias-variance tradeoff?\",\n",
    "    \"What is overfitting in the context of machine learning?\",\n",
    "    \"What does a decision boundary mean in the context of K-nearest neighbors?\",\n",
    "    \"What are ensemble learning methods, and how do they improve model performance?\"\n",
    "]"
   ]
  }
 ],
 "metadata": {
  "kernelspec": {
   "display_name": "Python 3",
   "language": "python",
   "name": "python3"
  },
  "language_info": {
   "codemirror_mode": {
    "name": "ipython",
    "version": 3
   },
   "file_extension": ".py",
   "mimetype": "text/x-python",
   "name": "python",
   "nbconvert_exporter": "python",
   "pygments_lexer": "ipython3",
   "version": "3.9.6"
  }
 },
 "nbformat": 4,
 "nbformat_minor": 5
}
