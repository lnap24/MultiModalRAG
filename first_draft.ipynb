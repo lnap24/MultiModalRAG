{
 "cells": [
  {
   "cell_type": "code",
   "execution_count": null,
   "metadata": {},
   "outputs": [],
   "source": [
    "# document loader - pdf reader\n",
    "\n",
    "# splitter\n",
    "\n",
    "# embedder - check embeddings for handling image/greek letters \n",
    "\n",
    "# storer"
   ]
  }
 ],
 "metadata": {
  "language_info": {
   "name": "python"
  }
 },
 "nbformat": 4,
 "nbformat_minor": 2
}
