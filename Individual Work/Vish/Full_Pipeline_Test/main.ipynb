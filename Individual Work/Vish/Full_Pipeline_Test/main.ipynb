{
 "cells": [
  {
   "cell_type": "code",
   "execution_count": 1,
   "metadata": {},
   "outputs": [
    {
     "name": "stdout",
     "output_type": "stream",
     "text": [
      "WARNING:tensorflow:From C:\\Users\\vishg\\AppData\\Roaming\\Python\\Python312\\site-packages\\tf_keras\\src\\losses.py:2976: The name tf.losses.sparse_softmax_cross_entropy is deprecated. Please use tf.compat.v1.losses.sparse_softmax_cross_entropy instead.\n",
      "\n",
      "\n",
      "Initializing embedding models...DONE\n",
      "\n",
      "Connecting to Pinecone...DONE\n",
      "Setting up Pinecone indices...DONE\n",
      "\n",
      "Initializing Ollama client...DONE\n",
      "\n",
      "Initializing log handler...DONE\n",
      "Query: What is Machine Learning?\n",
      "Generating text embeddings...DONE\n",
      "Querying Pinecone text index for top 5 matches...DONE\n",
      "Generating Ollama response...DONE\n",
      "Saving interaction to log...DONE\n",
      "\n",
      "\n",
      "\n",
      "Query: What is Machine Learning?\n",
      "Response:  Machine Learning (ML) is a subfield of artificial intelligence that focuses on the development of algorithms and statistical models that computer systems can use to learn and improve from experience without being explicitly programmed. ML enables computers to automatically analyze large amounts of data, identify patterns and make predictions or decisions based on those patterns. In other words, it allows machines to learn and adapt over time without human intervention. \n",
      "\n",
      "Example: One real-world application of Machine Learning is the use of predictive models in the healthcare industry. Medical professionals can use ML algorithms to analyze large amounts of patient data and identify risk factors for diseases or determine the most effective treatment options based on individual patient characteristics. Another example is the use of ML algorithms in personalized advertising, where ML systems learn from user behavior and preferences to deliver targeted ads.\n",
      "\n",
      "Query: What is KL Divergence?\n",
      "Generating text embeddings...DONE\n",
      "Querying Pinecone text index for top 5 matches...DONE\n",
      "Generating Ollama response...DONE\n",
      "Saving interaction to log...DONE\n",
      "\n",
      "\n",
      "\n",
      "Query: What is KL Divergence?\n",
      "Response:  KL Divergence is a measure of the difference between two probability distributions. It quantifies how one probability distribution diverges from another, and it has several applications in machine learning and information theory. In other words, it measures how much information is lost when we compress or store data using different algorithms. If you would like to learn more about KL Divergence and its uses, I can provide further examples for you.\n",
      "\n",
      "Query: What is Boosting in XGBoost?\n",
      "Generating text embeddings...DONE\n",
      "Querying Pinecone text index for top 5 matches...DONE\n",
      "Generating Ollama response...DONE\n",
      "Saving interaction to log...DONE\n",
      "\n",
      "\n",
      "\n",
      "Query: What is Boosting in XGBoost?\n",
      "Response:  Boosting is a machine learning algorithm used in the XGBoost library to improve prediction accuracy by combining multiple weaker models, typically decision trees. It works by assigning weights to each data point based on their error rate and iteratively updating the model's parameters to minimize the weighted error. \n",
      "\n",
      "        I hope this helps! If you have any other questions or need further information, please let me know.\n",
      "\n"
     ]
    }
   ],
   "source": [
    "from src.pipeline import MultiModalRAG\n",
    "import keyboard\n",
    "\n",
    "mmr = MultiModalRAG()\n",
    "while True:\n",
    "    query = input(\"\\nEnter your query: \")\n",
    "    if keyboard.is_pressed('esc'): \n",
    "        break\n",
    "        \n",
    "    try:\n",
    "        print(f\"Query: {query}\")\n",
    "        response = mmr.process_query(query)\n",
    "        \n",
    "\n",
    "        print(f\"\\n\\n\\nQuery: {query}\")\n",
    "        print(f\"Response: {response}\")\n",
    "\n",
    "    except Exception as e:\n",
    "        print(f\"An error occurred: {e}\")\n"
   ]
  },
  {
   "cell_type": "code",
   "execution_count": null,
   "metadata": {},
   "outputs": [],
   "source": []
  }
 ],
 "metadata": {
  "kernelspec": {
   "display_name": "base",
   "language": "python",
   "name": "python3"
  },
  "language_info": {
   "codemirror_mode": {
    "name": "ipython",
    "version": 3
   },
   "file_extension": ".py",
   "mimetype": "text/x-python",
   "name": "python",
   "nbconvert_exporter": "python",
   "pygments_lexer": "ipython3",
   "version": "3.12.3"
  }
 },
 "nbformat": 4,
 "nbformat_minor": 2
}
