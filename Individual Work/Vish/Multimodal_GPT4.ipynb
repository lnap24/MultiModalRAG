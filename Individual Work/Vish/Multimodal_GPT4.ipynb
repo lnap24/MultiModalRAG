{
 "cells": [
  {
   "cell_type": "markdown",
   "id": "83c947a007cad28d",
   "metadata": {},
   "source": [
    "# Model Initiation"
   ]
  },
  {
   "cell_type": "code",
   "execution_count": 28,
   "id": "ddfc3040225af5c0",
   "metadata": {
    "ExecuteTime": {
     "end_time": "2025-02-10T23:21:07.124617Z",
     "start_time": "2025-02-10T23:21:03.463845Z"
    }
   },
   "outputs": [
    {
     "name": "stderr",
     "output_type": "stream",
     "text": [
      "C:\\Users\\vishg\\AppData\\Roaming\\Python\\Python312\\site-packages\\transformers\\tokenization_utils_base.py:1617: FutureWarning: `clean_up_tokenization_spaces` was not set. It will be set to `True` by default. This behavior will be deprecated in transformers v4.45, and will be then set to `False` by default. For more details check this issue: https://github.com/huggingface/transformers/issues/31884\n",
      "  warnings.warn(\n"
     ]
    }
   ],
   "source": [
    "import sys\n",
    "\n",
    "from transformers import CLIPProcessor, CLIPModel\n",
    "from PIL import Image\n",
    "import torch\n",
    "\n",
    "clip_model = CLIPModel.from_pretrained(\"openai/clip-vit-base-patch32\")\n",
    "clip_processor = CLIPProcessor.from_pretrained(\"openai/clip-vit-base-patch32\")\n"
   ]
  },
  {
   "cell_type": "markdown",
   "id": "850f3e0ff70af3f3",
   "metadata": {},
   "source": [
    "# Load the Necessary API Keys"
   ]
  },
  {
   "cell_type": "code",
   "execution_count": 29,
   "id": "445467849134e21d",
   "metadata": {
    "ExecuteTime": {
     "end_time": "2025-02-10T23:21:07.949878Z",
     "start_time": "2025-02-10T23:21:07.942705Z"
    }
   },
   "outputs": [],
   "source": [
    "from dotenv import load_dotenv\n",
    "import os\n",
    "\n",
    "load_dotenv()\n",
    "\n",
    "huggingface_api_key = os.getenv(\"hugging_face_key\")\n",
    "pinecone_key = os.getenv(\"pinecone_api_key\")\n",
    "mongo_uri = os.getenv(\"mongo_db_key\")\n",
    "open_ai_key = os.getenv(\"open_ai_api_key\")\n"
   ]
  },
  {
   "cell_type": "markdown",
   "id": "716b6d3055e0e9d0",
   "metadata": {},
   "source": [
    "# Set-up/Connect to Pinecone"
   ]
  },
  {
   "cell_type": "code",
   "execution_count": 30,
   "id": "2d87d8c5dce624bb",
   "metadata": {
    "ExecuteTime": {
     "end_time": "2025-02-10T23:21:09.908956Z",
     "start_time": "2025-02-10T23:21:08.844804Z"
    }
   },
   "outputs": [],
   "source": [
    "#create index\n",
    "from pinecone import Pinecone, ServerlessSpec\n",
    "from langchain_pinecone import PineconeVectorStore\n",
    "\n",
    "pc = Pinecone(api_key=pinecone_key)\n",
    "index_name = \"rag-app-images\"\n",
    "\n",
    "\n",
    "if index_name not in pc.list_indexes().names():\n",
    "    pc.create_index(\n",
    "        name = index_name,\n",
    "        dimension=512,\n",
    "        metric=\"cosine\",\n",
    "        spec=ServerlessSpec(cloud = \"aws\", region=\"us-east-1\")\n",
    "    )\n",
    "\n",
    "index = pc.Index(index_name)\n",
    "\n",
    "#vector_store = PineconeVectorStore(embedding=embeddings, index=index)"
   ]
  },
  {
   "cell_type": "code",
   "execution_count": 31,
   "id": "10e2863a8ad23085",
   "metadata": {
    "ExecuteTime": {
     "end_time": "2025-02-10T23:21:10.425555Z",
     "start_time": "2025-02-10T23:21:10.347778Z"
    }
   },
   "outputs": [
    {
     "name": "stdout",
     "output_type": "stream",
     "text": [
      "The token has not been saved to the git credentials helper. Pass `add_to_git_credential=True` in this function directly or `--add-to-git-credential` if using via `huggingface-cli` if you want to set the git credential as well.\n",
      "Token is valid (permission: read).\n",
      "Your token has been saved to C:\\Users\\vishg\\.cache\\huggingface\\token\n",
      "Login successful\n"
     ]
    },
    {
     "data": {
      "text/plain": [
       "{'type': 'user',\n",
       " 'id': '66d5147ab005ad82ca47182f',\n",
       " 'name': 'dorukozar',\n",
       " 'fullname': 'Doruk Ozar',\n",
       " 'email': 'dorukozar@gmail.com',\n",
       " 'emailVerified': True,\n",
       " 'canPay': False,\n",
       " 'periodEnd': None,\n",
       " 'isPro': False,\n",
       " 'avatarUrl': '/avatars/06335824f9a6991ec7b901b31802dd5b.svg',\n",
       " 'orgs': [],\n",
       " 'auth': {'type': 'access_token',\n",
       "  'accessToken': {'displayName': 'Presentation',\n",
       "   'role': 'read',\n",
       "   'createdAt': '2025-01-16T00:00:59.134Z'}}}"
      ]
     },
     "execution_count": 31,
     "metadata": {},
     "output_type": "execute_result"
    }
   ],
   "source": [
    "from huggingface_hub import login\n",
    "from huggingface_hub import whoami\n",
    "\n",
    "login(huggingface_api_key)\n",
    "whoami()"
   ]
  },
  {
   "cell_type": "code",
   "execution_count": 32,
   "id": "fbe76ebc37081441",
   "metadata": {
    "ExecuteTime": {
     "end_time": "2025-02-10T23:21:12.320965Z",
     "start_time": "2025-02-10T23:21:10.857335Z"
    }
   },
   "outputs": [],
   "source": [
    "from langchain_huggingface import HuggingFaceEmbeddings\n",
    "\n",
    "huggingface_embeddings = HuggingFaceEmbeddings(model_name=\"sentence-transformers/all-mpnet-base-v2\")"
   ]
  },
  {
   "cell_type": "code",
   "execution_count": 33,
   "id": "2d1a513e1f6c997e",
   "metadata": {
    "ExecuteTime": {
     "end_time": "2025-02-10T23:21:13.142046Z",
     "start_time": "2025-02-10T23:21:12.782016Z"
    }
   },
   "outputs": [],
   "source": [
    "#create index\n",
    "from pinecone import Pinecone, ServerlessSpec\n",
    "from langchain_pinecone import PineconeVectorStore\n",
    "\n",
    "pc = Pinecone(api_key=pinecone_key)\n",
    "index_name = \"rag-app\"\n",
    "\n",
    "\n",
    "if index_name not in pc.list_indexes().names():\n",
    "    pc.create_index(\n",
    "        name = index_name,\n",
    "        dimension=768,\n",
    "        metric=\"cosine\",\n",
    "        spec=ServerlessSpec(cloud = \"aws\", region=\"us-east-1\")\n",
    "    )\n",
    "\n",
    "index_text = pc.Index(index_name)\n",
    "\n",
    "vector_store_text = PineconeVectorStore(embedding=huggingface_embeddings, index=index_text)"
   ]
  },
  {
   "cell_type": "code",
   "execution_count": 34,
   "id": "73d668c8639195bc",
   "metadata": {
    "ExecuteTime": {
     "end_time": "2025-02-10T23:21:16.134171Z",
     "start_time": "2025-02-10T23:21:13.222267Z"
    }
   },
   "outputs": [
    {
     "data": {
      "text/plain": [
       "[Document(id='f3a35047-d5ad-4da6-80ad-d483e1e1c87a', metadata={'source_id': 'PhaseII-DataPrepAndProblemExploration.txt'}, page_content=\"foundational concept of machine learning is how we do this training tuning and test data sets and what that involves is dividing our data set into three partitions one that's fairly large that's probably the training set that might be eighty percent of the data and then two smaller data sets all right used for tuning and test all right so tuning is a way that we can modify our algorithm whether that is the hyper parameters or remember the hyper parameters are this particular features of an algorithm that can be adjusted or we do data engineering right which are the actual variables that are going into the model we might change those and then seeing how that affects the performance of the model all right so we do all sorts of things in the training and tuning phase to try and optimize this performance and when we think it's totally done we think we've got a really good model going based off the back and forth between training and tuning data set and I'll show you how to do this and\"),\n",
       " Document(id='4d1f5955-be2c-46c7-8f29-fbf4f13be778', metadata={'source_id': 'MLPhaseIII.txt'}, page_content=\"this last phase like i said it's kind of in model creation but still could be in this initial model phase all right so uh let's just jump into it just have a few things to cover we've covered a bit of this in class but you know parameters versus hyper parameters all right so remember parameters when we think about you know our you know the every data scientist's goal here just to put things in a this is just an ugly example you know in a data frame right so we have our our variables here so on and so forth yadda yadda right all right so these are our these are our parameters okay these could be the parameters there's another word for this it's just features variables however you want to say it all right the parameters okay are going to be the things inside of the model that we can change all right so already shown you some examples of these but you know k in knn is a hyper parameter right so we can adjust the number of neighbors up and down if you've watched that video already totally\"),\n",
       " Document(id='4786095e-4b2c-4d67-a665-521c84e1d975', metadata={'source_id': 'MachineLearningFoundationsPhaseIIDataPrep.txt'}, page_content=\"that we can do to modify the changing process training process that will affect how that machine learning algorithm is learned right and so we're going to use the tuning set that every time we make a little tweak all right we're going to use the tuning set to see how well the model improved right and if it improves then we're going to keep those changes right if it doesn't improve we might go back and change something else and then we'll evaluate it again with the tuning set it's not until we're done until we think we're gonna make any more tweaks to the hyper parameters or to the data features that we're passing in or you know any of the other number of changes that you could make are we going to use that test set all right let me put that test set take it out put it on the shelf just forget about it all right we do that the very end all right until we've punished this data so we can't think of any more creative ways to to put it into our into our algorithm and make it perform better\"),\n",
       " Document(id='e79581db-297e-47ad-b6da-55c7d29c7403', metadata={'source_id': 'doingdatascience'}, page_content='matrix, which expresses our prior that coefficients vary smoothly. Note\\nthat the symmetric matrix I−M τ I−M  has 1’s along its sub- and\\nsuper-diagonal, but also has 2’s along its diagonal. In other words, we\\nneed to adjust our λ as we adjust our μ because there is an interaction\\nbetween these terms.\\nPriors and Higher Derivatives\\nIf you want to, you can add a prior about the second derivative\\n(or other higher derivatives) as well, by squaring the derivative\\noperator I−M  (or taking higher powers of it).\\nSo what’s the model? Well, remember we will choose an exponential\\ndownweighting term γ for our data, and we will keep a running esti‐\\nmate of both xτx and xτy as was explained previously. The hyperpara‐\\nmeters of our model are then γ, λ, and μ. We usually have a sense of\\nhow large γ should be based on the market, and the other two param‐\\neters depend on each other and on the data itself. This is where it\\nbecomes an art—you want to optimize to some extent on these choices,'),\n",
       " Document(id='67d48651-6121-433d-9e90-bcdc75bb0f3d', metadata={'source_id': 'MachineLearningFoundationsPhaseIIDataPrep.txt'}, page_content=\"again that you won't really know how it works until you put it out into the real world but this is one way to do it all right just to get started give yourself a chance at evaluating just how well the algorithm working and it's it's the way that machine learning is done all right so this is how we define these things this is how we build the original model all right some people get tuning can be a little confusing okay so tuning is the data that we pass in to the trained model by train meaning that we trained a model using sixty percent of it and the first thing we do is we evaluate it using that tune data all right and we do that principally because we're going to make changes to that algorithm all right we're going to change the hyper parameters right we're going to build more features okay we're going to maybe over sample we're going to under sample right there's all sorts of things that we can do to modify the changing process training process that will affect how that machine\")]"
      ]
     },
     "execution_count": 34,
     "metadata": {},
     "output_type": "execute_result"
    }
   ],
   "source": [
    "user_query = \"What is hyper parameter tuning?\"\n",
    "retriever = vector_store_text.as_retriever(search_kwargs={\"k\":5})\n",
    "# retriever.get_relevant_documents(query)\n",
    "retrieved_docs = retriever.invoke(user_query)\n",
    "retrieved_docs"
   ]
  },
  {
   "cell_type": "code",
   "execution_count": 35,
   "id": "236fb65fb085b2e0",
   "metadata": {
    "ExecuteTime": {
     "end_time": "2025-02-10T23:21:16.818198Z",
     "start_time": "2025-02-10T23:21:16.814275Z"
    }
   },
   "outputs": [
    {
     "name": "stdout",
     "output_type": "stream",
     "text": [
      "foundational concept of machine learning is how we do this training tuning and test data sets and what that involves is dividing our data set into three partitions one that's fairly large that's probably the training set that might be eighty percent of the data and then two smaller data sets all right used for tuning and test all right so tuning is a way that we can modify our algorithm whether that is the hyper parameters or remember the hyper parameters are this particular features of an algorithm that can be adjusted or we do data engineering right which are the actual variables that are going into the model we might change those and then seeing how that affects the performance of the model all right so we do all sorts of things in the training and tuning phase to try and optimize this performance and when we think it's totally done we think we've got a really good model going based off the back and forth between training and tuning data set and I'll show you how to do this and\n",
      "\n",
      "this last phase like i said it's kind of in model creation but still could be in this initial model phase all right so uh let's just jump into it just have a few things to cover we've covered a bit of this in class but you know parameters versus hyper parameters all right so remember parameters when we think about you know our you know the every data scientist's goal here just to put things in a this is just an ugly example you know in a data frame right so we have our our variables here so on and so forth yadda yadda right all right so these are our these are our parameters okay these could be the parameters there's another word for this it's just features variables however you want to say it all right the parameters okay are going to be the things inside of the model that we can change all right so already shown you some examples of these but you know k in knn is a hyper parameter right so we can adjust the number of neighbors up and down if you've watched that video already totally\n",
      "\n",
      "that we can do to modify the changing process training process that will affect how that machine learning algorithm is learned right and so we're going to use the tuning set that every time we make a little tweak all right we're going to use the tuning set to see how well the model improved right and if it improves then we're going to keep those changes right if it doesn't improve we might go back and change something else and then we'll evaluate it again with the tuning set it's not until we're done until we think we're gonna make any more tweaks to the hyper parameters or to the data features that we're passing in or you know any of the other number of changes that you could make are we going to use that test set all right let me put that test set take it out put it on the shelf just forget about it all right we do that the very end all right until we've punished this data so we can't think of any more creative ways to to put it into our into our algorithm and make it perform better\n",
      "\n",
      "matrix, which expresses our prior that coefficients vary smoothly. Note\n",
      "that the symmetric matrix I−M τ I−M  has 1’s along its sub- and\n",
      "super-diagonal, but also has 2’s along its diagonal. In other words, we\n",
      "need to adjust our λ as we adjust our μ because there is an interaction\n",
      "between these terms.\n",
      "Priors and Higher Derivatives\n",
      "If you want to, you can add a prior about the second derivative\n",
      "(or other higher derivatives) as well, by squaring the derivative\n",
      "operator I−M  (or taking higher powers of it).\n",
      "So what’s the model? Well, remember we will choose an exponential\n",
      "downweighting term γ for our data, and we will keep a running esti‐\n",
      "mate of both xτx and xτy as was explained previously. The hyperpara‐\n",
      "meters of our model are then γ, λ, and μ. We usually have a sense of\n",
      "how large γ should be based on the market, and the other two param‐\n",
      "eters depend on each other and on the data itself. This is where it\n",
      "becomes an art—you want to optimize to some extent on these choices,\n",
      "\n",
      "again that you won't really know how it works until you put it out into the real world but this is one way to do it all right just to get started give yourself a chance at evaluating just how well the algorithm working and it's it's the way that machine learning is done all right so this is how we define these things this is how we build the original model all right some people get tuning can be a little confusing okay so tuning is the data that we pass in to the trained model by train meaning that we trained a model using sixty percent of it and the first thing we do is we evaluate it using that tune data all right and we do that principally because we're going to make changes to that algorithm all right we're going to change the hyper parameters right we're going to build more features okay we're going to maybe over sample we're going to under sample right there's all sorts of things that we can do to modify the changing process training process that will affect how that machine\n"
     ]
    }
   ],
   "source": [
    "def format_docs(docs):\n",
    "    return \"\\n\\n\".join(doc.page_content for doc in docs)\n",
    "\n",
    "print(format_docs(retrieved_docs))"
   ]
  },
  {
   "cell_type": "markdown",
   "id": "2e2b8c59dea09d8",
   "metadata": {},
   "source": [
    "# Embed the query"
   ]
  },
  {
   "cell_type": "code",
   "execution_count": 36,
   "id": "87a06198d92826bf",
   "metadata": {
    "ExecuteTime": {
     "end_time": "2025-02-10T23:21:18.369874Z",
     "start_time": "2025-02-10T23:21:18.319020Z"
    }
   },
   "outputs": [],
   "source": [
    "inputs = clip_processor(text=[user_query], return_tensors=\"pt\", padding=True)\n",
    "text_embedding = clip_model.get_text_features(**inputs).detach().numpy().tolist()[0]"
   ]
  },
  {
   "cell_type": "markdown",
   "id": "4fafe291424f1c99",
   "metadata": {},
   "source": [
    "# Query the Pinecone vector db and return top 5 matches"
   ]
  },
  {
   "cell_type": "code",
   "execution_count": 37,
   "id": "ad6971ecde8670d6",
   "metadata": {
    "ExecuteTime": {
     "end_time": "2025-02-10T23:21:19.472625Z",
     "start_time": "2025-02-10T23:21:19.359418Z"
    }
   },
   "outputs": [],
   "source": [
    "query_results = index.query(vector=text_embedding, top_k=5, include_metadata=True)"
   ]
  },
  {
   "cell_type": "code",
   "execution_count": 38,
   "id": "e76cdfc92d9ad6bf",
   "metadata": {
    "ExecuteTime": {
     "end_time": "2025-02-10T23:21:20.407070Z",
     "start_time": "2025-02-10T23:21:20.404030Z"
    }
   },
   "outputs": [
    {
     "data": {
      "text/plain": [
       "[{'id': 'Clustering_InClass_9.28.21-1/page_33_img_1.png',\n",
       "  'metadata': {'file_name': 'Clustering_InClass_9.28.21-1',\n",
       "               'image_key': 'page_33_img_1.png'},\n",
       "  'score': 0.280774266,\n",
       "  'values': []},\n",
       " {'id': 'Clustering_InClass_9.28.21-2/page_33_img_1.png',\n",
       "  'metadata': {'file_name': 'Clustering_InClass_9.28.21-2',\n",
       "               'image_key': 'page_33_img_1.png'},\n",
       "  'score': 0.280774266,\n",
       "  'values': []},\n",
       " {'id': 'Clustering_InClass_9.28.21-1/page_39_img_1.png',\n",
       "  'metadata': {'file_name': 'Clustering_InClass_9.28.21-1',\n",
       "               'image_key': 'page_39_img_1.png'},\n",
       "  'score': 0.280774266,\n",
       "  'values': []},\n",
       " {'id': 'Clustering_InClass_9.28.21/page_36_img_1.png',\n",
       "  'metadata': {'file_name': 'Clustering_InClass_9.28.21',\n",
       "               'image_key': 'page_36_img_1.png'},\n",
       "  'score': 0.280774266,\n",
       "  'values': []},\n",
       " {'id': 'Clustering_InClass_9.28.21-2/page_39_img_1.png',\n",
       "  'metadata': {'file_name': 'Clustering_InClass_9.28.21-2',\n",
       "               'image_key': 'page_39_img_1.png'},\n",
       "  'score': 0.280774266,\n",
       "  'values': []}]"
      ]
     },
     "execution_count": 38,
     "metadata": {},
     "output_type": "execute_result"
    }
   ],
   "source": [
    "query_results[\"matches\"]"
   ]
  },
  {
   "cell_type": "markdown",
   "id": "8d92e0000c8d1050",
   "metadata": {},
   "source": [
    "# Connect to Mongodb"
   ]
  },
  {
   "cell_type": "code",
   "execution_count": 39,
   "id": "8af376f705e4db3b",
   "metadata": {
    "ExecuteTime": {
     "end_time": "2025-02-10T23:21:21.825533Z",
     "start_time": "2025-02-10T23:21:21.657004Z"
    }
   },
   "outputs": [
    {
     "name": "stdout",
     "output_type": "stream",
     "text": [
      "Connected to MongoDB successfully!\n"
     ]
    }
   ],
   "source": [
    "from pymongo import MongoClient\n",
    "import gridfs\n",
    "\n",
    "client = MongoClient(mongo_uri)\n",
    "\n",
    "#client = MongoClient(MONGO_URI)\n",
    "\n",
    "db = client[\"images\"]\n",
    "\n",
    "collection = db[\"images_for_rag\"]\n",
    "\n",
    "print(\"Connected to MongoDB successfully!\")"
   ]
  },
  {
   "cell_type": "code",
   "execution_count": 54,
   "id": "3733ade1dcfdc1f6",
   "metadata": {
    "ExecuteTime": {
     "end_time": "2025-02-10T23:21:22.863281Z",
     "start_time": "2025-02-10T23:21:22.860583Z"
    }
   },
   "outputs": [
    {
     "data": {
      "text/plain": [
       "Collection(Database(MongoClient(host=['project-shard-00-00.6vv4e.mongodb.net:27017', 'project-shard-00-02.6vv4e.mongodb.net:27017', 'project-shard-00-01.6vv4e.mongodb.net:27017'], document_class=dict, tz_aware=False, connect=True, retrywrites=True, w='majority', appname='project', authsource='admin', replicaset='atlas-705ncd-shard-0', tls=True), 'images'), 'images_for_rag')"
      ]
     },
     "execution_count": 54,
     "metadata": {},
     "output_type": "execute_result"
    }
   ],
   "source": [
    "# file_names_list = os.listdir(\"data_processed\")\n",
    "fs = gridfs.GridFS(db)\n",
    "\n",
    "collection\n"
   ]
  },
  {
   "cell_type": "markdown",
   "id": "43b34bcd62d43dc0",
   "metadata": {},
   "source": [
    "# Query MongDB"
   ]
  },
  {
   "cell_type": "code",
   "execution_count": 55,
   "id": "2edaa7fcdf7d18a5",
   "metadata": {
    "ExecuteTime": {
     "end_time": "2025-02-10T23:21:25.845834Z",
     "start_time": "2025-02-10T23:21:24.072110Z"
    }
   },
   "outputs": [
    {
     "ename": "ServerSelectionTimeoutError",
     "evalue": "SSL handshake failed: project-shard-00-00.6vv4e.mongodb.net:27017: [SSL: TLSV1_ALERT_INTERNAL_ERROR] tlsv1 alert internal error (_ssl.c:1000) (configured timeouts: socketTimeoutMS: 20000.0ms, connectTimeoutMS: 20000.0ms),SSL handshake failed: project-shard-00-02.6vv4e.mongodb.net:27017: [SSL: TLSV1_ALERT_INTERNAL_ERROR] tlsv1 alert internal error (_ssl.c:1000) (configured timeouts: socketTimeoutMS: 20000.0ms, connectTimeoutMS: 20000.0ms),SSL handshake failed: project-shard-00-01.6vv4e.mongodb.net:27017: [SSL: TLSV1_ALERT_INTERNAL_ERROR] tlsv1 alert internal error (_ssl.c:1000) (configured timeouts: socketTimeoutMS: 20000.0ms, connectTimeoutMS: 20000.0ms), Timeout: 30s, Topology Description: <TopologyDescription id: 67bca57f33277903ec11b3f6, topology_type: ReplicaSetNoPrimary, servers: [<ServerDescription ('project-shard-00-00.6vv4e.mongodb.net', 27017) server_type: Unknown, rtt: None, error=AutoReconnect('SSL handshake failed: project-shard-00-00.6vv4e.mongodb.net:27017: [SSL: TLSV1_ALERT_INTERNAL_ERROR] tlsv1 alert internal error (_ssl.c:1000) (configured timeouts: socketTimeoutMS: 20000.0ms, connectTimeoutMS: 20000.0ms)')>, <ServerDescription ('project-shard-00-01.6vv4e.mongodb.net', 27017) server_type: Unknown, rtt: None, error=AutoReconnect('SSL handshake failed: project-shard-00-01.6vv4e.mongodb.net:27017: [SSL: TLSV1_ALERT_INTERNAL_ERROR] tlsv1 alert internal error (_ssl.c:1000) (configured timeouts: socketTimeoutMS: 20000.0ms, connectTimeoutMS: 20000.0ms)')>, <ServerDescription ('project-shard-00-02.6vv4e.mongodb.net', 27017) server_type: Unknown, rtt: None, error=AutoReconnect('SSL handshake failed: project-shard-00-02.6vv4e.mongodb.net:27017: [SSL: TLSV1_ALERT_INTERNAL_ERROR] tlsv1 alert internal error (_ssl.c:1000) (configured timeouts: socketTimeoutMS: 20000.0ms, connectTimeoutMS: 20000.0ms)')>]>",
     "output_type": "error",
     "traceback": [
      "\u001b[1;31m---------------------------------------------------------------------------\u001b[0m",
      "\u001b[1;31mServerSelectionTimeoutError\u001b[0m               Traceback (most recent call last)",
      "Cell \u001b[1;32mIn[55], line 1\u001b[0m\n\u001b[1;32m----> 1\u001b[0m image_data \u001b[38;5;241m=\u001b[39m \u001b[43mfs\u001b[49m\u001b[38;5;241;43m.\u001b[39;49m\u001b[43mfind_one\u001b[49m\u001b[43m(\u001b[49m\u001b[43m{\u001b[49m\u001b[38;5;124;43m\"\u001b[39;49m\u001b[38;5;124;43mfilename\u001b[39;49m\u001b[38;5;124;43m\"\u001b[39;49m\u001b[43m:\u001b[49m\u001b[43m \u001b[49m\u001b[38;5;124;43m\"\u001b[39;49m\u001b[38;5;124;43mclustering.png\u001b[39;49m\u001b[38;5;124;43m\"\u001b[39;49m\u001b[43m}\u001b[49m\u001b[43m)\u001b[49m\n\u001b[0;32m      2\u001b[0m image_data_list \u001b[38;5;241m=\u001b[39m []\n\u001b[0;32m      3\u001b[0m \u001b[38;5;28;01mfor\u001b[39;00m i \u001b[38;5;129;01min\u001b[39;00m query_results[\u001b[38;5;124m\"\u001b[39m\u001b[38;5;124mmatches\u001b[39m\u001b[38;5;124m\"\u001b[39m]:\n",
      "File \u001b[1;32m~\\AppData\\Roaming\\Python\\Python312\\site-packages\\gridfs\\__init__.py:327\u001b[0m, in \u001b[0;36mGridFS.find_one\u001b[1;34m(self, filter, session, *args, **kwargs)\u001b[0m\n\u001b[0;32m    324\u001b[0m     \u001b[38;5;28mfilter\u001b[39m \u001b[38;5;241m=\u001b[39m {\u001b[38;5;124m\"\u001b[39m\u001b[38;5;124m_id\u001b[39m\u001b[38;5;124m\"\u001b[39m: \u001b[38;5;28mfilter\u001b[39m}\n\u001b[0;32m    326\u001b[0m _disallow_transactions(session)\n\u001b[1;32m--> 327\u001b[0m \u001b[43m\u001b[49m\u001b[38;5;28;43;01mfor\u001b[39;49;00m\u001b[43m \u001b[49m\u001b[43mf\u001b[49m\u001b[43m \u001b[49m\u001b[38;5;129;43;01min\u001b[39;49;00m\u001b[43m \u001b[49m\u001b[38;5;28;43mself\u001b[39;49m\u001b[38;5;241;43m.\u001b[39;49m\u001b[43mfind\u001b[49m\u001b[43m(\u001b[49m\u001b[38;5;28;43mfilter\u001b[39;49m\u001b[43m,\u001b[49m\u001b[43m \u001b[49m\u001b[38;5;241;43m*\u001b[39;49m\u001b[43margs\u001b[49m\u001b[43m,\u001b[49m\u001b[43m \u001b[49m\u001b[43msession\u001b[49m\u001b[38;5;241;43m=\u001b[39;49m\u001b[43msession\u001b[49m\u001b[43m,\u001b[49m\u001b[43m \u001b[49m\u001b[38;5;241;43m*\u001b[39;49m\u001b[38;5;241;43m*\u001b[39;49m\u001b[43mkwargs\u001b[49m\u001b[43m)\u001b[49m\u001b[43m:\u001b[49m\n\u001b[0;32m    328\u001b[0m \u001b[43m    \u001b[49m\u001b[38;5;28;43;01mreturn\u001b[39;49;00m\u001b[43m \u001b[49m\u001b[43mf\u001b[49m\n\u001b[0;32m    330\u001b[0m \u001b[38;5;28;01mreturn\u001b[39;00m \u001b[38;5;28;01mNone\u001b[39;00m\n",
      "File \u001b[1;32m~\\AppData\\Roaming\\Python\\Python312\\site-packages\\gridfs\\grid_file.py:951\u001b[0m, in \u001b[0;36mGridOutCursor.next\u001b[1;34m(self)\u001b[0m\n\u001b[0;32m    949\u001b[0m \u001b[38;5;250m\u001b[39m\u001b[38;5;124;03m\"\"\"Get next GridOut object from cursor.\"\"\"\u001b[39;00m\n\u001b[0;32m    950\u001b[0m _disallow_transactions(\u001b[38;5;28mself\u001b[39m\u001b[38;5;241m.\u001b[39msession)\n\u001b[1;32m--> 951\u001b[0m next_file \u001b[38;5;241m=\u001b[39m \u001b[38;5;28;43msuper\u001b[39;49m\u001b[43m(\u001b[49m\u001b[43m)\u001b[49m\u001b[38;5;241;43m.\u001b[39;49m\u001b[43mnext\u001b[49m\u001b[43m(\u001b[49m\u001b[43m)\u001b[49m\n\u001b[0;32m    952\u001b[0m \u001b[38;5;28;01mreturn\u001b[39;00m GridOut(\u001b[38;5;28mself\u001b[39m\u001b[38;5;241m.\u001b[39m__root_collection, file_document\u001b[38;5;241m=\u001b[39mnext_file, session\u001b[38;5;241m=\u001b[39m\u001b[38;5;28mself\u001b[39m\u001b[38;5;241m.\u001b[39msession)\n",
      "File \u001b[1;32m~\\AppData\\Roaming\\Python\\Python312\\site-packages\\pymongo\\cursor.py:1243\u001b[0m, in \u001b[0;36mCursor.next\u001b[1;34m(self)\u001b[0m\n\u001b[0;32m   1241\u001b[0m \u001b[38;5;28;01mif\u001b[39;00m \u001b[38;5;28mself\u001b[39m\u001b[38;5;241m.\u001b[39m__empty:\n\u001b[0;32m   1242\u001b[0m     \u001b[38;5;28;01mraise\u001b[39;00m \u001b[38;5;167;01mStopIteration\u001b[39;00m\n\u001b[1;32m-> 1243\u001b[0m \u001b[38;5;28;01mif\u001b[39;00m \u001b[38;5;28mlen\u001b[39m(\u001b[38;5;28mself\u001b[39m\u001b[38;5;241m.\u001b[39m__data) \u001b[38;5;129;01mor\u001b[39;00m \u001b[38;5;28;43mself\u001b[39;49m\u001b[38;5;241;43m.\u001b[39;49m\u001b[43m_refresh\u001b[49m\u001b[43m(\u001b[49m\u001b[43m)\u001b[49m:\n\u001b[0;32m   1244\u001b[0m     \u001b[38;5;28;01mreturn\u001b[39;00m \u001b[38;5;28mself\u001b[39m\u001b[38;5;241m.\u001b[39m__data\u001b[38;5;241m.\u001b[39mpopleft()\n\u001b[0;32m   1245\u001b[0m \u001b[38;5;28;01melse\u001b[39;00m:\n",
      "File \u001b[1;32m~\\AppData\\Roaming\\Python\\Python312\\site-packages\\pymongo\\cursor.py:1160\u001b[0m, in \u001b[0;36mCursor._refresh\u001b[1;34m(self)\u001b[0m\n\u001b[0;32m   1138\u001b[0m         \u001b[38;5;28;01mraise\u001b[39;00m InvalidOperation(\n\u001b[0;32m   1139\u001b[0m             \u001b[38;5;124m\"\u001b[39m\u001b[38;5;124mPassing a \u001b[39m\u001b[38;5;124m'\u001b[39m\u001b[38;5;124mhint\u001b[39m\u001b[38;5;124m'\u001b[39m\u001b[38;5;124m is required when using the min/max query\u001b[39m\u001b[38;5;124m\"\u001b[39m\n\u001b[0;32m   1140\u001b[0m             \u001b[38;5;124m\"\u001b[39m\u001b[38;5;124m option to ensure the query utilizes the correct index\u001b[39m\u001b[38;5;124m\"\u001b[39m\n\u001b[0;32m   1141\u001b[0m         )\n\u001b[0;32m   1142\u001b[0m     q \u001b[38;5;241m=\u001b[39m \u001b[38;5;28mself\u001b[39m\u001b[38;5;241m.\u001b[39m_query_class(\n\u001b[0;32m   1143\u001b[0m         \u001b[38;5;28mself\u001b[39m\u001b[38;5;241m.\u001b[39m__query_flags,\n\u001b[0;32m   1144\u001b[0m         \u001b[38;5;28mself\u001b[39m\u001b[38;5;241m.\u001b[39m__collection\u001b[38;5;241m.\u001b[39mdatabase\u001b[38;5;241m.\u001b[39mname,\n\u001b[1;32m   (...)\u001b[0m\n\u001b[0;32m   1158\u001b[0m         \u001b[38;5;28mself\u001b[39m\u001b[38;5;241m.\u001b[39m__exhaust,\n\u001b[0;32m   1159\u001b[0m     )\n\u001b[1;32m-> 1160\u001b[0m     \u001b[38;5;28;43mself\u001b[39;49m\u001b[38;5;241;43m.\u001b[39;49m\u001b[43m__send_message\u001b[49m\u001b[43m(\u001b[49m\u001b[43mq\u001b[49m\u001b[43m)\u001b[49m\n\u001b[0;32m   1161\u001b[0m \u001b[38;5;28;01melif\u001b[39;00m \u001b[38;5;28mself\u001b[39m\u001b[38;5;241m.\u001b[39m__id:  \u001b[38;5;66;03m# Get More\u001b[39;00m\n\u001b[0;32m   1162\u001b[0m     \u001b[38;5;28;01mif\u001b[39;00m \u001b[38;5;28mself\u001b[39m\u001b[38;5;241m.\u001b[39m__limit:\n",
      "File \u001b[1;32m~\\AppData\\Roaming\\Python\\Python312\\site-packages\\pymongo\\cursor.py:1039\u001b[0m, in \u001b[0;36mCursor.__send_message\u001b[1;34m(self, operation)\u001b[0m\n\u001b[0;32m   1036\u001b[0m     \u001b[38;5;28;01mraise\u001b[39;00m InvalidOperation(\u001b[38;5;124m\"\u001b[39m\u001b[38;5;124mexhaust cursors do not support auto encryption\u001b[39m\u001b[38;5;124m\"\u001b[39m)\n\u001b[0;32m   1038\u001b[0m \u001b[38;5;28;01mtry\u001b[39;00m:\n\u001b[1;32m-> 1039\u001b[0m     response \u001b[38;5;241m=\u001b[39m \u001b[43mclient\u001b[49m\u001b[38;5;241;43m.\u001b[39;49m\u001b[43m_run_operation\u001b[49m\u001b[43m(\u001b[49m\n\u001b[0;32m   1040\u001b[0m \u001b[43m        \u001b[49m\u001b[43moperation\u001b[49m\u001b[43m,\u001b[49m\u001b[43m \u001b[49m\u001b[38;5;28;43mself\u001b[39;49m\u001b[38;5;241;43m.\u001b[39;49m\u001b[43m_unpack_response\u001b[49m\u001b[43m,\u001b[49m\u001b[43m \u001b[49m\u001b[43maddress\u001b[49m\u001b[38;5;241;43m=\u001b[39;49m\u001b[38;5;28;43mself\u001b[39;49m\u001b[38;5;241;43m.\u001b[39;49m\u001b[43m__address\u001b[49m\n\u001b[0;32m   1041\u001b[0m \u001b[43m    \u001b[49m\u001b[43m)\u001b[49m\n\u001b[0;32m   1042\u001b[0m \u001b[38;5;28;01mexcept\u001b[39;00m OperationFailure \u001b[38;5;28;01mas\u001b[39;00m exc:\n\u001b[0;32m   1043\u001b[0m     \u001b[38;5;28;01mif\u001b[39;00m exc\u001b[38;5;241m.\u001b[39mcode \u001b[38;5;129;01min\u001b[39;00m _CURSOR_CLOSED_ERRORS \u001b[38;5;129;01mor\u001b[39;00m \u001b[38;5;28mself\u001b[39m\u001b[38;5;241m.\u001b[39m__exhaust:\n\u001b[0;32m   1044\u001b[0m         \u001b[38;5;66;03m# Don't send killCursors because the cursor is already closed.\u001b[39;00m\n",
      "File \u001b[1;32m~\\AppData\\Roaming\\Python\\Python312\\site-packages\\pymongo\\_csot.py:108\u001b[0m, in \u001b[0;36mapply.<locals>.csot_wrapper\u001b[1;34m(self, *args, **kwargs)\u001b[0m\n\u001b[0;32m    106\u001b[0m         \u001b[38;5;28;01mwith\u001b[39;00m _TimeoutContext(timeout):\n\u001b[0;32m    107\u001b[0m             \u001b[38;5;28;01mreturn\u001b[39;00m func(\u001b[38;5;28mself\u001b[39m, \u001b[38;5;241m*\u001b[39margs, \u001b[38;5;241m*\u001b[39m\u001b[38;5;241m*\u001b[39mkwargs)\n\u001b[1;32m--> 108\u001b[0m \u001b[38;5;28;01mreturn\u001b[39;00m \u001b[43mfunc\u001b[49m\u001b[43m(\u001b[49m\u001b[38;5;28;43mself\u001b[39;49m\u001b[43m,\u001b[49m\u001b[43m \u001b[49m\u001b[38;5;241;43m*\u001b[39;49m\u001b[43margs\u001b[49m\u001b[43m,\u001b[49m\u001b[43m \u001b[49m\u001b[38;5;241;43m*\u001b[39;49m\u001b[38;5;241;43m*\u001b[39;49m\u001b[43mkwargs\u001b[49m\u001b[43m)\u001b[49m\n",
      "File \u001b[1;32m~\\AppData\\Roaming\\Python\\Python312\\site-packages\\pymongo\\mongo_client.py:1431\u001b[0m, in \u001b[0;36mMongoClient._run_operation\u001b[1;34m(self, operation, unpack_res, address)\u001b[0m\n\u001b[0;32m   1421\u001b[0m     operation\u001b[38;5;241m.\u001b[39mreset()  \u001b[38;5;66;03m# Reset op in case of retry.\u001b[39;00m\n\u001b[0;32m   1422\u001b[0m     \u001b[38;5;28;01mreturn\u001b[39;00m server\u001b[38;5;241m.\u001b[39mrun_operation(\n\u001b[0;32m   1423\u001b[0m         conn,\n\u001b[0;32m   1424\u001b[0m         operation,\n\u001b[1;32m   (...)\u001b[0m\n\u001b[0;32m   1428\u001b[0m         \u001b[38;5;28mself\u001b[39m,\n\u001b[0;32m   1429\u001b[0m     )\n\u001b[1;32m-> 1431\u001b[0m \u001b[38;5;28;01mreturn\u001b[39;00m \u001b[38;5;28;43mself\u001b[39;49m\u001b[38;5;241;43m.\u001b[39;49m\u001b[43m_retryable_read\u001b[49m\u001b[43m(\u001b[49m\n\u001b[0;32m   1432\u001b[0m \u001b[43m    \u001b[49m\u001b[43m_cmd\u001b[49m\u001b[43m,\u001b[49m\n\u001b[0;32m   1433\u001b[0m \u001b[43m    \u001b[49m\u001b[43moperation\u001b[49m\u001b[38;5;241;43m.\u001b[39;49m\u001b[43mread_preference\u001b[49m\u001b[43m,\u001b[49m\n\u001b[0;32m   1434\u001b[0m \u001b[43m    \u001b[49m\u001b[43moperation\u001b[49m\u001b[38;5;241;43m.\u001b[39;49m\u001b[43msession\u001b[49m\u001b[43m,\u001b[49m\n\u001b[0;32m   1435\u001b[0m \u001b[43m    \u001b[49m\u001b[43maddress\u001b[49m\u001b[38;5;241;43m=\u001b[39;49m\u001b[43maddress\u001b[49m\u001b[43m,\u001b[49m\n\u001b[0;32m   1436\u001b[0m \u001b[43m    \u001b[49m\u001b[43mretryable\u001b[49m\u001b[38;5;241;43m=\u001b[39;49m\u001b[38;5;28;43misinstance\u001b[39;49m\u001b[43m(\u001b[49m\u001b[43moperation\u001b[49m\u001b[43m,\u001b[49m\u001b[43m \u001b[49m\u001b[43mmessage\u001b[49m\u001b[38;5;241;43m.\u001b[39;49m\u001b[43m_Query\u001b[49m\u001b[43m)\u001b[49m\u001b[43m,\u001b[49m\n\u001b[0;32m   1437\u001b[0m \u001b[43m    \u001b[49m\u001b[43moperation\u001b[49m\u001b[38;5;241;43m=\u001b[39;49m\u001b[43moperation\u001b[49m\u001b[38;5;241;43m.\u001b[39;49m\u001b[43mname\u001b[49m\u001b[43m,\u001b[49m\n\u001b[0;32m   1438\u001b[0m \u001b[43m\u001b[49m\u001b[43m)\u001b[49m\n",
      "File \u001b[1;32m~\\AppData\\Roaming\\Python\\Python312\\site-packages\\pymongo\\mongo_client.py:1540\u001b[0m, in \u001b[0;36mMongoClient._retryable_read\u001b[1;34m(self, func, read_pref, session, operation, address, retryable, operation_id)\u001b[0m\n\u001b[0;32m   1535\u001b[0m \u001b[38;5;66;03m# Ensure that the client supports retrying on reads and there is no session in\u001b[39;00m\n\u001b[0;32m   1536\u001b[0m \u001b[38;5;66;03m# transaction, otherwise, we will not support retry behavior for this call.\u001b[39;00m\n\u001b[0;32m   1537\u001b[0m retryable \u001b[38;5;241m=\u001b[39m \u001b[38;5;28mbool\u001b[39m(\n\u001b[0;32m   1538\u001b[0m     retryable \u001b[38;5;129;01mand\u001b[39;00m \u001b[38;5;28mself\u001b[39m\u001b[38;5;241m.\u001b[39moptions\u001b[38;5;241m.\u001b[39mretry_reads \u001b[38;5;129;01mand\u001b[39;00m \u001b[38;5;129;01mnot\u001b[39;00m (session \u001b[38;5;129;01mand\u001b[39;00m session\u001b[38;5;241m.\u001b[39min_transaction)\n\u001b[0;32m   1539\u001b[0m )\n\u001b[1;32m-> 1540\u001b[0m \u001b[38;5;28;01mreturn\u001b[39;00m \u001b[38;5;28;43mself\u001b[39;49m\u001b[38;5;241;43m.\u001b[39;49m\u001b[43m_retry_internal\u001b[49m\u001b[43m(\u001b[49m\n\u001b[0;32m   1541\u001b[0m \u001b[43m    \u001b[49m\u001b[43mfunc\u001b[49m\u001b[43m,\u001b[49m\n\u001b[0;32m   1542\u001b[0m \u001b[43m    \u001b[49m\u001b[43msession\u001b[49m\u001b[43m,\u001b[49m\n\u001b[0;32m   1543\u001b[0m \u001b[43m    \u001b[49m\u001b[38;5;28;43;01mNone\u001b[39;49;00m\u001b[43m,\u001b[49m\n\u001b[0;32m   1544\u001b[0m \u001b[43m    \u001b[49m\u001b[43moperation\u001b[49m\u001b[43m,\u001b[49m\n\u001b[0;32m   1545\u001b[0m \u001b[43m    \u001b[49m\u001b[43mis_read\u001b[49m\u001b[38;5;241;43m=\u001b[39;49m\u001b[38;5;28;43;01mTrue\u001b[39;49;00m\u001b[43m,\u001b[49m\n\u001b[0;32m   1546\u001b[0m \u001b[43m    \u001b[49m\u001b[43maddress\u001b[49m\u001b[38;5;241;43m=\u001b[39;49m\u001b[43maddress\u001b[49m\u001b[43m,\u001b[49m\n\u001b[0;32m   1547\u001b[0m \u001b[43m    \u001b[49m\u001b[43mread_pref\u001b[49m\u001b[38;5;241;43m=\u001b[39;49m\u001b[43mread_pref\u001b[49m\u001b[43m,\u001b[49m\n\u001b[0;32m   1548\u001b[0m \u001b[43m    \u001b[49m\u001b[43mretryable\u001b[49m\u001b[38;5;241;43m=\u001b[39;49m\u001b[43mretryable\u001b[49m\u001b[43m,\u001b[49m\n\u001b[0;32m   1549\u001b[0m \u001b[43m    \u001b[49m\u001b[43moperation_id\u001b[49m\u001b[38;5;241;43m=\u001b[39;49m\u001b[43moperation_id\u001b[49m\u001b[43m,\u001b[49m\n\u001b[0;32m   1550\u001b[0m \u001b[43m\u001b[49m\u001b[43m)\u001b[49m\n",
      "File \u001b[1;32m~\\AppData\\Roaming\\Python\\Python312\\site-packages\\pymongo\\_csot.py:108\u001b[0m, in \u001b[0;36mapply.<locals>.csot_wrapper\u001b[1;34m(self, *args, **kwargs)\u001b[0m\n\u001b[0;32m    106\u001b[0m         \u001b[38;5;28;01mwith\u001b[39;00m _TimeoutContext(timeout):\n\u001b[0;32m    107\u001b[0m             \u001b[38;5;28;01mreturn\u001b[39;00m func(\u001b[38;5;28mself\u001b[39m, \u001b[38;5;241m*\u001b[39margs, \u001b[38;5;241m*\u001b[39m\u001b[38;5;241m*\u001b[39mkwargs)\n\u001b[1;32m--> 108\u001b[0m \u001b[38;5;28;01mreturn\u001b[39;00m \u001b[43mfunc\u001b[49m\u001b[43m(\u001b[49m\u001b[38;5;28;43mself\u001b[39;49m\u001b[43m,\u001b[49m\u001b[43m \u001b[49m\u001b[38;5;241;43m*\u001b[39;49m\u001b[43margs\u001b[49m\u001b[43m,\u001b[49m\u001b[43m \u001b[49m\u001b[38;5;241;43m*\u001b[39;49m\u001b[38;5;241;43m*\u001b[39;49m\u001b[43mkwargs\u001b[49m\u001b[43m)\u001b[49m\n",
      "File \u001b[1;32m~\\AppData\\Roaming\\Python\\Python312\\site-packages\\pymongo\\mongo_client.py:1507\u001b[0m, in \u001b[0;36mMongoClient._retry_internal\u001b[1;34m(self, func, session, bulk, operation, is_read, address, read_pref, retryable, operation_id)\u001b[0m\n\u001b[0;32m   1470\u001b[0m \u001b[38;5;129m@_csot\u001b[39m\u001b[38;5;241m.\u001b[39mapply\n\u001b[0;32m   1471\u001b[0m \u001b[38;5;28;01mdef\u001b[39;00m \u001b[38;5;21m_retry_internal\u001b[39m(\n\u001b[0;32m   1472\u001b[0m     \u001b[38;5;28mself\u001b[39m,\n\u001b[1;32m   (...)\u001b[0m\n\u001b[0;32m   1481\u001b[0m     operation_id: Optional[\u001b[38;5;28mint\u001b[39m] \u001b[38;5;241m=\u001b[39m \u001b[38;5;28;01mNone\u001b[39;00m,\n\u001b[0;32m   1482\u001b[0m ) \u001b[38;5;241m-\u001b[39m\u001b[38;5;241m>\u001b[39m T:\n\u001b[0;32m   1483\u001b[0m \u001b[38;5;250m    \u001b[39m\u001b[38;5;124;03m\"\"\"Internal retryable helper for all client transactions.\u001b[39;00m\n\u001b[0;32m   1484\u001b[0m \n\u001b[0;32m   1485\u001b[0m \u001b[38;5;124;03m    :param func: Callback function we want to retry\u001b[39;00m\n\u001b[1;32m   (...)\u001b[0m\n\u001b[0;32m   1494\u001b[0m \u001b[38;5;124;03m    :return: Output of the calling func()\u001b[39;00m\n\u001b[0;32m   1495\u001b[0m \u001b[38;5;124;03m    \"\"\"\u001b[39;00m\n\u001b[0;32m   1496\u001b[0m     \u001b[38;5;28;01mreturn\u001b[39;00m \u001b[43m_ClientConnectionRetryable\u001b[49m\u001b[43m(\u001b[49m\n\u001b[0;32m   1497\u001b[0m \u001b[43m        \u001b[49m\u001b[43mmongo_client\u001b[49m\u001b[38;5;241;43m=\u001b[39;49m\u001b[38;5;28;43mself\u001b[39;49m\u001b[43m,\u001b[49m\n\u001b[0;32m   1498\u001b[0m \u001b[43m        \u001b[49m\u001b[43mfunc\u001b[49m\u001b[38;5;241;43m=\u001b[39;49m\u001b[43mfunc\u001b[49m\u001b[43m,\u001b[49m\n\u001b[0;32m   1499\u001b[0m \u001b[43m        \u001b[49m\u001b[43mbulk\u001b[49m\u001b[38;5;241;43m=\u001b[39;49m\u001b[43mbulk\u001b[49m\u001b[43m,\u001b[49m\n\u001b[0;32m   1500\u001b[0m \u001b[43m        \u001b[49m\u001b[43moperation\u001b[49m\u001b[38;5;241;43m=\u001b[39;49m\u001b[43moperation\u001b[49m\u001b[43m,\u001b[49m\n\u001b[0;32m   1501\u001b[0m \u001b[43m        \u001b[49m\u001b[43mis_read\u001b[49m\u001b[38;5;241;43m=\u001b[39;49m\u001b[43mis_read\u001b[49m\u001b[43m,\u001b[49m\n\u001b[0;32m   1502\u001b[0m \u001b[43m        \u001b[49m\u001b[43msession\u001b[49m\u001b[38;5;241;43m=\u001b[39;49m\u001b[43msession\u001b[49m\u001b[43m,\u001b[49m\n\u001b[0;32m   1503\u001b[0m \u001b[43m        \u001b[49m\u001b[43mread_pref\u001b[49m\u001b[38;5;241;43m=\u001b[39;49m\u001b[43mread_pref\u001b[49m\u001b[43m,\u001b[49m\n\u001b[0;32m   1504\u001b[0m \u001b[43m        \u001b[49m\u001b[43maddress\u001b[49m\u001b[38;5;241;43m=\u001b[39;49m\u001b[43maddress\u001b[49m\u001b[43m,\u001b[49m\n\u001b[0;32m   1505\u001b[0m \u001b[43m        \u001b[49m\u001b[43mretryable\u001b[49m\u001b[38;5;241;43m=\u001b[39;49m\u001b[43mretryable\u001b[49m\u001b[43m,\u001b[49m\n\u001b[0;32m   1506\u001b[0m \u001b[43m        \u001b[49m\u001b[43moperation_id\u001b[49m\u001b[38;5;241;43m=\u001b[39;49m\u001b[43moperation_id\u001b[49m\u001b[43m,\u001b[49m\n\u001b[1;32m-> 1507\u001b[0m \u001b[43m    \u001b[49m\u001b[43m)\u001b[49m\u001b[38;5;241;43m.\u001b[39;49m\u001b[43mrun\u001b[49m\u001b[43m(\u001b[49m\u001b[43m)\u001b[49m\n",
      "File \u001b[1;32m~\\AppData\\Roaming\\Python\\Python312\\site-packages\\pymongo\\mongo_client.py:2353\u001b[0m, in \u001b[0;36m_ClientConnectionRetryable.run\u001b[1;34m(self)\u001b[0m\n\u001b[0;32m   2351\u001b[0m \u001b[38;5;28mself\u001b[39m\u001b[38;5;241m.\u001b[39m_check_last_error(check_csot\u001b[38;5;241m=\u001b[39m\u001b[38;5;28;01mTrue\u001b[39;00m)\n\u001b[0;32m   2352\u001b[0m \u001b[38;5;28;01mtry\u001b[39;00m:\n\u001b[1;32m-> 2353\u001b[0m     \u001b[38;5;28;01mreturn\u001b[39;00m \u001b[38;5;28;43mself\u001b[39;49m\u001b[38;5;241;43m.\u001b[39;49m\u001b[43m_read\u001b[49m\u001b[43m(\u001b[49m\u001b[43m)\u001b[49m \u001b[38;5;28;01mif\u001b[39;00m \u001b[38;5;28mself\u001b[39m\u001b[38;5;241m.\u001b[39m_is_read \u001b[38;5;28;01melse\u001b[39;00m \u001b[38;5;28mself\u001b[39m\u001b[38;5;241m.\u001b[39m_write()\n\u001b[0;32m   2354\u001b[0m \u001b[38;5;28;01mexcept\u001b[39;00m ServerSelectionTimeoutError:\n\u001b[0;32m   2355\u001b[0m     \u001b[38;5;66;03m# The application may think the write was never attempted\u001b[39;00m\n\u001b[0;32m   2356\u001b[0m     \u001b[38;5;66;03m# if we raise ServerSelectionTimeoutError on the retry\u001b[39;00m\n\u001b[0;32m   2357\u001b[0m     \u001b[38;5;66;03m# attempt. Raise the original exception instead.\u001b[39;00m\n\u001b[0;32m   2358\u001b[0m     \u001b[38;5;28mself\u001b[39m\u001b[38;5;241m.\u001b[39m_check_last_error()\n",
      "File \u001b[1;32m~\\AppData\\Roaming\\Python\\Python312\\site-packages\\pymongo\\mongo_client.py:2483\u001b[0m, in \u001b[0;36m_ClientConnectionRetryable._read\u001b[1;34m(self)\u001b[0m\n\u001b[0;32m   2478\u001b[0m \u001b[38;5;28;01mdef\u001b[39;00m \u001b[38;5;21m_read\u001b[39m(\u001b[38;5;28mself\u001b[39m) \u001b[38;5;241m-\u001b[39m\u001b[38;5;241m>\u001b[39m T:\n\u001b[0;32m   2479\u001b[0m \u001b[38;5;250m    \u001b[39m\u001b[38;5;124;03m\"\"\"Wrapper method for read-type retryable client executions\u001b[39;00m\n\u001b[0;32m   2480\u001b[0m \n\u001b[0;32m   2481\u001b[0m \u001b[38;5;124;03m    :return: Output for func()'s call\u001b[39;00m\n\u001b[0;32m   2482\u001b[0m \u001b[38;5;124;03m    \"\"\"\u001b[39;00m\n\u001b[1;32m-> 2483\u001b[0m     \u001b[38;5;28mself\u001b[39m\u001b[38;5;241m.\u001b[39m_server \u001b[38;5;241m=\u001b[39m \u001b[38;5;28;43mself\u001b[39;49m\u001b[38;5;241;43m.\u001b[39;49m\u001b[43m_get_server\u001b[49m\u001b[43m(\u001b[49m\u001b[43m)\u001b[49m\n\u001b[0;32m   2484\u001b[0m     \u001b[38;5;28;01massert\u001b[39;00m \u001b[38;5;28mself\u001b[39m\u001b[38;5;241m.\u001b[39m_read_pref \u001b[38;5;129;01mis\u001b[39;00m \u001b[38;5;129;01mnot\u001b[39;00m \u001b[38;5;28;01mNone\u001b[39;00m, \u001b[38;5;124m\"\u001b[39m\u001b[38;5;124mRead Preference required on read calls\u001b[39m\u001b[38;5;124m\"\u001b[39m\n\u001b[0;32m   2485\u001b[0m     \u001b[38;5;28;01mwith\u001b[39;00m \u001b[38;5;28mself\u001b[39m\u001b[38;5;241m.\u001b[39m_client\u001b[38;5;241m.\u001b[39m_conn_from_server(\u001b[38;5;28mself\u001b[39m\u001b[38;5;241m.\u001b[39m_read_pref, \u001b[38;5;28mself\u001b[39m\u001b[38;5;241m.\u001b[39m_server, \u001b[38;5;28mself\u001b[39m\u001b[38;5;241m.\u001b[39m_session) \u001b[38;5;28;01mas\u001b[39;00m (\n\u001b[0;32m   2486\u001b[0m         conn,\n\u001b[0;32m   2487\u001b[0m         read_pref,\n\u001b[0;32m   2488\u001b[0m     ):\n",
      "File \u001b[1;32m~\\AppData\\Roaming\\Python\\Python312\\site-packages\\pymongo\\mongo_client.py:2439\u001b[0m, in \u001b[0;36m_ClientConnectionRetryable._get_server\u001b[1;34m(self)\u001b[0m\n\u001b[0;32m   2434\u001b[0m \u001b[38;5;28;01mdef\u001b[39;00m \u001b[38;5;21m_get_server\u001b[39m(\u001b[38;5;28mself\u001b[39m) \u001b[38;5;241m-\u001b[39m\u001b[38;5;241m>\u001b[39m Server:\n\u001b[0;32m   2435\u001b[0m \u001b[38;5;250m    \u001b[39m\u001b[38;5;124;03m\"\"\"Retrieves a server object based on provided object context\u001b[39;00m\n\u001b[0;32m   2436\u001b[0m \n\u001b[0;32m   2437\u001b[0m \u001b[38;5;124;03m    :return: Abstraction to connect to server\u001b[39;00m\n\u001b[0;32m   2438\u001b[0m \u001b[38;5;124;03m    \"\"\"\u001b[39;00m\n\u001b[1;32m-> 2439\u001b[0m     \u001b[38;5;28;01mreturn\u001b[39;00m \u001b[38;5;28;43mself\u001b[39;49m\u001b[38;5;241;43m.\u001b[39;49m\u001b[43m_client\u001b[49m\u001b[38;5;241;43m.\u001b[39;49m\u001b[43m_select_server\u001b[49m\u001b[43m(\u001b[49m\n\u001b[0;32m   2440\u001b[0m \u001b[43m        \u001b[49m\u001b[38;5;28;43mself\u001b[39;49m\u001b[38;5;241;43m.\u001b[39;49m\u001b[43m_server_selector\u001b[49m\u001b[43m,\u001b[49m\n\u001b[0;32m   2441\u001b[0m \u001b[43m        \u001b[49m\u001b[38;5;28;43mself\u001b[39;49m\u001b[38;5;241;43m.\u001b[39;49m\u001b[43m_session\u001b[49m\u001b[43m,\u001b[49m\n\u001b[0;32m   2442\u001b[0m \u001b[43m        \u001b[49m\u001b[38;5;28;43mself\u001b[39;49m\u001b[38;5;241;43m.\u001b[39;49m\u001b[43m_operation\u001b[49m\u001b[43m,\u001b[49m\n\u001b[0;32m   2443\u001b[0m \u001b[43m        \u001b[49m\u001b[43maddress\u001b[49m\u001b[38;5;241;43m=\u001b[39;49m\u001b[38;5;28;43mself\u001b[39;49m\u001b[38;5;241;43m.\u001b[39;49m\u001b[43m_address\u001b[49m\u001b[43m,\u001b[49m\n\u001b[0;32m   2444\u001b[0m \u001b[43m        \u001b[49m\u001b[43mdeprioritized_servers\u001b[49m\u001b[38;5;241;43m=\u001b[39;49m\u001b[38;5;28;43mself\u001b[39;49m\u001b[38;5;241;43m.\u001b[39;49m\u001b[43m_deprioritized_servers\u001b[49m\u001b[43m,\u001b[49m\n\u001b[0;32m   2445\u001b[0m \u001b[43m        \u001b[49m\u001b[43moperation_id\u001b[49m\u001b[38;5;241;43m=\u001b[39;49m\u001b[38;5;28;43mself\u001b[39;49m\u001b[38;5;241;43m.\u001b[39;49m\u001b[43m_operation_id\u001b[49m\u001b[43m,\u001b[49m\n\u001b[0;32m   2446\u001b[0m \u001b[43m    \u001b[49m\u001b[43m)\u001b[49m\n",
      "File \u001b[1;32m~\\AppData\\Roaming\\Python\\Python312\\site-packages\\pymongo\\mongo_client.py:1322\u001b[0m, in \u001b[0;36mMongoClient._select_server\u001b[1;34m(self, server_selector, session, operation, address, deprioritized_servers, operation_id)\u001b[0m\n\u001b[0;32m   1320\u001b[0m             \u001b[38;5;28;01mraise\u001b[39;00m AutoReconnect(\u001b[38;5;124m\"\u001b[39m\u001b[38;5;124mserver \u001b[39m\u001b[38;5;132;01m%s\u001b[39;00m\u001b[38;5;124m:\u001b[39m\u001b[38;5;132;01m%s\u001b[39;00m\u001b[38;5;124m no longer available\u001b[39m\u001b[38;5;124m\"\u001b[39m \u001b[38;5;241m%\u001b[39m address)  \u001b[38;5;66;03m# noqa: UP031\u001b[39;00m\n\u001b[0;32m   1321\u001b[0m     \u001b[38;5;28;01melse\u001b[39;00m:\n\u001b[1;32m-> 1322\u001b[0m         server \u001b[38;5;241m=\u001b[39m \u001b[43mtopology\u001b[49m\u001b[38;5;241;43m.\u001b[39;49m\u001b[43mselect_server\u001b[49m\u001b[43m(\u001b[49m\n\u001b[0;32m   1323\u001b[0m \u001b[43m            \u001b[49m\u001b[43mserver_selector\u001b[49m\u001b[43m,\u001b[49m\n\u001b[0;32m   1324\u001b[0m \u001b[43m            \u001b[49m\u001b[43moperation\u001b[49m\u001b[43m,\u001b[49m\n\u001b[0;32m   1325\u001b[0m \u001b[43m            \u001b[49m\u001b[43mdeprioritized_servers\u001b[49m\u001b[38;5;241;43m=\u001b[39;49m\u001b[43mdeprioritized_servers\u001b[49m\u001b[43m,\u001b[49m\n\u001b[0;32m   1326\u001b[0m \u001b[43m            \u001b[49m\u001b[43moperation_id\u001b[49m\u001b[38;5;241;43m=\u001b[39;49m\u001b[43moperation_id\u001b[49m\u001b[43m,\u001b[49m\n\u001b[0;32m   1327\u001b[0m \u001b[43m        \u001b[49m\u001b[43m)\u001b[49m\n\u001b[0;32m   1328\u001b[0m     \u001b[38;5;28;01mreturn\u001b[39;00m server\n\u001b[0;32m   1329\u001b[0m \u001b[38;5;28;01mexcept\u001b[39;00m PyMongoError \u001b[38;5;28;01mas\u001b[39;00m exc:\n\u001b[0;32m   1330\u001b[0m     \u001b[38;5;66;03m# Server selection errors in a transaction are transient.\u001b[39;00m\n",
      "File \u001b[1;32m~\\AppData\\Roaming\\Python\\Python312\\site-packages\\pymongo\\topology.py:368\u001b[0m, in \u001b[0;36mTopology.select_server\u001b[1;34m(self, selector, operation, server_selection_timeout, address, deprioritized_servers, operation_id)\u001b[0m\n\u001b[0;32m    358\u001b[0m \u001b[38;5;28;01mdef\u001b[39;00m \u001b[38;5;21mselect_server\u001b[39m(\n\u001b[0;32m    359\u001b[0m     \u001b[38;5;28mself\u001b[39m,\n\u001b[0;32m    360\u001b[0m     selector: Callable[[Selection], Selection],\n\u001b[1;32m   (...)\u001b[0m\n\u001b[0;32m    365\u001b[0m     operation_id: Optional[\u001b[38;5;28mint\u001b[39m] \u001b[38;5;241m=\u001b[39m \u001b[38;5;28;01mNone\u001b[39;00m,\n\u001b[0;32m    366\u001b[0m ) \u001b[38;5;241m-\u001b[39m\u001b[38;5;241m>\u001b[39m Server:\n\u001b[0;32m    367\u001b[0m \u001b[38;5;250m    \u001b[39m\u001b[38;5;124;03m\"\"\"Like select_servers, but choose a random server if several match.\"\"\"\u001b[39;00m\n\u001b[1;32m--> 368\u001b[0m     server \u001b[38;5;241m=\u001b[39m \u001b[38;5;28;43mself\u001b[39;49m\u001b[38;5;241;43m.\u001b[39;49m\u001b[43m_select_server\u001b[49m\u001b[43m(\u001b[49m\n\u001b[0;32m    369\u001b[0m \u001b[43m        \u001b[49m\u001b[43mselector\u001b[49m\u001b[43m,\u001b[49m\n\u001b[0;32m    370\u001b[0m \u001b[43m        \u001b[49m\u001b[43moperation\u001b[49m\u001b[43m,\u001b[49m\n\u001b[0;32m    371\u001b[0m \u001b[43m        \u001b[49m\u001b[43mserver_selection_timeout\u001b[49m\u001b[43m,\u001b[49m\n\u001b[0;32m    372\u001b[0m \u001b[43m        \u001b[49m\u001b[43maddress\u001b[49m\u001b[43m,\u001b[49m\n\u001b[0;32m    373\u001b[0m \u001b[43m        \u001b[49m\u001b[43mdeprioritized_servers\u001b[49m\u001b[43m,\u001b[49m\n\u001b[0;32m    374\u001b[0m \u001b[43m        \u001b[49m\u001b[43moperation_id\u001b[49m\u001b[38;5;241;43m=\u001b[39;49m\u001b[43moperation_id\u001b[49m\u001b[43m,\u001b[49m\n\u001b[0;32m    375\u001b[0m \u001b[43m    \u001b[49m\u001b[43m)\u001b[49m\n\u001b[0;32m    376\u001b[0m     \u001b[38;5;28;01mif\u001b[39;00m _csot\u001b[38;5;241m.\u001b[39mget_timeout():\n\u001b[0;32m    377\u001b[0m         _csot\u001b[38;5;241m.\u001b[39mset_rtt(server\u001b[38;5;241m.\u001b[39mdescription\u001b[38;5;241m.\u001b[39mmin_round_trip_time)\n",
      "File \u001b[1;32m~\\AppData\\Roaming\\Python\\Python312\\site-packages\\pymongo\\topology.py:346\u001b[0m, in \u001b[0;36mTopology._select_server\u001b[1;34m(self, selector, operation, server_selection_timeout, address, deprioritized_servers, operation_id)\u001b[0m\n\u001b[0;32m    337\u001b[0m \u001b[38;5;28;01mdef\u001b[39;00m \u001b[38;5;21m_select_server\u001b[39m(\n\u001b[0;32m    338\u001b[0m     \u001b[38;5;28mself\u001b[39m,\n\u001b[0;32m    339\u001b[0m     selector: Callable[[Selection], Selection],\n\u001b[1;32m   (...)\u001b[0m\n\u001b[0;32m    344\u001b[0m     operation_id: Optional[\u001b[38;5;28mint\u001b[39m] \u001b[38;5;241m=\u001b[39m \u001b[38;5;28;01mNone\u001b[39;00m,\n\u001b[0;32m    345\u001b[0m ) \u001b[38;5;241m-\u001b[39m\u001b[38;5;241m>\u001b[39m Server:\n\u001b[1;32m--> 346\u001b[0m     servers \u001b[38;5;241m=\u001b[39m \u001b[38;5;28;43mself\u001b[39;49m\u001b[38;5;241;43m.\u001b[39;49m\u001b[43mselect_servers\u001b[49m\u001b[43m(\u001b[49m\n\u001b[0;32m    347\u001b[0m \u001b[43m        \u001b[49m\u001b[43mselector\u001b[49m\u001b[43m,\u001b[49m\u001b[43m \u001b[49m\u001b[43moperation\u001b[49m\u001b[43m,\u001b[49m\u001b[43m \u001b[49m\u001b[43mserver_selection_timeout\u001b[49m\u001b[43m,\u001b[49m\u001b[43m \u001b[49m\u001b[43maddress\u001b[49m\u001b[43m,\u001b[49m\u001b[43m \u001b[49m\u001b[43moperation_id\u001b[49m\n\u001b[0;32m    348\u001b[0m \u001b[43m    \u001b[49m\u001b[43m)\u001b[49m\n\u001b[0;32m    349\u001b[0m     servers \u001b[38;5;241m=\u001b[39m _filter_servers(servers, deprioritized_servers)\n\u001b[0;32m    350\u001b[0m     \u001b[38;5;28;01mif\u001b[39;00m \u001b[38;5;28mlen\u001b[39m(servers) \u001b[38;5;241m==\u001b[39m \u001b[38;5;241m1\u001b[39m:\n",
      "File \u001b[1;32m~\\AppData\\Roaming\\Python\\Python312\\site-packages\\pymongo\\topology.py:253\u001b[0m, in \u001b[0;36mTopology.select_servers\u001b[1;34m(self, selector, operation, server_selection_timeout, address, operation_id)\u001b[0m\n\u001b[0;32m    250\u001b[0m     server_timeout \u001b[38;5;241m=\u001b[39m server_selection_timeout\n\u001b[0;32m    252\u001b[0m \u001b[38;5;28;01mwith\u001b[39;00m \u001b[38;5;28mself\u001b[39m\u001b[38;5;241m.\u001b[39m_lock:\n\u001b[1;32m--> 253\u001b[0m     server_descriptions \u001b[38;5;241m=\u001b[39m \u001b[38;5;28;43mself\u001b[39;49m\u001b[38;5;241;43m.\u001b[39;49m\u001b[43m_select_servers_loop\u001b[49m\u001b[43m(\u001b[49m\n\u001b[0;32m    254\u001b[0m \u001b[43m        \u001b[49m\u001b[43mselector\u001b[49m\u001b[43m,\u001b[49m\u001b[43m \u001b[49m\u001b[43mserver_timeout\u001b[49m\u001b[43m,\u001b[49m\u001b[43m \u001b[49m\u001b[43moperation\u001b[49m\u001b[43m,\u001b[49m\u001b[43m \u001b[49m\u001b[43moperation_id\u001b[49m\u001b[43m,\u001b[49m\u001b[43m \u001b[49m\u001b[43maddress\u001b[49m\n\u001b[0;32m    255\u001b[0m \u001b[43m    \u001b[49m\u001b[43m)\u001b[49m\n\u001b[0;32m    257\u001b[0m     \u001b[38;5;28;01mreturn\u001b[39;00m [\n\u001b[0;32m    258\u001b[0m         cast(Server, \u001b[38;5;28mself\u001b[39m\u001b[38;5;241m.\u001b[39mget_server_by_address(sd\u001b[38;5;241m.\u001b[39maddress)) \u001b[38;5;28;01mfor\u001b[39;00m sd \u001b[38;5;129;01min\u001b[39;00m server_descriptions\n\u001b[0;32m    259\u001b[0m     ]\n",
      "File \u001b[1;32m~\\AppData\\Roaming\\Python\\Python312\\site-packages\\pymongo\\topology.py:303\u001b[0m, in \u001b[0;36mTopology._select_servers_loop\u001b[1;34m(self, selector, timeout, operation, operation_id, address)\u001b[0m\n\u001b[0;32m    292\u001b[0m     \u001b[38;5;28;01mif\u001b[39;00m _SERVER_SELECTION_LOGGER\u001b[38;5;241m.\u001b[39misEnabledFor(logging\u001b[38;5;241m.\u001b[39mDEBUG):\n\u001b[0;32m    293\u001b[0m         _debug_log(\n\u001b[0;32m    294\u001b[0m             _SERVER_SELECTION_LOGGER,\n\u001b[0;32m    295\u001b[0m             message\u001b[38;5;241m=\u001b[39m_ServerSelectionStatusMessage\u001b[38;5;241m.\u001b[39mFAILED,\n\u001b[1;32m   (...)\u001b[0m\n\u001b[0;32m    301\u001b[0m             failure\u001b[38;5;241m=\u001b[39m\u001b[38;5;28mself\u001b[39m\u001b[38;5;241m.\u001b[39m_error_message(selector),\n\u001b[0;32m    302\u001b[0m         )\n\u001b[1;32m--> 303\u001b[0m     \u001b[38;5;28;01mraise\u001b[39;00m ServerSelectionTimeoutError(\n\u001b[0;32m    304\u001b[0m         \u001b[38;5;124mf\u001b[39m\u001b[38;5;124m\"\u001b[39m\u001b[38;5;132;01m{\u001b[39;00m\u001b[38;5;28mself\u001b[39m\u001b[38;5;241m.\u001b[39m_error_message(selector)\u001b[38;5;132;01m}\u001b[39;00m\u001b[38;5;124m, Timeout: \u001b[39m\u001b[38;5;132;01m{\u001b[39;00mtimeout\u001b[38;5;132;01m}\u001b[39;00m\u001b[38;5;124ms, Topology Description: \u001b[39m\u001b[38;5;132;01m{\u001b[39;00m\u001b[38;5;28mself\u001b[39m\u001b[38;5;241m.\u001b[39mdescription\u001b[38;5;132;01m!r}\u001b[39;00m\u001b[38;5;124m\"\u001b[39m\n\u001b[0;32m    305\u001b[0m     )\n\u001b[0;32m    307\u001b[0m \u001b[38;5;28;01mif\u001b[39;00m \u001b[38;5;129;01mnot\u001b[39;00m logged_waiting:\n\u001b[0;32m    308\u001b[0m     _debug_log(\n\u001b[0;32m    309\u001b[0m         _SERVER_SELECTION_LOGGER,\n\u001b[0;32m    310\u001b[0m         message\u001b[38;5;241m=\u001b[39m_ServerSelectionStatusMessage\u001b[38;5;241m.\u001b[39mWAITING,\n\u001b[1;32m   (...)\u001b[0m\n\u001b[0;32m    316\u001b[0m         remainingTimeMS\u001b[38;5;241m=\u001b[39m\u001b[38;5;28mint\u001b[39m(end_time \u001b[38;5;241m-\u001b[39m time\u001b[38;5;241m.\u001b[39mmonotonic()),\n\u001b[0;32m    317\u001b[0m     )\n",
      "\u001b[1;31mServerSelectionTimeoutError\u001b[0m: SSL handshake failed: project-shard-00-00.6vv4e.mongodb.net:27017: [SSL: TLSV1_ALERT_INTERNAL_ERROR] tlsv1 alert internal error (_ssl.c:1000) (configured timeouts: socketTimeoutMS: 20000.0ms, connectTimeoutMS: 20000.0ms),SSL handshake failed: project-shard-00-02.6vv4e.mongodb.net:27017: [SSL: TLSV1_ALERT_INTERNAL_ERROR] tlsv1 alert internal error (_ssl.c:1000) (configured timeouts: socketTimeoutMS: 20000.0ms, connectTimeoutMS: 20000.0ms),SSL handshake failed: project-shard-00-01.6vv4e.mongodb.net:27017: [SSL: TLSV1_ALERT_INTERNAL_ERROR] tlsv1 alert internal error (_ssl.c:1000) (configured timeouts: socketTimeoutMS: 20000.0ms, connectTimeoutMS: 20000.0ms), Timeout: 30s, Topology Description: <TopologyDescription id: 67bca57f33277903ec11b3f6, topology_type: ReplicaSetNoPrimary, servers: [<ServerDescription ('project-shard-00-00.6vv4e.mongodb.net', 27017) server_type: Unknown, rtt: None, error=AutoReconnect('SSL handshake failed: project-shard-00-00.6vv4e.mongodb.net:27017: [SSL: TLSV1_ALERT_INTERNAL_ERROR] tlsv1 alert internal error (_ssl.c:1000) (configured timeouts: socketTimeoutMS: 20000.0ms, connectTimeoutMS: 20000.0ms)')>, <ServerDescription ('project-shard-00-01.6vv4e.mongodb.net', 27017) server_type: Unknown, rtt: None, error=AutoReconnect('SSL handshake failed: project-shard-00-01.6vv4e.mongodb.net:27017: [SSL: TLSV1_ALERT_INTERNAL_ERROR] tlsv1 alert internal error (_ssl.c:1000) (configured timeouts: socketTimeoutMS: 20000.0ms, connectTimeoutMS: 20000.0ms)')>, <ServerDescription ('project-shard-00-02.6vv4e.mongodb.net', 27017) server_type: Unknown, rtt: None, error=AutoReconnect('SSL handshake failed: project-shard-00-02.6vv4e.mongodb.net:27017: [SSL: TLSV1_ALERT_INTERNAL_ERROR] tlsv1 alert internal error (_ssl.c:1000) (configured timeouts: socketTimeoutMS: 20000.0ms, connectTimeoutMS: 20000.0ms)')>]>"
     ]
    }
   ],
   "source": [
    "image_data = fs.find_one({\"filename\": \"clustering.png\"})\n",
    "image_data_list = []\n",
    "for i in query_results[\"matches\"]:\n",
    "    filename = i[\"id\"]\n",
    "    image_data = fs.find_one({\"filename\": filename})\n",
    "    image_data_list.append(image_data)"
   ]
  },
  {
   "cell_type": "code",
   "execution_count": 42,
   "id": "52c4ada0555646ac",
   "metadata": {
    "ExecuteTime": {
     "end_time": "2025-02-10T23:21:26.333765Z",
     "start_time": "2025-02-10T23:21:26.329184Z"
    }
   },
   "outputs": [
    {
     "data": {
      "text/plain": [
       "[]"
      ]
     },
     "execution_count": 42,
     "metadata": {},
     "output_type": "execute_result"
    }
   ],
   "source": [
    "image_data_list"
   ]
  },
  {
   "cell_type": "code",
   "execution_count": 43,
   "id": "afff6c6b36f31186",
   "metadata": {
    "ExecuteTime": {
     "end_time": "2025-02-10T23:21:28.661599Z",
     "start_time": "2025-02-10T23:21:28.642496Z"
    }
   },
   "outputs": [],
   "source": [
    "from PIL import Image, ImageChops\n",
    "import io\n",
    "import hashlib\n",
    "import numpy as np\n",
    "from skimage.metrics import structural_similarity as ssim\n",
    "\n",
    "def images_are_equal(img1, img2):\n",
    "    \"\"\"Check if two images are identical pixel by pixel.\"\"\"\n",
    "    return ImageChops.difference(img1, img2).getbbox() is None\n",
    "\n",
    "def hash_image(image):\n",
    "    \"\"\"Compute hash of an image.\"\"\"\n",
    "    hasher = hashlib.md5()\n",
    "    hasher.update(image.tobytes())  # Convert image to bytes and hash\n",
    "    return hasher.hexdigest()\n",
    "\n",
    "def images_are_similar(img1, img2, threshold=0.7):\n",
    "    \"\"\"Compare two images using SSIM after resizing them to the same dimensions.\"\"\"\n",
    "    \n",
    "    # Convert to grayscale\n",
    "    img1_gray = img1.convert('L')\n",
    "    img2_gray = img2.convert('L')\n",
    "\n",
    "    # Resize images to the same size\n",
    "    common_size = (min(img1_gray.width, img2_gray.width), min(img1_gray.height, img2_gray.height))\n",
    "    img1_resized = img1_gray.resize(common_size, Image.LANCZOS)\n",
    "    img2_resized = img2_gray.resize(common_size, Image.LANCZOS)\n",
    "\n",
    "    # Convert to NumPy arrays\n",
    "    img1_np = np.array(img1_resized)\n",
    "    img2_np = np.array(img2_resized)\n",
    "\n",
    "    # Compute SSIM similarity\n",
    "    similarity = ssim(img1_np, img2_np)\n",
    "    print(similarity)\n",
    "    return similarity > threshold  # Return True if similar"
   ]
  },
  {
   "cell_type": "code",
   "execution_count": 46,
   "id": "e05e5d96b152baf5",
   "metadata": {
    "ExecuteTime": {
     "end_time": "2025-02-10T23:21:35.802157Z",
     "start_time": "2025-02-10T23:21:32.359656Z"
    }
   },
   "outputs": [],
   "source": [
    "from PIL import Image, ImageChops\n",
    "import io\n",
    "import hashlib\n",
    "import numpy as np\n",
    "from skimage.metrics import structural_similarity as ssim\n",
    "\n",
    "\n",
    "\n",
    "if len(image_data_list)>0:\n",
    "    local_image_list = []\n",
    "    hashes = set()\n",
    "    user_input = input(\"\"\"\n",
    "    To use similarity, enter the number 1\n",
    "    To use hashing comparison, enter the number 2\n",
    "    To use pixel to pixel comparison, enter the number 3\n",
    "    \"\"\")\n",
    "    \n",
    "    for j in image_data_list:\n",
    "        if j:\n",
    "            # Convert binary data to a PIL Image\n",
    "            image = Image.open(io.BytesIO(j.read()))\n",
    "            \n",
    "            if user_input.strip() == \"1\":\n",
    "                duplicate_found = False\n",
    "                for stored_image in local_image_list:\n",
    "                    if images_are_similar(stored_image, image):\n",
    "                        print(f\"⚠️ Similar image found at index {j}\")\n",
    "                        duplicate_found = True\n",
    "                        break\n",
    "        \n",
    "                if not duplicate_found:\n",
    "                    local_image_list.append(image)\n",
    "                    image.show()\n",
    "            \n",
    "            elif user_input.strip() == \"2\":\n",
    "                img_hash = hash_image(image)\n",
    "                if img_hash in hashes:\n",
    "                    print(f\"⚠️ Duplicate image found at index {j}\")\n",
    "                else:\n",
    "                    hashes.add(img_hash)\n",
    "                    image.show()\n",
    "            \n",
    "            elif user_input.strip() == \"3\":\n",
    "                duplicate_found = False\n",
    "                for stored_image in local_image_list:\n",
    "                    if images_are_equal(stored_image, image):\n",
    "                        print(f\"⚠️ Duplicate image found at index {j}\")\n",
    "                        duplicate_found = True\n",
    "                        break\n",
    "    \n",
    "                if not duplicate_found:\n",
    "                    local_image_list.append(image)\n",
    "                    image.show()\n",
    "            else:\n",
    "                print(\"Wrong input!\")\n",
    "                sys.exit(1)\n",
    "            \n",
    "            \n",
    "            # Display the image\n",
    "            # image.show()\n",
    "        else:\n",
    "            print(\"❌ Image not found\")\n",
    "            \n",
    "            \n"
   ]
  },
  {
   "cell_type": "code",
   "execution_count": 47,
   "id": "d0d3f32ee452cb2a",
   "metadata": {
    "ExecuteTime": {
     "end_time": "2025-02-10T23:21:38.973990Z",
     "start_time": "2025-02-10T23:21:38.970399Z"
    }
   },
   "outputs": [
    {
     "ename": "NameError",
     "evalue": "name 'local_image_list' is not defined",
     "output_type": "error",
     "traceback": [
      "\u001b[1;31m---------------------------------------------------------------------------\u001b[0m",
      "\u001b[1;31mNameError\u001b[0m                                 Traceback (most recent call last)",
      "Cell \u001b[1;32mIn[47], line 1\u001b[0m\n\u001b[1;32m----> 1\u001b[0m \u001b[43mlocal_image_list\u001b[49m\n",
      "\u001b[1;31mNameError\u001b[0m: name 'local_image_list' is not defined"
     ]
    }
   ],
   "source": [
    "local_image_list"
   ]
  },
  {
   "cell_type": "markdown",
   "id": "1e015c8e9a01b01e",
   "metadata": {},
   "source": [
    "---\n",
    "break\n",
    "---"
   ]
  },
  {
   "cell_type": "markdown",
   "id": "a025521686269183",
   "metadata": {},
   "source": [
    "# Embedding text and image at the same time"
   ]
  },
  {
   "cell_type": "code",
   "execution_count": 48,
   "id": "d19b676a2b6e657c",
   "metadata": {
    "ExecuteTime": {
     "end_time": "2025-02-10T23:31:47.025527Z",
     "start_time": "2025-02-10T23:31:47.005257Z"
    }
   },
   "outputs": [
    {
     "name": "stdout",
     "output_type": "stream",
     "text": [
      "✅ Successfully encoded 0 images.\n"
     ]
    }
   ],
   "source": [
    "import base64\n",
    "from PIL import Image\n",
    "import io\n",
    "\n",
    "\n",
    "encoded_images = []\n",
    "count = 0\n",
    "\n",
    "if len(image_data_list) > 0:\n",
    "    for j in local_image_list:\n",
    "        if j:\n",
    "            print(f\"Processing image {count + 1}\")\n",
    "            \n",
    "            try:\n",
    "                # Ensure the file pointer is at the start\n",
    "                j.seek(0)\n",
    "                \n",
    "                \n",
    "                # Convert to PNG format and encode\n",
    "                buffered = io.BytesIO()\n",
    "                j.save(buffered, format=\"JPEG\")\n",
    "                \n",
    "                encoded_image = base64.b64encode(buffered.getvalue()).decode(\"utf-8\")\n",
    "                encoded_images.append(encoded_image)\n",
    "                \n",
    "                count += 1\n",
    "            except Exception as e:\n",
    "                print(f\"❌ Error processing image {count + 1}: {e}\")\n",
    "        else:\n",
    "            print(\"❌ Image not found\")\n",
    "\n",
    "# Closing file handlers\n",
    "for img in image_data_list:\n",
    "    img.close()\n",
    "\n",
    "# Displaying the number of successfully encoded images\n",
    "print(f\"✅ Successfully encoded {count} images.\")\n"
   ]
  },
  {
   "cell_type": "code",
   "execution_count": 49,
   "id": "d6a6682fcf296401",
   "metadata": {
    "ExecuteTime": {
     "end_time": "2025-02-10T23:32:04.005160Z",
     "start_time": "2025-02-10T23:32:04.000434Z"
    }
   },
   "outputs": [],
   "source": [
    "# prompt = f\"\"\"You are an expert LLM assistant specialized in answering questions related to computer science/data science/machine learning/LLM. Use the retrieved information from RAG (Retrieved information and Image Descriptions) and your knowledge to respond accurately and clearly to each question.\n",
    "# \n",
    "# Guidelines:\n",
    "# 1. Provide concise and informative answers.\n",
    "# 2. If the question is beyond the scope of your knowledge or the provided information, state, \"I don't know.\"\n",
    "# 3. If the context section (the information that is returned by RAG pipeline) has no information about a part of the question, please express that \"The retrieved information did not contain answer to this question\" but if you can answer it based on your knowledge please do\n",
    "# 4. Use examples where applicable to illustrate your answers.\n",
    "# 5. Maintain a professional and helpful tone.\n",
    "# \n",
    "# Question: {user_query}\n",
    "# \n",
    "# Retrieved Information: {format_docs(retrieved_docs)}\n",
    "# \n",
    "# Answer:\n",
    "# \"\"\"\n",
    "\n",
    "prompt = f\"\"\"\n",
    "Guidelines:\n",
    "1. Provide extensive and informative answers.\n",
    "2. If the question is beyond the scope of your knowledge or the provided information, state, \"I don't know.\"\n",
    "3. If the context section (the information that is returned by RAG pipeline) has no information about a part of the question, please express that \"The retrieved information did not contain answer to this question\" but if you can answer it based on your knowledge please do\n",
    "4. Use examples where applicable to illustrate your answers.\n",
    "5. Maintain a professional and helpful tone.\n",
    "\n",
    "Question: {user_query}\n",
    "\n",
    "Retrieved Information: {format_docs(retrieved_docs)}\n",
    "\n",
    "Answer:\n",
    "\"\"\"\n"
   ]
  },
  {
   "cell_type": "code",
   "execution_count": 50,
   "id": "2ef7707bc5b04715",
   "metadata": {
    "ExecuteTime": {
     "end_time": "2025-02-10T23:32:04.489116Z",
     "start_time": "2025-02-10T23:32:04.486668Z"
    }
   },
   "outputs": [],
   "source": [
    "content = [{\"type\":\"text\", \"text\":prompt}]\n",
    "for img in encoded_images:\n",
    "    content.append({\n",
    "        \"type\":\"image_url\",\n",
    "        \"image_url\":{\n",
    "            \"url\":f\"data:image/jpeg;base64, {img}\"\n",
    "        }\n",
    "    })"
   ]
  },
  {
   "cell_type": "code",
   "execution_count": 51,
   "id": "cd493e60e9c5df84",
   "metadata": {
    "ExecuteTime": {
     "end_time": "2025-02-10T23:32:20.413004Z",
     "start_time": "2025-02-10T23:32:05.297814Z"
    }
   },
   "outputs": [
    {
     "name": "stdout",
     "output_type": "stream",
     "text": [
      "Hyperparameter tuning is a crucial process in machine learning that involves optimizing the parameters that govern the learning process of an algorithm, rather than the internal parameters that are derived during training. These are called hyperparameters, and they play a significant role in determining the performance of a machine learning model. \n",
      "\n",
      "Unlike model parameters, which are determined during the training process (e.g., weights in a linear regression model), hyperparameters are set before the actual training begins. They include settings such as the learning rate of a model, the number of layers in a neural network, the number of neighbors in a k-nearest neighbors (KNN) algorithm, or the maximum depth of a decision tree.\n",
      "\n",
      "### The Importance of Hyperparameter Tuning\n",
      "\n",
      "Hyperparameters can significantly affect the way a model learns and its subsequent accuracy and efficiency. Poorly chosen hyperparameters can lead to underfitting, overfitting, or even computational inefficiencies.\n",
      "\n",
      "### Process of Hyperparameter Tuning\n",
      "\n",
      "1. **Splitting Data**: Typically, the data is divided into training, validation (tuning), and test sets. The model is trained on the training set, and hyperparameter tuning is performed using the validation set to find the best combination of hyperparameters.\n",
      "\n",
      "2. **Search Methods**:\n",
      "   - **Grid Search**: A systematic approach of searching over a specified subset of hyperparameters. It's exhaustive and can be computationally expensive.\n",
      "   - **Random Search**: Instead of trying all possible combinations, it randomly samples from the hyperparameter space. Often more efficient than grid search.\n",
      "   - **Bayesian Optimization, Genetic Algorithms, and others**: More advanced techniques that use past evaluation results to choose the next set of hyperparameters to try, which can be more efficient in finding optimal values.\n",
      "\n",
      "3. **Evaluation**: For each set of hyperparameters tried, the model's performance is evaluated on the validation set. Metrics such as accuracy, F1-score, precision, and recall can be used depending on the problem type.\n",
      "\n",
      "4. **Selection**: The set of hyperparameters that results in the best performance on the validation set is chosen for the final model training.\n",
      "\n",
      "5. **Testing**: After tuning, the model with the optimal hyperparameters is evaluated on the test set to assess its generalization performance.\n",
      "\n",
      "### Example\n",
      "\n",
      "Let's take the example of a support vector machine (SVM) model where two critical hyperparameters are the kernel type and the regularization parameter (C). Hyperparameter tuning would involve experimenting with different values for the C parameter and trying various kernels (e.g., linear, polynomial, RBF) on the validation set to determine which combination yields the best results.\n",
      "\n",
      "By effectively tuning hyperparameters, data scientists can significantly enhance the performance and predictive power of machine learning models. However, finding the optimal set of hyperparameters can often be a non-trivial task that requires careful consideration and computational resources.\n"
     ]
    }
   ],
   "source": [
    "from openai import OpenAI\n",
    "\n",
    "client = OpenAI(api_key=open_ai_key)\n",
    "\n",
    "try:\n",
    "    chat = client.chat.completions.create(\n",
    "        model=\"gpt-4o\",\n",
    "        messages=[\n",
    "            {\n",
    "            \"role\":\"system\",\n",
    "            \"content\":\"You are an expert LLM assistant specialized in answering questions related to computer science/data science/machine learning/LLM. Use the retrieved information from RAG (Retrieved information and Image Descriptions) and your knowledge to respond accurately and clearly to each question.\"\n",
    "        },\n",
    "            {\n",
    "                \"role\": \"user\",\n",
    "                \"content\": content\n",
    "            }\n",
    "        ]\n",
    "    )\n",
    "    \n",
    "    print(chat.choices[0].message.content)\n",
    "except Exception as e:\n",
    "    print(f\"An error occurred: {e}\")"
   ]
  },
  {
   "cell_type": "code",
   "execution_count": null,
   "id": "c3cb8f51",
   "metadata": {},
   "outputs": [],
   "source": []
  }
 ],
 "metadata": {
  "kernelspec": {
   "display_name": "Python 3",
   "language": "python",
   "name": "python3"
  },
  "language_info": {
   "codemirror_mode": {
    "name": "ipython",
    "version": 3
   },
   "file_extension": ".py",
   "mimetype": "text/x-python",
   "name": "python",
   "nbconvert_exporter": "python",
   "pygments_lexer": "ipython3",
   "version": "3.12.3"
  }
 },
 "nbformat": 4,
 "nbformat_minor": 5
}
